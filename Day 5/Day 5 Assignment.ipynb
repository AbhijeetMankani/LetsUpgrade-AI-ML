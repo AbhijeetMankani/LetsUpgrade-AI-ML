{
 "cells": [
  {
   "cell_type": "markdown",
   "metadata": {},
   "source": [
    "# Question 1"
   ]
  },
  {
   "cell_type": "code",
   "execution_count": 1,
   "metadata": {},
   "outputs": [
    {
     "name": "stdout",
     "output_type": "stream",
     "text": [
      "[3, 5, 7, 11, 13, 17, 19, 23, 29, 31, 37, 41, 43, 47, 53, 59, 61, 67, 71, 73]\n"
     ]
    }
   ],
   "source": [
    "prime_list = []\n",
    "primes = 0\n",
    "num=3\n",
    "while(primes<20):\n",
    "    pri = True\n",
    "    for i in range(2, num):\n",
    "        if(num % i ==0):\n",
    "            pri = False\n",
    "            break\n",
    "    if(pri):\n",
    "        primes += 1\n",
    "        prime_list.append(num)\n",
    "    num += 1 \n",
    "    \n",
    "print(prime_list)"
   ]
  },
  {
   "cell_type": "markdown",
   "metadata": {},
   "source": [
    "# Question 2"
   ]
  },
  {
   "cell_type": "code",
   "execution_count": 2,
   "metadata": {},
   "outputs": [
    {
     "name": "stdout",
     "output_type": "stream",
     "text": [
      "1. capitalize: This is an example string\n",
      "2. title: This Is An Example String\n",
      "3. lower: this is an example string\n",
      "4. upper: THIS IS AN EXAMPLE STRING\n",
      "5. casefold: this is an example string\n",
      "6. Find: 8\n",
      "7. EndsWith: True\n",
      "8. index: 22\n",
      "9. isascii: True\n",
      "10. count: 2\n",
      "11. encode: b'this is an example string'\n",
      "12. center:                                      this is an example string                                      \n",
      "13. isalnum: False\n",
      "14. split: ['this', 'is', 'an', 'example', 'string']\n",
      "15. replace: thOs Os an example strOng\n"
     ]
    }
   ],
   "source": [
    "string = \"this is an example string\"\n",
    "\n",
    "# 1.\n",
    "# Capitalize: Capitalizes the 1st letter of string\n",
    "print('1. capitalize:', string.capitalize())\n",
    "\n",
    "# 2.\n",
    "# Title: Puts string in title case(1st letter of each word is capital)\n",
    "print('2. title:', string.title())\n",
    "\n",
    "# 3.\n",
    "# Lower: Puts string in lower case\n",
    "print('3. lower:', string.lower())\n",
    "\n",
    "# 4.\n",
    "# Upper: Puts string in upper case\n",
    "print('4. upper:', string.upper())\n",
    "\n",
    "# 5.\n",
    "# Casefold: Return a version of the string suitable for caseless comparisons.\n",
    "print('5. casefold:', string.casefold())\n",
    "\n",
    "# 6.\n",
    "# Find: Return the lowest index in string where substring sub is found\n",
    "print('6. Find:', string.find('an'))\n",
    "\n",
    "# 7.\n",
    "# EndsWith: Return True if string ends with the specified suffix, False otherwise.\n",
    "print('7. EndsWith:', string.endswith('string'))\n",
    "\n",
    "# 8.\n",
    "# index: Return the lowest index in S where substring sub is found\n",
    "print('8. index:', string.index('ing'))\n",
    "\n",
    "# 9.\n",
    "# isascii: Return True if all characters in the string are ASCII, False otherwise.\n",
    "print('9. isascii:', string.isascii())\n",
    "\n",
    "# 10.\n",
    "# count: Return the number of non-overlapping occurrences of substring sub in\n",
    "print('10. count:', string.count('e'))\n",
    "\n",
    "# 11.\n",
    "# encode: Encode the string using the codec registered for encoding.\n",
    "print('11. encode:', string.encode('UTF-8'))\n",
    "\n",
    "# 12.\n",
    "# center: Return a centered string of length width.\n",
    "print('12. center:', string.center(100))\n",
    "\n",
    "# 13.\n",
    "# isalnum: Return True if the string is an alpha-numeric string, False otherwise.\n",
    "print('13. isalnum:', string.isalnum())\n",
    "\n",
    "# 14.\n",
    "# split: Return a list of the words in the string, using sep as the delimiter string.\n",
    "print('14. split:', string.split(sep = ' '))\n",
    "\n",
    "# 15.\n",
    "# replace: Return a copy with all occurrences of substring old replaced by new.\n",
    "print('15. replace:', string.replace('i', 'O'))\n"
   ]
  },
  {
   "cell_type": "markdown",
   "metadata": {},
   "source": [
    "# Question 3"
   ]
  },
  {
   "cell_type": "code",
   "execution_count": 3,
   "metadata": {},
   "outputs": [
    {
     "name": "stdout",
     "output_type": "stream",
     "text": [
      "Enter string 1 : 123321\n",
      "Enter string 2 : 321123\n",
      "Its both palindrome and anagram\n",
      "Both string 1 and 2 are palindrome\n"
     ]
    }
   ],
   "source": [
    "string1 = input(\"Enter string 1 : \").lower()\n",
    "\n",
    "string2 = input(\"Enter string 2 : \").lower()\n",
    "\n",
    "# Palindrome\n",
    "\n",
    "global p\n",
    "global s\n",
    "s = []\n",
    "\n",
    "if( (string1 == string1[::-1]) or (string2 == string2[::-1]) ):\n",
    "    \n",
    "    p = True\n",
    "    if(string1 == string1[::-1]):\n",
    "        s.append('string 1')\n",
    "    \n",
    "    if(string2 == string2[::-1]):\n",
    "        s.append('string 2')\n",
    "else:\n",
    "    p = False\n",
    "\n",
    "# Anagram\n",
    "\n",
    "global a\n",
    "\n",
    "if(sorted(string1) == sorted(string2)):\n",
    "    a = True\n",
    "else:\n",
    "    a = False\n",
    "\n",
    "    \n",
    "if(p and a):\n",
    "    print(\"Its both palindrome and anagram\")\n",
    "    if(len(s) == 2):\n",
    "        print(\"Both string 1 and 2 are palindrome\")\n",
    "    else:\n",
    "        print(\"Only\", s[0], \"is palindrome\")\n",
    "elif(p):\n",
    "    print(\"Its only palidrome\")\n",
    "    if(len(s) == 2):\n",
    "        print(\"Both string 1 and 2 are palindrome\")\n",
    "    else:\n",
    "        print(\"Only\", s[0], \"is palindrome\")\n",
    "    \n",
    "elif(a):\n",
    "    print(\"Its only anagram\")\n",
    "else:\n",
    "    print(\"Its None\")"
   ]
  },
  {
   "cell_type": "markdown",
   "metadata": {},
   "source": [
    "# Question 4"
   ]
  },
  {
   "cell_type": "code",
   "execution_count": 4,
   "metadata": {},
   "outputs": [
    {
     "name": "stdout",
     "output_type": "stream",
     "text": [
      "Dr. Darshan Ingle @AI-ML Trainer\n",
      "drdarshaningleaimltrainer\n"
     ]
    }
   ],
   "source": [
    "def string_function(String):\n",
    "    sl = []\n",
    "    for i in String:\n",
    "        if(i.isalpha()):\n",
    "            sl.append(i)\n",
    "    return ''.join(sl).lower()\n",
    "\n",
    "\n",
    "print(string_function(input()))"
   ]
  }
 ],
 "metadata": {
  "kernelspec": {
   "display_name": "Python 3",
   "language": "python",
   "name": "python3"
  },
  "language_info": {
   "codemirror_mode": {
    "name": "ipython",
    "version": 3
   },
   "file_extension": ".py",
   "mimetype": "text/x-python",
   "name": "python",
   "nbconvert_exporter": "python",
   "pygments_lexer": "ipython3",
   "version": "3.8.2"
  }
 },
 "nbformat": 4,
 "nbformat_minor": 4
}
