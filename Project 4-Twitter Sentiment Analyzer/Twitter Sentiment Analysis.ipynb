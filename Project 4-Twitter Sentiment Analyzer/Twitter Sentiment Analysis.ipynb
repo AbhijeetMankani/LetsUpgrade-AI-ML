{
 "cells": [
  {
   "cell_type": "markdown",
   "metadata": {},
   "source": [
    " ### We will collect data using the Twitter API"
   ]
  },
  {
   "cell_type": "code",
   "execution_count": 2,
   "metadata": {},
   "outputs": [],
   "source": [
    "import numpy as np\n",
    "import pandas as pd\n",
    "import tweepy\n",
    "import json"
   ]
  },
  {
   "cell_type": "code",
   "execution_count": 4,
   "metadata": {},
   "outputs": [],
   "source": [
    "consumer_key = \"yjzLb8ubK2Ep0IMj1ZE82t1wx\"\n",
    "consumer_secret = \"UDzL6BOe5s8O4LOqmE7h8KQFkOMi5E44IsOECQliAazH7mSndb\"\n",
    "access_token = \"1322800640863608833-K7VZNTjLVwXpOEXuQuiMnIRGhMKCkf\"\n",
    "access_token_secret = \"9RbBryX9wYKMnbUgQSBXFCxZPy3G4zgyClqid19K7mqcf\""
   ]
  },
  {
   "cell_type": "code",
   "execution_count": 6,
   "metadata": {},
   "outputs": [],
   "source": [
    "auth = tweepy.OAuthHandler(consumer_key, consumer_secret)\n",
    "auth.set_access_token(access_token, access_token_secret)\n",
    "api = tweepy.API(auth)"
   ]
  },
  {
   "cell_type": "code",
   "execution_count": 7,
   "metadata": {},
   "outputs": [],
   "source": [
    "query = \"COVID-19 cases in India\""
   ]
  },
  {
   "cell_type": "code",
   "execution_count": 12,
   "metadata": {},
   "outputs": [
    {
     "name": "stdout",
     "output_type": "stream",
     "text": [
      "Status(_api=<tweepy.api.API object at 0x000001AD82B86E48>, _json={'created_at': 'Sun Nov 01 08:41:03 +0000 2020', 'id': 1322820939311157249, 'id_str': '1322820939311157249', 'full_text': 'IPL 2020: Bowlers’ day out as MI, SRH clinch dominating wins over DC, RCB – Firstcricket News ,\\xa0Firstpost https://t.co/iQ07t8ju7X', 'truncated': False, 'display_text_range': [0, 129], 'entities': {'hashtags': [], 'symbols': [], 'user_mentions': [], 'urls': [{'url': 'https://t.co/iQ07t8ju7X', 'expanded_url': 'https://icj24.com/ipl-2020-bowlers-day-out-as-mi-srh-clinch-dominating-wins-over-dc-rcb-firstcricket-news-firstpost/', 'display_url': 'icj24.com/ipl-2020-bowle…', 'indices': [106, 129]}]}, 'metadata': {'iso_language_code': 'en', 'result_type': 'recent'}, 'source': '<a href=\"http://publicize.wp.com/\" rel=\"nofollow\">WordPress.com</a>', 'in_reply_to_status_id': None, 'in_reply_to_status_id_str': None, 'in_reply_to_user_id': None, 'in_reply_to_user_id_str': None, 'in_reply_to_screen_name': None, 'user': {'id': 916547599900884992, 'id_str': '916547599900884992', 'name': 'I Connect Journal', 'screen_name': 'icjtv24', 'location': 'India', 'description': \"IT’S NOT FOR EVERYONE IT’S ONLY FOR YOU. I Connect Journal is new kind of publication for a new kind of Human. We Cover that stories which MATTER'S you.\", 'url': 'https://t.co/tbVO64lu77', 'entities': {'url': {'urls': [{'url': 'https://t.co/tbVO64lu77', 'expanded_url': 'https://icj24.com', 'display_url': 'icj24.com', 'indices': [0, 23]}]}, 'description': {'urls': []}}, 'protected': False, 'followers_count': 108, 'friends_count': 305, 'listed_count': 0, 'created_at': 'Sat Oct 07 06:15:51 +0000 2017', 'favourites_count': 420, 'utc_offset': None, 'time_zone': None, 'geo_enabled': False, 'verified': False, 'statuses_count': 17652, 'lang': None, 'contributors_enabled': False, 'is_translator': False, 'is_translation_enabled': False, 'profile_background_color': '000000', 'profile_background_image_url': 'http://abs.twimg.com/images/themes/theme1/bg.png', 'profile_background_image_url_https': 'https://abs.twimg.com/images/themes/theme1/bg.png', 'profile_background_tile': False, 'profile_image_url': 'http://pbs.twimg.com/profile_images/1241347702840946688/e4hZJa-a_normal.jpg', 'profile_image_url_https': 'https://pbs.twimg.com/profile_images/1241347702840946688/e4hZJa-a_normal.jpg', 'profile_banner_url': 'https://pbs.twimg.com/profile_banners/916547599900884992/1584797523', 'profile_link_color': '19CF86', 'profile_sidebar_border_color': '000000', 'profile_sidebar_fill_color': '000000', 'profile_text_color': '000000', 'profile_use_background_image': False, 'has_extended_profile': False, 'default_profile': False, 'default_profile_image': False, 'following': False, 'follow_request_sent': False, 'notifications': False, 'translator_type': 'none'}, 'geo': None, 'coordinates': None, 'place': None, 'contributors': None, 'is_quote_status': False, 'retweet_count': 0, 'favorite_count': 0, 'favorited': False, 'retweeted': False, 'possibly_sensitive': False, 'lang': 'en'}, created_at=datetime.datetime(2020, 11, 1, 8, 41, 3), id=1322820939311157249, id_str='1322820939311157249', full_text='IPL 2020: Bowlers’ day out as MI, SRH clinch dominating wins over DC, RCB – Firstcricket News ,\\xa0Firstpost https://t.co/iQ07t8ju7X', truncated=False, display_text_range=[0, 129], entities={'hashtags': [], 'symbols': [], 'user_mentions': [], 'urls': [{'url': 'https://t.co/iQ07t8ju7X', 'expanded_url': 'https://icj24.com/ipl-2020-bowlers-day-out-as-mi-srh-clinch-dominating-wins-over-dc-rcb-firstcricket-news-firstpost/', 'display_url': 'icj24.com/ipl-2020-bowle…', 'indices': [106, 129]}]}, metadata={'iso_language_code': 'en', 'result_type': 'recent'}, source='WordPress.com', source_url='http://publicize.wp.com/', in_reply_to_status_id=None, in_reply_to_status_id_str=None, in_reply_to_user_id=None, in_reply_to_user_id_str=None, in_reply_to_screen_name=None, author=User(_api=<tweepy.api.API object at 0x000001AD82B86E48>, _json={'id': 916547599900884992, 'id_str': '916547599900884992', 'name': 'I Connect Journal', 'screen_name': 'icjtv24', 'location': 'India', 'description': \"IT’S NOT FOR EVERYONE IT’S ONLY FOR YOU. I Connect Journal is new kind of publication for a new kind of Human. We Cover that stories which MATTER'S you.\", 'url': 'https://t.co/tbVO64lu77', 'entities': {'url': {'urls': [{'url': 'https://t.co/tbVO64lu77', 'expanded_url': 'https://icj24.com', 'display_url': 'icj24.com', 'indices': [0, 23]}]}, 'description': {'urls': []}}, 'protected': False, 'followers_count': 108, 'friends_count': 305, 'listed_count': 0, 'created_at': 'Sat Oct 07 06:15:51 +0000 2017', 'favourites_count': 420, 'utc_offset': None, 'time_zone': None, 'geo_enabled': False, 'verified': False, 'statuses_count': 17652, 'lang': None, 'contributors_enabled': False, 'is_translator': False, 'is_translation_enabled': False, 'profile_background_color': '000000', 'profile_background_image_url': 'http://abs.twimg.com/images/themes/theme1/bg.png', 'profile_background_image_url_https': 'https://abs.twimg.com/images/themes/theme1/bg.png', 'profile_background_tile': False, 'profile_image_url': 'http://pbs.twimg.com/profile_images/1241347702840946688/e4hZJa-a_normal.jpg', 'profile_image_url_https': 'https://pbs.twimg.com/profile_images/1241347702840946688/e4hZJa-a_normal.jpg', 'profile_banner_url': 'https://pbs.twimg.com/profile_banners/916547599900884992/1584797523', 'profile_link_color': '19CF86', 'profile_sidebar_border_color': '000000', 'profile_sidebar_fill_color': '000000', 'profile_text_color': '000000', 'profile_use_background_image': False, 'has_extended_profile': False, 'default_profile': False, 'default_profile_image': False, 'following': False, 'follow_request_sent': False, 'notifications': False, 'translator_type': 'none'}, id=916547599900884992, id_str='916547599900884992', name='I Connect Journal', screen_name='icjtv24', location='India', description=\"IT’S NOT FOR EVERYONE IT’S ONLY FOR YOU. I Connect Journal is new kind of publication for a new kind of Human. We Cover that stories which MATTER'S you.\", url='https://t.co/tbVO64lu77', entities={'url': {'urls': [{'url': 'https://t.co/tbVO64lu77', 'expanded_url': 'https://icj24.com', 'display_url': 'icj24.com', 'indices': [0, 23]}]}, 'description': {'urls': []}}, protected=False, followers_count=108, friends_count=305, listed_count=0, created_at=datetime.datetime(2017, 10, 7, 6, 15, 51), favourites_count=420, utc_offset=None, time_zone=None, geo_enabled=False, verified=False, statuses_count=17652, lang=None, contributors_enabled=False, is_translator=False, is_translation_enabled=False, profile_background_color='000000', profile_background_image_url='http://abs.twimg.com/images/themes/theme1/bg.png', profile_background_image_url_https='https://abs.twimg.com/images/themes/theme1/bg.png', profile_background_tile=False, profile_image_url='http://pbs.twimg.com/profile_images/1241347702840946688/e4hZJa-a_normal.jpg', profile_image_url_https='https://pbs.twimg.com/profile_images/1241347702840946688/e4hZJa-a_normal.jpg', profile_banner_url='https://pbs.twimg.com/profile_banners/916547599900884992/1584797523', profile_link_color='19CF86', profile_sidebar_border_color='000000', profile_sidebar_fill_color='000000', profile_text_color='000000', profile_use_background_image=False, has_extended_profile=False, default_profile=False, default_profile_image=False, following=False, follow_request_sent=False, notifications=False, translator_type='none'), user=User(_api=<tweepy.api.API object at 0x000001AD82B86E48>, _json={'id': 916547599900884992, 'id_str': '916547599900884992', 'name': 'I Connect Journal', 'screen_name': 'icjtv24', 'location': 'India', 'description': \"IT’S NOT FOR EVERYONE IT’S ONLY FOR YOU. I Connect Journal is new kind of publication for a new kind of Human. We Cover that stories which MATTER'S you.\", 'url': 'https://t.co/tbVO64lu77', 'entities': {'url': {'urls': [{'url': 'https://t.co/tbVO64lu77', 'expanded_url': 'https://icj24.com', 'display_url': 'icj24.com', 'indices': [0, 23]}]}, 'description': {'urls': []}}, 'protected': False, 'followers_count': 108, 'friends_count': 305, 'listed_count': 0, 'created_at': 'Sat Oct 07 06:15:51 +0000 2017', 'favourites_count': 420, 'utc_offset': None, 'time_zone': None, 'geo_enabled': False, 'verified': False, 'statuses_count': 17652, 'lang': None, 'contributors_enabled': False, 'is_translator': False, 'is_translation_enabled': False, 'profile_background_color': '000000', 'profile_background_image_url': 'http://abs.twimg.com/images/themes/theme1/bg.png', 'profile_background_image_url_https': 'https://abs.twimg.com/images/themes/theme1/bg.png', 'profile_background_tile': False, 'profile_image_url': 'http://pbs.twimg.com/profile_images/1241347702840946688/e4hZJa-a_normal.jpg', 'profile_image_url_https': 'https://pbs.twimg.com/profile_images/1241347702840946688/e4hZJa-a_normal.jpg', 'profile_banner_url': 'https://pbs.twimg.com/profile_banners/916547599900884992/1584797523', 'profile_link_color': '19CF86', 'profile_sidebar_border_color': '000000', 'profile_sidebar_fill_color': '000000', 'profile_text_color': '000000', 'profile_use_background_image': False, 'has_extended_profile': False, 'default_profile': False, 'default_profile_image': False, 'following': False, 'follow_request_sent': False, 'notifications': False, 'translator_type': 'none'}, id=916547599900884992, id_str='916547599900884992', name='I Connect Journal', screen_name='icjtv24', location='India', description=\"IT’S NOT FOR EVERYONE IT’S ONLY FOR YOU. I Connect Journal is new kind of publication for a new kind of Human. We Cover that stories which MATTER'S you.\", url='https://t.co/tbVO64lu77', entities={'url': {'urls': [{'url': 'https://t.co/tbVO64lu77', 'expanded_url': 'https://icj24.com', 'display_url': 'icj24.com', 'indices': [0, 23]}]}, 'description': {'urls': []}}, protected=False, followers_count=108, friends_count=305, listed_count=0, created_at=datetime.datetime(2017, 10, 7, 6, 15, 51), favourites_count=420, utc_offset=None, time_zone=None, geo_enabled=False, verified=False, statuses_count=17652, lang=None, contributors_enabled=False, is_translator=False, is_translation_enabled=False, profile_background_color='000000', profile_background_image_url='http://abs.twimg.com/images/themes/theme1/bg.png', profile_background_image_url_https='https://abs.twimg.com/images/themes/theme1/bg.png', profile_background_tile=False, profile_image_url='http://pbs.twimg.com/profile_images/1241347702840946688/e4hZJa-a_normal.jpg', profile_image_url_https='https://pbs.twimg.com/profile_images/1241347702840946688/e4hZJa-a_normal.jpg', profile_banner_url='https://pbs.twimg.com/profile_banners/916547599900884992/1584797523', profile_link_color='19CF86', profile_sidebar_border_color='000000', profile_sidebar_fill_color='000000', profile_text_color='000000', profile_use_background_image=False, has_extended_profile=False, default_profile=False, default_profile_image=False, following=False, follow_request_sent=False, notifications=False, translator_type='none'), geo=None, coordinates=None, place=None, contributors=None, is_quote_status=False, retweet_count=0, favorite_count=0, favorited=False, retweeted=False, possibly_sensitive=False, lang='en') \n",
      "\n",
      "--------------------------------------\n",
      "\n",
      "Status(_api=<tweepy.api.API object at 0x000001AD82B86E48>, _json={'created_at': 'Sun Nov 01 07:15:01 +0000 2020', 'id': 1322799289781821440, 'id_str': '1322799289781821440', 'full_text': 'IPL 2020 : MI qualified and will be on 1st position. Whoever wins between DC and RCB will end up in 2nd position. 3rd and 4th position team will be on 14 points. What a climax. \\nWorld Best Cricket Tournament \\n#IPL2020 \\n#DC\\n#MI\\n#RCB\\n#KKR \\n#SRH \\n#RR\\n#KXIP', 'truncated': False, 'display_text_range': [0, 253], 'entities': {'hashtags': [{'text': 'IPL2020', 'indices': [209, 217]}, {'text': 'DC', 'indices': [219, 222]}, {'text': 'MI', 'indices': [223, 226]}, {'text': 'RCB', 'indices': [227, 231]}, {'text': 'KKR', 'indices': [232, 236]}, {'text': 'SRH', 'indices': [238, 242]}, {'text': 'RR', 'indices': [244, 247]}, {'text': 'KXIP', 'indices': [248, 253]}], 'symbols': [], 'user_mentions': [], 'urls': []}, 'metadata': {'iso_language_code': 'en', 'result_type': 'recent'}, 'source': '<a href=\"http://twitter.com/download/android\" rel=\"nofollow\">Twitter for Android</a>', 'in_reply_to_status_id': None, 'in_reply_to_status_id_str': None, 'in_reply_to_user_id': None, 'in_reply_to_user_id_str': None, 'in_reply_to_screen_name': None, 'user': {'id': 559311166, 'id_str': '559311166', 'name': 'Abdul Aleem', 'screen_name': 'iAbdul_Aleem', 'location': 'India', 'description': 'Proud to be an Indian 🇮🇳 |\\nStudent | Cricket lover | Watching movies |\\nSRK and Kohli fan', 'url': 'https://t.co/bVSNkaEtPP', 'entities': {'url': {'urls': [{'url': 'https://t.co/bVSNkaEtPP', 'expanded_url': 'https://www.facebook.com/abdulaleemfaisal', 'display_url': 'facebook.com/abdulaleemfais…', 'indices': [0, 23]}]}, 'description': {'urls': []}}, 'protected': False, 'followers_count': 141, 'friends_count': 147, 'listed_count': 0, 'created_at': 'Sat Apr 21 07:55:19 +0000 2012', 'favourites_count': 1917, 'utc_offset': None, 'time_zone': None, 'geo_enabled': True, 'verified': False, 'statuses_count': 4148, 'lang': None, 'contributors_enabled': False, 'is_translator': False, 'is_translation_enabled': False, 'profile_background_color': 'C0DEED', 'profile_background_image_url': 'http://abs.twimg.com/images/themes/theme1/bg.png', 'profile_background_image_url_https': 'https://abs.twimg.com/images/themes/theme1/bg.png', 'profile_background_tile': False, 'profile_image_url': 'http://pbs.twimg.com/profile_images/1295463601860259841/xyBP1jEp_normal.jpg', 'profile_image_url_https': 'https://pbs.twimg.com/profile_images/1295463601860259841/xyBP1jEp_normal.jpg', 'profile_banner_url': 'https://pbs.twimg.com/profile_banners/559311166/1597696167', 'profile_link_color': '1DA1F2', 'profile_sidebar_border_color': 'C0DEED', 'profile_sidebar_fill_color': 'DDEEF6', 'profile_text_color': '333333', 'profile_use_background_image': True, 'has_extended_profile': True, 'default_profile': True, 'default_profile_image': False, 'following': False, 'follow_request_sent': False, 'notifications': False, 'translator_type': 'none'}, 'geo': None, 'coordinates': None, 'place': None, 'contributors': None, 'is_quote_status': False, 'retweet_count': 0, 'favorite_count': 0, 'favorited': False, 'retweeted': False, 'lang': 'en'}, created_at=datetime.datetime(2020, 11, 1, 7, 15, 1), id=1322799289781821440, id_str='1322799289781821440', full_text='IPL 2020 : MI qualified and will be on 1st position. Whoever wins between DC and RCB will end up in 2nd position. 3rd and 4th position team will be on 14 points. What a climax. \\nWorld Best Cricket Tournament \\n#IPL2020 \\n#DC\\n#MI\\n#RCB\\n#KKR \\n#SRH \\n#RR\\n#KXIP', truncated=False, display_text_range=[0, 253], entities={'hashtags': [{'text': 'IPL2020', 'indices': [209, 217]}, {'text': 'DC', 'indices': [219, 222]}, {'text': 'MI', 'indices': [223, 226]}, {'text': 'RCB', 'indices': [227, 231]}, {'text': 'KKR', 'indices': [232, 236]}, {'text': 'SRH', 'indices': [238, 242]}, {'text': 'RR', 'indices': [244, 247]}, {'text': 'KXIP', 'indices': [248, 253]}], 'symbols': [], 'user_mentions': [], 'urls': []}, metadata={'iso_language_code': 'en', 'result_type': 'recent'}, source='Twitter for Android', source_url='http://twitter.com/download/android', in_reply_to_status_id=None, in_reply_to_status_id_str=None, in_reply_to_user_id=None, in_reply_to_user_id_str=None, in_reply_to_screen_name=None, author=User(_api=<tweepy.api.API object at 0x000001AD82B86E48>, _json={'id': 559311166, 'id_str': '559311166', 'name': 'Abdul Aleem', 'screen_name': 'iAbdul_Aleem', 'location': 'India', 'description': 'Proud to be an Indian 🇮🇳 |\\nStudent | Cricket lover | Watching movies |\\nSRK and Kohli fan', 'url': 'https://t.co/bVSNkaEtPP', 'entities': {'url': {'urls': [{'url': 'https://t.co/bVSNkaEtPP', 'expanded_url': 'https://www.facebook.com/abdulaleemfaisal', 'display_url': 'facebook.com/abdulaleemfais…', 'indices': [0, 23]}]}, 'description': {'urls': []}}, 'protected': False, 'followers_count': 141, 'friends_count': 147, 'listed_count': 0, 'created_at': 'Sat Apr 21 07:55:19 +0000 2012', 'favourites_count': 1917, 'utc_offset': None, 'time_zone': None, 'geo_enabled': True, 'verified': False, 'statuses_count': 4148, 'lang': None, 'contributors_enabled': False, 'is_translator': False, 'is_translation_enabled': False, 'profile_background_color': 'C0DEED', 'profile_background_image_url': 'http://abs.twimg.com/images/themes/theme1/bg.png', 'profile_background_image_url_https': 'https://abs.twimg.com/images/themes/theme1/bg.png', 'profile_background_tile': False, 'profile_image_url': 'http://pbs.twimg.com/profile_images/1295463601860259841/xyBP1jEp_normal.jpg', 'profile_image_url_https': 'https://pbs.twimg.com/profile_images/1295463601860259841/xyBP1jEp_normal.jpg', 'profile_banner_url': 'https://pbs.twimg.com/profile_banners/559311166/1597696167', 'profile_link_color': '1DA1F2', 'profile_sidebar_border_color': 'C0DEED', 'profile_sidebar_fill_color': 'DDEEF6', 'profile_text_color': '333333', 'profile_use_background_image': True, 'has_extended_profile': True, 'default_profile': True, 'default_profile_image': False, 'following': False, 'follow_request_sent': False, 'notifications': False, 'translator_type': 'none'}, id=559311166, id_str='559311166', name='Abdul Aleem', screen_name='iAbdul_Aleem', location='India', description='Proud to be an Indian 🇮🇳 |\\nStudent | Cricket lover | Watching movies |\\nSRK and Kohli fan', url='https://t.co/bVSNkaEtPP', entities={'url': {'urls': [{'url': 'https://t.co/bVSNkaEtPP', 'expanded_url': 'https://www.facebook.com/abdulaleemfaisal', 'display_url': 'facebook.com/abdulaleemfais…', 'indices': [0, 23]}]}, 'description': {'urls': []}}, protected=False, followers_count=141, friends_count=147, listed_count=0, created_at=datetime.datetime(2012, 4, 21, 7, 55, 19), favourites_count=1917, utc_offset=None, time_zone=None, geo_enabled=True, verified=False, statuses_count=4148, lang=None, contributors_enabled=False, is_translator=False, is_translation_enabled=False, profile_background_color='C0DEED', profile_background_image_url='http://abs.twimg.com/images/themes/theme1/bg.png', profile_background_image_url_https='https://abs.twimg.com/images/themes/theme1/bg.png', profile_background_tile=False, profile_image_url='http://pbs.twimg.com/profile_images/1295463601860259841/xyBP1jEp_normal.jpg', profile_image_url_https='https://pbs.twimg.com/profile_images/1295463601860259841/xyBP1jEp_normal.jpg', profile_banner_url='https://pbs.twimg.com/profile_banners/559311166/1597696167', profile_link_color='1DA1F2', profile_sidebar_border_color='C0DEED', profile_sidebar_fill_color='DDEEF6', profile_text_color='333333', profile_use_background_image=True, has_extended_profile=True, default_profile=True, default_profile_image=False, following=False, follow_request_sent=False, notifications=False, translator_type='none'), user=User(_api=<tweepy.api.API object at 0x000001AD82B86E48>, _json={'id': 559311166, 'id_str': '559311166', 'name': 'Abdul Aleem', 'screen_name': 'iAbdul_Aleem', 'location': 'India', 'description': 'Proud to be an Indian 🇮🇳 |\\nStudent | Cricket lover | Watching movies |\\nSRK and Kohli fan', 'url': 'https://t.co/bVSNkaEtPP', 'entities': {'url': {'urls': [{'url': 'https://t.co/bVSNkaEtPP', 'expanded_url': 'https://www.facebook.com/abdulaleemfaisal', 'display_url': 'facebook.com/abdulaleemfais…', 'indices': [0, 23]}]}, 'description': {'urls': []}}, 'protected': False, 'followers_count': 141, 'friends_count': 147, 'listed_count': 0, 'created_at': 'Sat Apr 21 07:55:19 +0000 2012', 'favourites_count': 1917, 'utc_offset': None, 'time_zone': None, 'geo_enabled': True, 'verified': False, 'statuses_count': 4148, 'lang': None, 'contributors_enabled': False, 'is_translator': False, 'is_translation_enabled': False, 'profile_background_color': 'C0DEED', 'profile_background_image_url': 'http://abs.twimg.com/images/themes/theme1/bg.png', 'profile_background_image_url_https': 'https://abs.twimg.com/images/themes/theme1/bg.png', 'profile_background_tile': False, 'profile_image_url': 'http://pbs.twimg.com/profile_images/1295463601860259841/xyBP1jEp_normal.jpg', 'profile_image_url_https': 'https://pbs.twimg.com/profile_images/1295463601860259841/xyBP1jEp_normal.jpg', 'profile_banner_url': 'https://pbs.twimg.com/profile_banners/559311166/1597696167', 'profile_link_color': '1DA1F2', 'profile_sidebar_border_color': 'C0DEED', 'profile_sidebar_fill_color': 'DDEEF6', 'profile_text_color': '333333', 'profile_use_background_image': True, 'has_extended_profile': True, 'default_profile': True, 'default_profile_image': False, 'following': False, 'follow_request_sent': False, 'notifications': False, 'translator_type': 'none'}, id=559311166, id_str='559311166', name='Abdul Aleem', screen_name='iAbdul_Aleem', location='India', description='Proud to be an Indian 🇮🇳 |\\nStudent | Cricket lover | Watching movies |\\nSRK and Kohli fan', url='https://t.co/bVSNkaEtPP', entities={'url': {'urls': [{'url': 'https://t.co/bVSNkaEtPP', 'expanded_url': 'https://www.facebook.com/abdulaleemfaisal', 'display_url': 'facebook.com/abdulaleemfais…', 'indices': [0, 23]}]}, 'description': {'urls': []}}, protected=False, followers_count=141, friends_count=147, listed_count=0, created_at=datetime.datetime(2012, 4, 21, 7, 55, 19), favourites_count=1917, utc_offset=None, time_zone=None, geo_enabled=True, verified=False, statuses_count=4148, lang=None, contributors_enabled=False, is_translator=False, is_translation_enabled=False, profile_background_color='C0DEED', profile_background_image_url='http://abs.twimg.com/images/themes/theme1/bg.png', profile_background_image_url_https='https://abs.twimg.com/images/themes/theme1/bg.png', profile_background_tile=False, profile_image_url='http://pbs.twimg.com/profile_images/1295463601860259841/xyBP1jEp_normal.jpg', profile_image_url_https='https://pbs.twimg.com/profile_images/1295463601860259841/xyBP1jEp_normal.jpg', profile_banner_url='https://pbs.twimg.com/profile_banners/559311166/1597696167', profile_link_color='1DA1F2', profile_sidebar_border_color='C0DEED', profile_sidebar_fill_color='DDEEF6', profile_text_color='333333', profile_use_background_image=True, has_extended_profile=True, default_profile=True, default_profile_image=False, following=False, follow_request_sent=False, notifications=False, translator_type='none'), geo=None, coordinates=None, place=None, contributors=None, is_quote_status=False, retweet_count=0, favorite_count=0, favorited=False, retweeted=False, lang='en') \n",
      "\n",
      "--------------------------------------\n",
      "\n",
      "Status(_api=<tweepy.api.API object at 0x000001AD82B86E48>, _json={'created_at': 'Sat Oct 31 15:11:57 +0000 2020', 'id': 1322556926438318080, 'id_str': '1322556926438318080', 'full_text': 'Not worried about purple cap, important MI wins, says Jasprit Bumrah https://t.co/okpN46OgTk via Khaleej Times @khaleejtimes #DCvMI #MIvDC #DCvsMI #MIvsDC #YehHaiNayiDilli #OneFamily #IPL #IPL13 #IPL2020 #IPLinUAE #JaspritBumrah #Dream11IPL #RanjiKerala #Cricket', 'truncated': False, 'display_text_range': [0, 262], 'entities': {'hashtags': [{'text': 'DCvMI', 'indices': [125, 131]}, {'text': 'MIvDC', 'indices': [132, 138]}, {'text': 'DCvsMI', 'indices': [139, 146]}, {'text': 'MIvsDC', 'indices': [147, 154]}, {'text': 'YehHaiNayiDilli', 'indices': [155, 171]}, {'text': 'OneFamily', 'indices': [172, 182]}, {'text': 'IPL', 'indices': [183, 187]}, {'text': 'IPL13', 'indices': [188, 194]}, {'text': 'IPL2020', 'indices': [195, 203]}, {'text': 'IPLinUAE', 'indices': [204, 213]}, {'text': 'JaspritBumrah', 'indices': [214, 228]}, {'text': 'Dream11IPL', 'indices': [229, 240]}, {'text': 'RanjiKerala', 'indices': [241, 253]}, {'text': 'Cricket', 'indices': [254, 262]}], 'symbols': [], 'user_mentions': [{'screen_name': 'khaleejtimes', 'name': 'Khaleej Times', 'id': 18860860, 'id_str': '18860860', 'indices': [111, 124]}], 'urls': [{'url': 'https://t.co/okpN46OgTk', 'expanded_url': 'https://cricket.khaleejtimes.com/ipl-2020/news/not-worried-about-purple-cap-important-mi-wins-says-bumrah/1618', 'display_url': 'cricket.khaleejtimes.com/ipl-2020/news/…', 'indices': [69, 92]}]}, 'metadata': {'iso_language_code': 'en', 'result_type': 'recent'}, 'source': '<a href=\"https://mobile.twitter.com\" rel=\"nofollow\">Twitter Web App</a>', 'in_reply_to_status_id': None, 'in_reply_to_status_id_str': None, 'in_reply_to_user_id': None, 'in_reply_to_user_id_str': None, 'in_reply_to_screen_name': None, 'user': {'id': 3141774285, 'id_str': '3141774285', 'name': 'Team RanjiKerala', 'screen_name': 'RanjiKerala', 'location': 'RT on #RanjiKerala -  🏏', 'description': 'We Support the Kerala Cricket Team & cover all their matches. Also Tweet & RT on Sports Alert/Scores/Updates/Players news/Thoughts/ Match reports & Expert views', 'url': None, 'entities': {'description': {'urls': []}}, 'protected': False, 'followers_count': 4747, 'friends_count': 4709, 'listed_count': 23, 'created_at': 'Mon Apr 06 20:25:35 +0000 2015', 'favourites_count': 12168, 'utc_offset': None, 'time_zone': None, 'geo_enabled': True, 'verified': False, 'statuses_count': 20704, 'lang': None, 'contributors_enabled': False, 'is_translator': False, 'is_translation_enabled': False, 'profile_background_color': '000000', 'profile_background_image_url': 'http://abs.twimg.com/images/themes/theme1/bg.png', 'profile_background_image_url_https': 'https://abs.twimg.com/images/themes/theme1/bg.png', 'profile_background_tile': False, 'profile_image_url': 'http://pbs.twimg.com/profile_images/1249743670322044930/dQW6Ndsg_normal.jpg', 'profile_image_url_https': 'https://pbs.twimg.com/profile_images/1249743670322044930/dQW6Ndsg_normal.jpg', 'profile_banner_url': 'https://pbs.twimg.com/profile_banners/3141774285/1558548239', 'profile_link_color': 'DD2E44', 'profile_sidebar_border_color': '000000', 'profile_sidebar_fill_color': '000000', 'profile_text_color': '000000', 'profile_use_background_image': False, 'has_extended_profile': False, 'default_profile': False, 'default_profile_image': False, 'following': False, 'follow_request_sent': False, 'notifications': False, 'translator_type': 'none'}, 'geo': None, 'coordinates': None, 'place': None, 'contributors': None, 'is_quote_status': False, 'retweet_count': 0, 'favorite_count': 0, 'favorited': False, 'retweeted': False, 'possibly_sensitive': False, 'lang': 'en'}, created_at=datetime.datetime(2020, 10, 31, 15, 11, 57), id=1322556926438318080, id_str='1322556926438318080', full_text='Not worried about purple cap, important MI wins, says Jasprit Bumrah https://t.co/okpN46OgTk via Khaleej Times @khaleejtimes #DCvMI #MIvDC #DCvsMI #MIvsDC #YehHaiNayiDilli #OneFamily #IPL #IPL13 #IPL2020 #IPLinUAE #JaspritBumrah #Dream11IPL #RanjiKerala #Cricket', truncated=False, display_text_range=[0, 262], entities={'hashtags': [{'text': 'DCvMI', 'indices': [125, 131]}, {'text': 'MIvDC', 'indices': [132, 138]}, {'text': 'DCvsMI', 'indices': [139, 146]}, {'text': 'MIvsDC', 'indices': [147, 154]}, {'text': 'YehHaiNayiDilli', 'indices': [155, 171]}, {'text': 'OneFamily', 'indices': [172, 182]}, {'text': 'IPL', 'indices': [183, 187]}, {'text': 'IPL13', 'indices': [188, 194]}, {'text': 'IPL2020', 'indices': [195, 203]}, {'text': 'IPLinUAE', 'indices': [204, 213]}, {'text': 'JaspritBumrah', 'indices': [214, 228]}, {'text': 'Dream11IPL', 'indices': [229, 240]}, {'text': 'RanjiKerala', 'indices': [241, 253]}, {'text': 'Cricket', 'indices': [254, 262]}], 'symbols': [], 'user_mentions': [{'screen_name': 'khaleejtimes', 'name': 'Khaleej Times', 'id': 18860860, 'id_str': '18860860', 'indices': [111, 124]}], 'urls': [{'url': 'https://t.co/okpN46OgTk', 'expanded_url': 'https://cricket.khaleejtimes.com/ipl-2020/news/not-worried-about-purple-cap-important-mi-wins-says-bumrah/1618', 'display_url': 'cricket.khaleejtimes.com/ipl-2020/news/…', 'indices': [69, 92]}]}, metadata={'iso_language_code': 'en', 'result_type': 'recent'}, source='Twitter Web App', source_url='https://mobile.twitter.com', in_reply_to_status_id=None, in_reply_to_status_id_str=None, in_reply_to_user_id=None, in_reply_to_user_id_str=None, in_reply_to_screen_name=None, author=User(_api=<tweepy.api.API object at 0x000001AD82B86E48>, _json={'id': 3141774285, 'id_str': '3141774285', 'name': 'Team RanjiKerala', 'screen_name': 'RanjiKerala', 'location': 'RT on #RanjiKerala -  🏏', 'description': 'We Support the Kerala Cricket Team & cover all their matches. Also Tweet & RT on Sports Alert/Scores/Updates/Players news/Thoughts/ Match reports & Expert views', 'url': None, 'entities': {'description': {'urls': []}}, 'protected': False, 'followers_count': 4747, 'friends_count': 4709, 'listed_count': 23, 'created_at': 'Mon Apr 06 20:25:35 +0000 2015', 'favourites_count': 12168, 'utc_offset': None, 'time_zone': None, 'geo_enabled': True, 'verified': False, 'statuses_count': 20704, 'lang': None, 'contributors_enabled': False, 'is_translator': False, 'is_translation_enabled': False, 'profile_background_color': '000000', 'profile_background_image_url': 'http://abs.twimg.com/images/themes/theme1/bg.png', 'profile_background_image_url_https': 'https://abs.twimg.com/images/themes/theme1/bg.png', 'profile_background_tile': False, 'profile_image_url': 'http://pbs.twimg.com/profile_images/1249743670322044930/dQW6Ndsg_normal.jpg', 'profile_image_url_https': 'https://pbs.twimg.com/profile_images/1249743670322044930/dQW6Ndsg_normal.jpg', 'profile_banner_url': 'https://pbs.twimg.com/profile_banners/3141774285/1558548239', 'profile_link_color': 'DD2E44', 'profile_sidebar_border_color': '000000', 'profile_sidebar_fill_color': '000000', 'profile_text_color': '000000', 'profile_use_background_image': False, 'has_extended_profile': False, 'default_profile': False, 'default_profile_image': False, 'following': False, 'follow_request_sent': False, 'notifications': False, 'translator_type': 'none'}, id=3141774285, id_str='3141774285', name='Team RanjiKerala', screen_name='RanjiKerala', location='RT on #RanjiKerala -  🏏', description='We Support the Kerala Cricket Team & cover all their matches. Also Tweet & RT on Sports Alert/Scores/Updates/Players news/Thoughts/ Match reports & Expert views', url=None, entities={'description': {'urls': []}}, protected=False, followers_count=4747, friends_count=4709, listed_count=23, created_at=datetime.datetime(2015, 4, 6, 20, 25, 35), favourites_count=12168, utc_offset=None, time_zone=None, geo_enabled=True, verified=False, statuses_count=20704, lang=None, contributors_enabled=False, is_translator=False, is_translation_enabled=False, profile_background_color='000000', profile_background_image_url='http://abs.twimg.com/images/themes/theme1/bg.png', profile_background_image_url_https='https://abs.twimg.com/images/themes/theme1/bg.png', profile_background_tile=False, profile_image_url='http://pbs.twimg.com/profile_images/1249743670322044930/dQW6Ndsg_normal.jpg', profile_image_url_https='https://pbs.twimg.com/profile_images/1249743670322044930/dQW6Ndsg_normal.jpg', profile_banner_url='https://pbs.twimg.com/profile_banners/3141774285/1558548239', profile_link_color='DD2E44', profile_sidebar_border_color='000000', profile_sidebar_fill_color='000000', profile_text_color='000000', profile_use_background_image=False, has_extended_profile=False, default_profile=False, default_profile_image=False, following=False, follow_request_sent=False, notifications=False, translator_type='none'), user=User(_api=<tweepy.api.API object at 0x000001AD82B86E48>, _json={'id': 3141774285, 'id_str': '3141774285', 'name': 'Team RanjiKerala', 'screen_name': 'RanjiKerala', 'location': 'RT on #RanjiKerala -  🏏', 'description': 'We Support the Kerala Cricket Team & cover all their matches. Also Tweet & RT on Sports Alert/Scores/Updates/Players news/Thoughts/ Match reports & Expert views', 'url': None, 'entities': {'description': {'urls': []}}, 'protected': False, 'followers_count': 4747, 'friends_count': 4709, 'listed_count': 23, 'created_at': 'Mon Apr 06 20:25:35 +0000 2015', 'favourites_count': 12168, 'utc_offset': None, 'time_zone': None, 'geo_enabled': True, 'verified': False, 'statuses_count': 20704, 'lang': None, 'contributors_enabled': False, 'is_translator': False, 'is_translation_enabled': False, 'profile_background_color': '000000', 'profile_background_image_url': 'http://abs.twimg.com/images/themes/theme1/bg.png', 'profile_background_image_url_https': 'https://abs.twimg.com/images/themes/theme1/bg.png', 'profile_background_tile': False, 'profile_image_url': 'http://pbs.twimg.com/profile_images/1249743670322044930/dQW6Ndsg_normal.jpg', 'profile_image_url_https': 'https://pbs.twimg.com/profile_images/1249743670322044930/dQW6Ndsg_normal.jpg', 'profile_banner_url': 'https://pbs.twimg.com/profile_banners/3141774285/1558548239', 'profile_link_color': 'DD2E44', 'profile_sidebar_border_color': '000000', 'profile_sidebar_fill_color': '000000', 'profile_text_color': '000000', 'profile_use_background_image': False, 'has_extended_profile': False, 'default_profile': False, 'default_profile_image': False, 'following': False, 'follow_request_sent': False, 'notifications': False, 'translator_type': 'none'}, id=3141774285, id_str='3141774285', name='Team RanjiKerala', screen_name='RanjiKerala', location='RT on #RanjiKerala -  🏏', description='We Support the Kerala Cricket Team & cover all their matches. Also Tweet & RT on Sports Alert/Scores/Updates/Players news/Thoughts/ Match reports & Expert views', url=None, entities={'description': {'urls': []}}, protected=False, followers_count=4747, friends_count=4709, listed_count=23, created_at=datetime.datetime(2015, 4, 6, 20, 25, 35), favourites_count=12168, utc_offset=None, time_zone=None, geo_enabled=True, verified=False, statuses_count=20704, lang=None, contributors_enabled=False, is_translator=False, is_translation_enabled=False, profile_background_color='000000', profile_background_image_url='http://abs.twimg.com/images/themes/theme1/bg.png', profile_background_image_url_https='https://abs.twimg.com/images/themes/theme1/bg.png', profile_background_tile=False, profile_image_url='http://pbs.twimg.com/profile_images/1249743670322044930/dQW6Ndsg_normal.jpg', profile_image_url_https='https://pbs.twimg.com/profile_images/1249743670322044930/dQW6Ndsg_normal.jpg', profile_banner_url='https://pbs.twimg.com/profile_banners/3141774285/1558548239', profile_link_color='DD2E44', profile_sidebar_border_color='000000', profile_sidebar_fill_color='000000', profile_text_color='000000', profile_use_background_image=False, has_extended_profile=False, default_profile=False, default_profile_image=False, following=False, follow_request_sent=False, notifications=False, translator_type='none'), geo=None, coordinates=None, place=None, contributors=None, is_quote_status=False, retweet_count=0, favorite_count=0, favorited=False, retweeted=False, possibly_sensitive=False, lang='en') \n",
      "\n",
      "--------------------------------------\n",
      "\n",
      "Status(_api=<tweepy.api.API object at 0x000001AD82B86E48>, _json={'created_at': 'Sat Oct 31 09:49:27 +0000 2020', 'id': 1322475764701302784, 'id_str': '1322475764701302784', 'full_text': \"#IPLOnMC I Match 51 🏏 It's @DelhiCapitals vs @mipaltan today. #MI wins the toss and elects to bowl first against #DC 🤩 Track Live: https://t.co/riCnOSwINn\\n\\n#IPL2020 #DCvsMI https://t.co/GdE09iQDlK\", 'truncated': False, 'display_text_range': [0, 172], 'entities': {'hashtags': [{'text': 'IPLOnMC', 'indices': [0, 8]}, {'text': 'MI', 'indices': [62, 65]}, {'text': 'DC', 'indices': [113, 116]}, {'text': 'IPL2020', 'indices': [156, 164]}, {'text': 'DCvsMI', 'indices': [165, 172]}], 'symbols': [], 'user_mentions': [{'screen_name': 'DelhiCapitals', 'name': 'Delhi Capitals (Tweeting from 🇦🇪)', 'id': 176888549, 'id_str': '176888549', 'indices': [27, 41]}, {'screen_name': 'mipaltan', 'name': 'Mumbai Indians', 'id': 106345557, 'id_str': '106345557', 'indices': [45, 54]}], 'urls': [{'url': 'https://t.co/riCnOSwINn', 'expanded_url': 'https://www.moneycontrol.com/news/ipl-2020/', 'display_url': 'moneycontrol.com/news/ipl-2020/', 'indices': [131, 154]}], 'media': [{'id': 1322475753674403841, 'id_str': '1322475753674403841', 'indices': [173, 196], 'media_url': 'http://pbs.twimg.com/media/ElpgsPHUcAES5P9.jpg', 'media_url_https': 'https://pbs.twimg.com/media/ElpgsPHUcAES5P9.jpg', 'url': 'https://t.co/GdE09iQDlK', 'display_url': 'pic.twitter.com/GdE09iQDlK', 'expanded_url': 'https://twitter.com/moneycontrolcom/status/1322475764701302784/photo/1', 'type': 'photo', 'sizes': {'thumb': {'w': 150, 'h': 150, 'resize': 'crop'}, 'large': {'w': 1200, 'h': 675, 'resize': 'fit'}, 'medium': {'w': 1200, 'h': 675, 'resize': 'fit'}, 'small': {'w': 680, 'h': 383, 'resize': 'fit'}}}]}, 'extended_entities': {'media': [{'id': 1322475753674403841, 'id_str': '1322475753674403841', 'indices': [173, 196], 'media_url': 'http://pbs.twimg.com/media/ElpgsPHUcAES5P9.jpg', 'media_url_https': 'https://pbs.twimg.com/media/ElpgsPHUcAES5P9.jpg', 'url': 'https://t.co/GdE09iQDlK', 'display_url': 'pic.twitter.com/GdE09iQDlK', 'expanded_url': 'https://twitter.com/moneycontrolcom/status/1322475764701302784/photo/1', 'type': 'photo', 'sizes': {'thumb': {'w': 150, 'h': 150, 'resize': 'crop'}, 'large': {'w': 1200, 'h': 675, 'resize': 'fit'}, 'medium': {'w': 1200, 'h': 675, 'resize': 'fit'}, 'small': {'w': 680, 'h': 383, 'resize': 'fit'}}}]}, 'metadata': {'iso_language_code': 'en', 'result_type': 'recent'}, 'source': '<a href=\"http://twitter.com/download/android\" rel=\"nofollow\">Twitter for Android</a>', 'in_reply_to_status_id': None, 'in_reply_to_status_id_str': None, 'in_reply_to_user_id': None, 'in_reply_to_user_id_str': None, 'in_reply_to_screen_name': None, 'user': {'id': 68927629, 'id_str': '68927629', 'name': 'moneycontrol', 'screen_name': 'moneycontrolcom', 'location': 'Mumbai', 'description': 'Moneycontrol is India’s No. 1 financial portal. Tune in for breaking news, in-depth analyses, best investment tools. Get #MCPro for exclusive content & benefits', 'url': 'https://t.co/HlzuUG82FN', 'entities': {'url': {'urls': [{'url': 'https://t.co/HlzuUG82FN', 'expanded_url': 'http://www.moneycontrol.com', 'display_url': 'moneycontrol.com', 'indices': [0, 23]}]}, 'description': {'urls': []}}, 'protected': False, 'followers_count': 951389, 'friends_count': 293, 'listed_count': 2508, 'created_at': 'Wed Aug 26 07:55:29 +0000 2009', 'favourites_count': 1064, 'utc_offset': None, 'time_zone': None, 'geo_enabled': False, 'verified': True, 'statuses_count': 273369, 'lang': None, 'contributors_enabled': False, 'is_translator': False, 'is_translation_enabled': False, 'profile_background_color': '000000', 'profile_background_image_url': 'http://abs.twimg.com/images/themes/theme15/bg.png', 'profile_background_image_url_https': 'https://abs.twimg.com/images/themes/theme15/bg.png', 'profile_background_tile': False, 'profile_image_url': 'http://pbs.twimg.com/profile_images/841519699632447488/ea4043nJ_normal.jpg', 'profile_image_url_https': 'https://pbs.twimg.com/profile_images/841519699632447488/ea4043nJ_normal.jpg', 'profile_banner_url': 'https://pbs.twimg.com/profile_banners/68927629/1603098782', 'profile_link_color': '19CF86', 'profile_sidebar_border_color': '000000', 'profile_sidebar_fill_color': '000000', 'profile_text_color': '000000', 'profile_use_background_image': False, 'has_extended_profile': False, 'default_profile': False, 'default_profile_image': False, 'following': False, 'follow_request_sent': False, 'notifications': False, 'translator_type': 'none'}, 'geo': None, 'coordinates': None, 'place': None, 'contributors': None, 'is_quote_status': False, 'retweet_count': 1, 'favorite_count': 5, 'favorited': False, 'retweeted': False, 'possibly_sensitive': False, 'lang': 'en'}, created_at=datetime.datetime(2020, 10, 31, 9, 49, 27), id=1322475764701302784, id_str='1322475764701302784', full_text=\"#IPLOnMC I Match 51 🏏 It's @DelhiCapitals vs @mipaltan today. #MI wins the toss and elects to bowl first against #DC 🤩 Track Live: https://t.co/riCnOSwINn\\n\\n#IPL2020 #DCvsMI https://t.co/GdE09iQDlK\", truncated=False, display_text_range=[0, 172], entities={'hashtags': [{'text': 'IPLOnMC', 'indices': [0, 8]}, {'text': 'MI', 'indices': [62, 65]}, {'text': 'DC', 'indices': [113, 116]}, {'text': 'IPL2020', 'indices': [156, 164]}, {'text': 'DCvsMI', 'indices': [165, 172]}], 'symbols': [], 'user_mentions': [{'screen_name': 'DelhiCapitals', 'name': 'Delhi Capitals (Tweeting from 🇦🇪)', 'id': 176888549, 'id_str': '176888549', 'indices': [27, 41]}, {'screen_name': 'mipaltan', 'name': 'Mumbai Indians', 'id': 106345557, 'id_str': '106345557', 'indices': [45, 54]}], 'urls': [{'url': 'https://t.co/riCnOSwINn', 'expanded_url': 'https://www.moneycontrol.com/news/ipl-2020/', 'display_url': 'moneycontrol.com/news/ipl-2020/', 'indices': [131, 154]}], 'media': [{'id': 1322475753674403841, 'id_str': '1322475753674403841', 'indices': [173, 196], 'media_url': 'http://pbs.twimg.com/media/ElpgsPHUcAES5P9.jpg', 'media_url_https': 'https://pbs.twimg.com/media/ElpgsPHUcAES5P9.jpg', 'url': 'https://t.co/GdE09iQDlK', 'display_url': 'pic.twitter.com/GdE09iQDlK', 'expanded_url': 'https://twitter.com/moneycontrolcom/status/1322475764701302784/photo/1', 'type': 'photo', 'sizes': {'thumb': {'w': 150, 'h': 150, 'resize': 'crop'}, 'large': {'w': 1200, 'h': 675, 'resize': 'fit'}, 'medium': {'w': 1200, 'h': 675, 'resize': 'fit'}, 'small': {'w': 680, 'h': 383, 'resize': 'fit'}}}]}, extended_entities={'media': [{'id': 1322475753674403841, 'id_str': '1322475753674403841', 'indices': [173, 196], 'media_url': 'http://pbs.twimg.com/media/ElpgsPHUcAES5P9.jpg', 'media_url_https': 'https://pbs.twimg.com/media/ElpgsPHUcAES5P9.jpg', 'url': 'https://t.co/GdE09iQDlK', 'display_url': 'pic.twitter.com/GdE09iQDlK', 'expanded_url': 'https://twitter.com/moneycontrolcom/status/1322475764701302784/photo/1', 'type': 'photo', 'sizes': {'thumb': {'w': 150, 'h': 150, 'resize': 'crop'}, 'large': {'w': 1200, 'h': 675, 'resize': 'fit'}, 'medium': {'w': 1200, 'h': 675, 'resize': 'fit'}, 'small': {'w': 680, 'h': 383, 'resize': 'fit'}}}]}, metadata={'iso_language_code': 'en', 'result_type': 'recent'}, source='Twitter for Android', source_url='http://twitter.com/download/android', in_reply_to_status_id=None, in_reply_to_status_id_str=None, in_reply_to_user_id=None, in_reply_to_user_id_str=None, in_reply_to_screen_name=None, author=User(_api=<tweepy.api.API object at 0x000001AD82B86E48>, _json={'id': 68927629, 'id_str': '68927629', 'name': 'moneycontrol', 'screen_name': 'moneycontrolcom', 'location': 'Mumbai', 'description': 'Moneycontrol is India’s No. 1 financial portal. Tune in for breaking news, in-depth analyses, best investment tools. Get #MCPro for exclusive content & benefits', 'url': 'https://t.co/HlzuUG82FN', 'entities': {'url': {'urls': [{'url': 'https://t.co/HlzuUG82FN', 'expanded_url': 'http://www.moneycontrol.com', 'display_url': 'moneycontrol.com', 'indices': [0, 23]}]}, 'description': {'urls': []}}, 'protected': False, 'followers_count': 951389, 'friends_count': 293, 'listed_count': 2508, 'created_at': 'Wed Aug 26 07:55:29 +0000 2009', 'favourites_count': 1064, 'utc_offset': None, 'time_zone': None, 'geo_enabled': False, 'verified': True, 'statuses_count': 273369, 'lang': None, 'contributors_enabled': False, 'is_translator': False, 'is_translation_enabled': False, 'profile_background_color': '000000', 'profile_background_image_url': 'http://abs.twimg.com/images/themes/theme15/bg.png', 'profile_background_image_url_https': 'https://abs.twimg.com/images/themes/theme15/bg.png', 'profile_background_tile': False, 'profile_image_url': 'http://pbs.twimg.com/profile_images/841519699632447488/ea4043nJ_normal.jpg', 'profile_image_url_https': 'https://pbs.twimg.com/profile_images/841519699632447488/ea4043nJ_normal.jpg', 'profile_banner_url': 'https://pbs.twimg.com/profile_banners/68927629/1603098782', 'profile_link_color': '19CF86', 'profile_sidebar_border_color': '000000', 'profile_sidebar_fill_color': '000000', 'profile_text_color': '000000', 'profile_use_background_image': False, 'has_extended_profile': False, 'default_profile': False, 'default_profile_image': False, 'following': False, 'follow_request_sent': False, 'notifications': False, 'translator_type': 'none'}, id=68927629, id_str='68927629', name='moneycontrol', screen_name='moneycontrolcom', location='Mumbai', description='Moneycontrol is India’s No. 1 financial portal. Tune in for breaking news, in-depth analyses, best investment tools. Get #MCPro for exclusive content & benefits', url='https://t.co/HlzuUG82FN', entities={'url': {'urls': [{'url': 'https://t.co/HlzuUG82FN', 'expanded_url': 'http://www.moneycontrol.com', 'display_url': 'moneycontrol.com', 'indices': [0, 23]}]}, 'description': {'urls': []}}, protected=False, followers_count=951389, friends_count=293, listed_count=2508, created_at=datetime.datetime(2009, 8, 26, 7, 55, 29), favourites_count=1064, utc_offset=None, time_zone=None, geo_enabled=False, verified=True, statuses_count=273369, lang=None, contributors_enabled=False, is_translator=False, is_translation_enabled=False, profile_background_color='000000', profile_background_image_url='http://abs.twimg.com/images/themes/theme15/bg.png', profile_background_image_url_https='https://abs.twimg.com/images/themes/theme15/bg.png', profile_background_tile=False, profile_image_url='http://pbs.twimg.com/profile_images/841519699632447488/ea4043nJ_normal.jpg', profile_image_url_https='https://pbs.twimg.com/profile_images/841519699632447488/ea4043nJ_normal.jpg', profile_banner_url='https://pbs.twimg.com/profile_banners/68927629/1603098782', profile_link_color='19CF86', profile_sidebar_border_color='000000', profile_sidebar_fill_color='000000', profile_text_color='000000', profile_use_background_image=False, has_extended_profile=False, default_profile=False, default_profile_image=False, following=False, follow_request_sent=False, notifications=False, translator_type='none'), user=User(_api=<tweepy.api.API object at 0x000001AD82B86E48>, _json={'id': 68927629, 'id_str': '68927629', 'name': 'moneycontrol', 'screen_name': 'moneycontrolcom', 'location': 'Mumbai', 'description': 'Moneycontrol is India’s No. 1 financial portal. Tune in for breaking news, in-depth analyses, best investment tools. Get #MCPro for exclusive content & benefits', 'url': 'https://t.co/HlzuUG82FN', 'entities': {'url': {'urls': [{'url': 'https://t.co/HlzuUG82FN', 'expanded_url': 'http://www.moneycontrol.com', 'display_url': 'moneycontrol.com', 'indices': [0, 23]}]}, 'description': {'urls': []}}, 'protected': False, 'followers_count': 951389, 'friends_count': 293, 'listed_count': 2508, 'created_at': 'Wed Aug 26 07:55:29 +0000 2009', 'favourites_count': 1064, 'utc_offset': None, 'time_zone': None, 'geo_enabled': False, 'verified': True, 'statuses_count': 273369, 'lang': None, 'contributors_enabled': False, 'is_translator': False, 'is_translation_enabled': False, 'profile_background_color': '000000', 'profile_background_image_url': 'http://abs.twimg.com/images/themes/theme15/bg.png', 'profile_background_image_url_https': 'https://abs.twimg.com/images/themes/theme15/bg.png', 'profile_background_tile': False, 'profile_image_url': 'http://pbs.twimg.com/profile_images/841519699632447488/ea4043nJ_normal.jpg', 'profile_image_url_https': 'https://pbs.twimg.com/profile_images/841519699632447488/ea4043nJ_normal.jpg', 'profile_banner_url': 'https://pbs.twimg.com/profile_banners/68927629/1603098782', 'profile_link_color': '19CF86', 'profile_sidebar_border_color': '000000', 'profile_sidebar_fill_color': '000000', 'profile_text_color': '000000', 'profile_use_background_image': False, 'has_extended_profile': False, 'default_profile': False, 'default_profile_image': False, 'following': False, 'follow_request_sent': False, 'notifications': False, 'translator_type': 'none'}, id=68927629, id_str='68927629', name='moneycontrol', screen_name='moneycontrolcom', location='Mumbai', description='Moneycontrol is India’s No. 1 financial portal. Tune in for breaking news, in-depth analyses, best investment tools. Get #MCPro for exclusive content & benefits', url='https://t.co/HlzuUG82FN', entities={'url': {'urls': [{'url': 'https://t.co/HlzuUG82FN', 'expanded_url': 'http://www.moneycontrol.com', 'display_url': 'moneycontrol.com', 'indices': [0, 23]}]}, 'description': {'urls': []}}, protected=False, followers_count=951389, friends_count=293, listed_count=2508, created_at=datetime.datetime(2009, 8, 26, 7, 55, 29), favourites_count=1064, utc_offset=None, time_zone=None, geo_enabled=False, verified=True, statuses_count=273369, lang=None, contributors_enabled=False, is_translator=False, is_translation_enabled=False, profile_background_color='000000', profile_background_image_url='http://abs.twimg.com/images/themes/theme15/bg.png', profile_background_image_url_https='https://abs.twimg.com/images/themes/theme15/bg.png', profile_background_tile=False, profile_image_url='http://pbs.twimg.com/profile_images/841519699632447488/ea4043nJ_normal.jpg', profile_image_url_https='https://pbs.twimg.com/profile_images/841519699632447488/ea4043nJ_normal.jpg', profile_banner_url='https://pbs.twimg.com/profile_banners/68927629/1603098782', profile_link_color='19CF86', profile_sidebar_border_color='000000', profile_sidebar_fill_color='000000', profile_text_color='000000', profile_use_background_image=False, has_extended_profile=False, default_profile=False, default_profile_image=False, following=False, follow_request_sent=False, notifications=False, translator_type='none'), geo=None, coordinates=None, place=None, contributors=None, is_quote_status=False, retweet_count=1, favorite_count=5, favorited=False, retweeted=False, possibly_sensitive=False, lang='en') \n",
      "\n",
      "--------------------------------------\n",
      "\n",
      "Status(_api=<tweepy.api.API object at 0x000001AD82B86E48>, _json={'created_at': 'Sat Oct 31 09:41:02 +0000 2020', 'id': 1322473645747236865, 'id_str': '1322473645747236865', 'full_text': '#IPL2020, DC vs MI: @mipaltan Skipper Kieron Pollard Wins Toss, Elects To Bowl First Against #DelhiCapitals At Dubai\\n\\n#IPLinUAE #DCvsMI \\n\\nhttps://t.co/dohOOWbCAh https://t.co/7pVZlYjnsg', 'truncated': False, 'display_text_range': [0, 161], 'entities': {'hashtags': [{'text': 'IPL2020', 'indices': [0, 8]}, {'text': 'DelhiCapitals', 'indices': [93, 107]}, {'text': 'IPLinUAE', 'indices': [118, 127]}, {'text': 'DCvsMI', 'indices': [128, 135]}], 'symbols': [], 'user_mentions': [{'screen_name': 'mipaltan', 'name': 'Mumbai Indians', 'id': 106345557, 'id_str': '106345557', 'indices': [20, 29]}], 'urls': [{'url': 'https://t.co/dohOOWbCAh', 'expanded_url': 'https://news.abplive.com/sports/cricket/ipl-2020-dc-vs-mi-toss-update-delhi-capitals-vs-mumbai-indians-match-51-at-dubai-1378649', 'display_url': 'news.abplive.com/sports/cricket…', 'indices': [138, 161]}], 'media': [{'id': 1322473576704872448, 'id_str': '1322473576704872448', 'indices': [162, 185], 'media_url': 'http://pbs.twimg.com/media/ElpethRVkAAtV8F.jpg', 'media_url_https': 'https://pbs.twimg.com/media/ElpethRVkAAtV8F.jpg', 'url': 'https://t.co/7pVZlYjnsg', 'display_url': 'pic.twitter.com/7pVZlYjnsg', 'expanded_url': 'https://twitter.com/ABPNews/status/1322473645747236865/photo/1', 'type': 'photo', 'sizes': {'medium': {'w': 900, 'h': 512, 'resize': 'fit'}, 'thumb': {'w': 150, 'h': 150, 'resize': 'crop'}, 'small': {'w': 680, 'h': 387, 'resize': 'fit'}, 'large': {'w': 900, 'h': 512, 'resize': 'fit'}}}]}, 'extended_entities': {'media': [{'id': 1322473576704872448, 'id_str': '1322473576704872448', 'indices': [162, 185], 'media_url': 'http://pbs.twimg.com/media/ElpethRVkAAtV8F.jpg', 'media_url_https': 'https://pbs.twimg.com/media/ElpethRVkAAtV8F.jpg', 'url': 'https://t.co/7pVZlYjnsg', 'display_url': 'pic.twitter.com/7pVZlYjnsg', 'expanded_url': 'https://twitter.com/ABPNews/status/1322473645747236865/photo/1', 'type': 'photo', 'sizes': {'medium': {'w': 900, 'h': 512, 'resize': 'fit'}, 'thumb': {'w': 150, 'h': 150, 'resize': 'crop'}, 'small': {'w': 680, 'h': 387, 'resize': 'fit'}, 'large': {'w': 900, 'h': 512, 'resize': 'fit'}}}]}, 'metadata': {'iso_language_code': 'en', 'result_type': 'recent'}, 'source': '<a href=\"https://mobile.twitter.com\" rel=\"nofollow\">Twitter Web App</a>', 'in_reply_to_status_id': None, 'in_reply_to_status_id_str': None, 'in_reply_to_user_id': None, 'in_reply_to_user_id_str': None, 'in_reply_to_screen_name': None, 'user': {'id': 39240673, 'id_str': '39240673', 'name': 'ABP News', 'screen_name': 'ABPNews', 'location': 'India', 'description': 'Follow for latest news alerts from India', 'url': 'https://t.co/oO7Op9x6aQ', 'entities': {'url': {'urls': [{'url': 'https://t.co/oO7Op9x6aQ', 'expanded_url': 'http://abplive.com', 'display_url': 'abplive.com', 'indices': [0, 23]}]}, 'description': {'urls': []}}, 'protected': False, 'followers_count': 10541108, 'friends_count': 187, 'listed_count': 3917, 'created_at': 'Mon May 11 12:25:51 +0000 2009', 'favourites_count': 120, 'utc_offset': None, 'time_zone': None, 'geo_enabled': True, 'verified': True, 'statuses_count': 271548, 'lang': None, 'contributors_enabled': False, 'is_translator': False, 'is_translation_enabled': False, 'profile_background_color': '00326F', 'profile_background_image_url': 'http://abs.twimg.com/images/themes/theme4/bg.gif', 'profile_background_image_url_https': 'https://abs.twimg.com/images/themes/theme4/bg.gif', 'profile_background_tile': False, 'profile_image_url': 'http://pbs.twimg.com/profile_images/1093087956141715456/uR5Dz8p2_normal.jpg', 'profile_image_url_https': 'https://pbs.twimg.com/profile_images/1093087956141715456/uR5Dz8p2_normal.jpg', 'profile_banner_url': 'https://pbs.twimg.com/profile_banners/39240673/1603887291', 'profile_link_color': '0084B4', 'profile_sidebar_border_color': 'FFFFFF', 'profile_sidebar_fill_color': 'F5E216', 'profile_text_color': '080808', 'profile_use_background_image': True, 'has_extended_profile': False, 'default_profile': False, 'default_profile_image': False, 'following': False, 'follow_request_sent': False, 'notifications': False, 'translator_type': 'none'}, 'geo': None, 'coordinates': None, 'place': None, 'contributors': None, 'is_quote_status': False, 'retweet_count': 0, 'favorite_count': 28, 'favorited': False, 'retweeted': False, 'possibly_sensitive': False, 'lang': 'en'}, created_at=datetime.datetime(2020, 10, 31, 9, 41, 2), id=1322473645747236865, id_str='1322473645747236865', full_text='#IPL2020, DC vs MI: @mipaltan Skipper Kieron Pollard Wins Toss, Elects To Bowl First Against #DelhiCapitals At Dubai\\n\\n#IPLinUAE #DCvsMI \\n\\nhttps://t.co/dohOOWbCAh https://t.co/7pVZlYjnsg', truncated=False, display_text_range=[0, 161], entities={'hashtags': [{'text': 'IPL2020', 'indices': [0, 8]}, {'text': 'DelhiCapitals', 'indices': [93, 107]}, {'text': 'IPLinUAE', 'indices': [118, 127]}, {'text': 'DCvsMI', 'indices': [128, 135]}], 'symbols': [], 'user_mentions': [{'screen_name': 'mipaltan', 'name': 'Mumbai Indians', 'id': 106345557, 'id_str': '106345557', 'indices': [20, 29]}], 'urls': [{'url': 'https://t.co/dohOOWbCAh', 'expanded_url': 'https://news.abplive.com/sports/cricket/ipl-2020-dc-vs-mi-toss-update-delhi-capitals-vs-mumbai-indians-match-51-at-dubai-1378649', 'display_url': 'news.abplive.com/sports/cricket…', 'indices': [138, 161]}], 'media': [{'id': 1322473576704872448, 'id_str': '1322473576704872448', 'indices': [162, 185], 'media_url': 'http://pbs.twimg.com/media/ElpethRVkAAtV8F.jpg', 'media_url_https': 'https://pbs.twimg.com/media/ElpethRVkAAtV8F.jpg', 'url': 'https://t.co/7pVZlYjnsg', 'display_url': 'pic.twitter.com/7pVZlYjnsg', 'expanded_url': 'https://twitter.com/ABPNews/status/1322473645747236865/photo/1', 'type': 'photo', 'sizes': {'medium': {'w': 900, 'h': 512, 'resize': 'fit'}, 'thumb': {'w': 150, 'h': 150, 'resize': 'crop'}, 'small': {'w': 680, 'h': 387, 'resize': 'fit'}, 'large': {'w': 900, 'h': 512, 'resize': 'fit'}}}]}, extended_entities={'media': [{'id': 1322473576704872448, 'id_str': '1322473576704872448', 'indices': [162, 185], 'media_url': 'http://pbs.twimg.com/media/ElpethRVkAAtV8F.jpg', 'media_url_https': 'https://pbs.twimg.com/media/ElpethRVkAAtV8F.jpg', 'url': 'https://t.co/7pVZlYjnsg', 'display_url': 'pic.twitter.com/7pVZlYjnsg', 'expanded_url': 'https://twitter.com/ABPNews/status/1322473645747236865/photo/1', 'type': 'photo', 'sizes': {'medium': {'w': 900, 'h': 512, 'resize': 'fit'}, 'thumb': {'w': 150, 'h': 150, 'resize': 'crop'}, 'small': {'w': 680, 'h': 387, 'resize': 'fit'}, 'large': {'w': 900, 'h': 512, 'resize': 'fit'}}}]}, metadata={'iso_language_code': 'en', 'result_type': 'recent'}, source='Twitter Web App', source_url='https://mobile.twitter.com', in_reply_to_status_id=None, in_reply_to_status_id_str=None, in_reply_to_user_id=None, in_reply_to_user_id_str=None, in_reply_to_screen_name=None, author=User(_api=<tweepy.api.API object at 0x000001AD82B86E48>, _json={'id': 39240673, 'id_str': '39240673', 'name': 'ABP News', 'screen_name': 'ABPNews', 'location': 'India', 'description': 'Follow for latest news alerts from India', 'url': 'https://t.co/oO7Op9x6aQ', 'entities': {'url': {'urls': [{'url': 'https://t.co/oO7Op9x6aQ', 'expanded_url': 'http://abplive.com', 'display_url': 'abplive.com', 'indices': [0, 23]}]}, 'description': {'urls': []}}, 'protected': False, 'followers_count': 10541108, 'friends_count': 187, 'listed_count': 3917, 'created_at': 'Mon May 11 12:25:51 +0000 2009', 'favourites_count': 120, 'utc_offset': None, 'time_zone': None, 'geo_enabled': True, 'verified': True, 'statuses_count': 271548, 'lang': None, 'contributors_enabled': False, 'is_translator': False, 'is_translation_enabled': False, 'profile_background_color': '00326F', 'profile_background_image_url': 'http://abs.twimg.com/images/themes/theme4/bg.gif', 'profile_background_image_url_https': 'https://abs.twimg.com/images/themes/theme4/bg.gif', 'profile_background_tile': False, 'profile_image_url': 'http://pbs.twimg.com/profile_images/1093087956141715456/uR5Dz8p2_normal.jpg', 'profile_image_url_https': 'https://pbs.twimg.com/profile_images/1093087956141715456/uR5Dz8p2_normal.jpg', 'profile_banner_url': 'https://pbs.twimg.com/profile_banners/39240673/1603887291', 'profile_link_color': '0084B4', 'profile_sidebar_border_color': 'FFFFFF', 'profile_sidebar_fill_color': 'F5E216', 'profile_text_color': '080808', 'profile_use_background_image': True, 'has_extended_profile': False, 'default_profile': False, 'default_profile_image': False, 'following': False, 'follow_request_sent': False, 'notifications': False, 'translator_type': 'none'}, id=39240673, id_str='39240673', name='ABP News', screen_name='ABPNews', location='India', description='Follow for latest news alerts from India', url='https://t.co/oO7Op9x6aQ', entities={'url': {'urls': [{'url': 'https://t.co/oO7Op9x6aQ', 'expanded_url': 'http://abplive.com', 'display_url': 'abplive.com', 'indices': [0, 23]}]}, 'description': {'urls': []}}, protected=False, followers_count=10541108, friends_count=187, listed_count=3917, created_at=datetime.datetime(2009, 5, 11, 12, 25, 51), favourites_count=120, utc_offset=None, time_zone=None, geo_enabled=True, verified=True, statuses_count=271548, lang=None, contributors_enabled=False, is_translator=False, is_translation_enabled=False, profile_background_color='00326F', profile_background_image_url='http://abs.twimg.com/images/themes/theme4/bg.gif', profile_background_image_url_https='https://abs.twimg.com/images/themes/theme4/bg.gif', profile_background_tile=False, profile_image_url='http://pbs.twimg.com/profile_images/1093087956141715456/uR5Dz8p2_normal.jpg', profile_image_url_https='https://pbs.twimg.com/profile_images/1093087956141715456/uR5Dz8p2_normal.jpg', profile_banner_url='https://pbs.twimg.com/profile_banners/39240673/1603887291', profile_link_color='0084B4', profile_sidebar_border_color='FFFFFF', profile_sidebar_fill_color='F5E216', profile_text_color='080808', profile_use_background_image=True, has_extended_profile=False, default_profile=False, default_profile_image=False, following=False, follow_request_sent=False, notifications=False, translator_type='none'), user=User(_api=<tweepy.api.API object at 0x000001AD82B86E48>, _json={'id': 39240673, 'id_str': '39240673', 'name': 'ABP News', 'screen_name': 'ABPNews', 'location': 'India', 'description': 'Follow for latest news alerts from India', 'url': 'https://t.co/oO7Op9x6aQ', 'entities': {'url': {'urls': [{'url': 'https://t.co/oO7Op9x6aQ', 'expanded_url': 'http://abplive.com', 'display_url': 'abplive.com', 'indices': [0, 23]}]}, 'description': {'urls': []}}, 'protected': False, 'followers_count': 10541108, 'friends_count': 187, 'listed_count': 3917, 'created_at': 'Mon May 11 12:25:51 +0000 2009', 'favourites_count': 120, 'utc_offset': None, 'time_zone': None, 'geo_enabled': True, 'verified': True, 'statuses_count': 271548, 'lang': None, 'contributors_enabled': False, 'is_translator': False, 'is_translation_enabled': False, 'profile_background_color': '00326F', 'profile_background_image_url': 'http://abs.twimg.com/images/themes/theme4/bg.gif', 'profile_background_image_url_https': 'https://abs.twimg.com/images/themes/theme4/bg.gif', 'profile_background_tile': False, 'profile_image_url': 'http://pbs.twimg.com/profile_images/1093087956141715456/uR5Dz8p2_normal.jpg', 'profile_image_url_https': 'https://pbs.twimg.com/profile_images/1093087956141715456/uR5Dz8p2_normal.jpg', 'profile_banner_url': 'https://pbs.twimg.com/profile_banners/39240673/1603887291', 'profile_link_color': '0084B4', 'profile_sidebar_border_color': 'FFFFFF', 'profile_sidebar_fill_color': 'F5E216', 'profile_text_color': '080808', 'profile_use_background_image': True, 'has_extended_profile': False, 'default_profile': False, 'default_profile_image': False, 'following': False, 'follow_request_sent': False, 'notifications': False, 'translator_type': 'none'}, id=39240673, id_str='39240673', name='ABP News', screen_name='ABPNews', location='India', description='Follow for latest news alerts from India', url='https://t.co/oO7Op9x6aQ', entities={'url': {'urls': [{'url': 'https://t.co/oO7Op9x6aQ', 'expanded_url': 'http://abplive.com', 'display_url': 'abplive.com', 'indices': [0, 23]}]}, 'description': {'urls': []}}, protected=False, followers_count=10541108, friends_count=187, listed_count=3917, created_at=datetime.datetime(2009, 5, 11, 12, 25, 51), favourites_count=120, utc_offset=None, time_zone=None, geo_enabled=True, verified=True, statuses_count=271548, lang=None, contributors_enabled=False, is_translator=False, is_translation_enabled=False, profile_background_color='00326F', profile_background_image_url='http://abs.twimg.com/images/themes/theme4/bg.gif', profile_background_image_url_https='https://abs.twimg.com/images/themes/theme4/bg.gif', profile_background_tile=False, profile_image_url='http://pbs.twimg.com/profile_images/1093087956141715456/uR5Dz8p2_normal.jpg', profile_image_url_https='https://pbs.twimg.com/profile_images/1093087956141715456/uR5Dz8p2_normal.jpg', profile_banner_url='https://pbs.twimg.com/profile_banners/39240673/1603887291', profile_link_color='0084B4', profile_sidebar_border_color='FFFFFF', profile_sidebar_fill_color='F5E216', profile_text_color='080808', profile_use_background_image=True, has_extended_profile=False, default_profile=False, default_profile_image=False, following=False, follow_request_sent=False, notifications=False, translator_type='none'), geo=None, coordinates=None, place=None, contributors=None, is_quote_status=False, retweet_count=0, favorite_count=28, favorited=False, retweeted=False, possibly_sensitive=False, lang='en') \n",
      "\n",
      "--------------------------------------\n",
      "\n",
      "Status(_api=<tweepy.api.API object at 0x000001AD82B86E48>, _json={'created_at': 'Sat Oct 31 09:37:36 +0000 2020', 'id': 1322472782278483969, 'id_str': '1322472782278483969', 'full_text': 'Mumbai wins the toss and field first \\n\\nDC vs MI fantasy preview: https://t.co/7Mnk3drppv\\n\\n#Cricket #FantasyCricket #Dream11 #Dream11Team #Dream11Tips #Dream11IPL #DCvMI #DCvsMI #DelhiCapitals #MumbaiIndians #DC #MI #IPL #IPL2020 #FantasyTeams #Like #Follow', 'truncated': False, 'display_text_range': [0, 256], 'entities': {'hashtags': [{'text': 'Cricket', 'indices': [90, 98]}, {'text': 'FantasyCricket', 'indices': [99, 114]}, {'text': 'Dream11', 'indices': [115, 123]}, {'text': 'Dream11Team', 'indices': [124, 136]}, {'text': 'Dream11Tips', 'indices': [137, 149]}, {'text': 'Dream11IPL', 'indices': [150, 161]}, {'text': 'DCvMI', 'indices': [162, 168]}, {'text': 'DCvsMI', 'indices': [169, 176]}, {'text': 'DelhiCapitals', 'indices': [177, 191]}, {'text': 'MumbaiIndians', 'indices': [192, 206]}, {'text': 'DC', 'indices': [207, 210]}, {'text': 'MI', 'indices': [211, 214]}, {'text': 'IPL', 'indices': [215, 219]}, {'text': 'IPL2020', 'indices': [220, 228]}, {'text': 'FantasyTeams', 'indices': [229, 242]}, {'text': 'Like', 'indices': [243, 248]}, {'text': 'Follow', 'indices': [249, 256]}], 'symbols': [], 'user_mentions': [], 'urls': [{'url': 'https://t.co/7Mnk3drppv', 'expanded_url': 'https://readscoops.com/sports/cricket/fantasy-cricket/ipl-2020-dc-vs-mi-preview/', 'display_url': 'readscoops.com/sports/cricket…', 'indices': [65, 88]}]}, 'metadata': {'iso_language_code': 'en', 'result_type': 'recent'}, 'source': '<a href=\"http://twitter.com/download/android\" rel=\"nofollow\">Twitter for Android</a>', 'in_reply_to_status_id': None, 'in_reply_to_status_id_str': None, 'in_reply_to_user_id': None, 'in_reply_to_user_id_str': None, 'in_reply_to_screen_name': None, 'user': {'id': 877857931349311492, 'id_str': '877857931349311492', 'name': 'Read Scoops', 'screen_name': 'ReadScoops', 'location': 'Mumbai, India', 'description': 'Read Scoops is your one-stop shop for fantasy sports previews, while also getting the occasional updates on politics, technology, health, lifestyle and more...', 'url': 'https://t.co/6m8psqKTXm', 'entities': {'url': {'urls': [{'url': 'https://t.co/6m8psqKTXm', 'expanded_url': 'https://www.readscoops.com/', 'display_url': 'readscoops.com', 'indices': [0, 23]}]}, 'description': {'urls': []}}, 'protected': False, 'followers_count': 1928, 'friends_count': 852, 'listed_count': 7, 'created_at': 'Thu Jun 22 11:56:55 +0000 2017', 'favourites_count': 2676, 'utc_offset': None, 'time_zone': None, 'geo_enabled': False, 'verified': False, 'statuses_count': 23687, 'lang': None, 'contributors_enabled': False, 'is_translator': False, 'is_translation_enabled': False, 'profile_background_color': '000000', 'profile_background_image_url': 'http://abs.twimg.com/images/themes/theme1/bg.png', 'profile_background_image_url_https': 'https://abs.twimg.com/images/themes/theme1/bg.png', 'profile_background_tile': False, 'profile_image_url': 'http://pbs.twimg.com/profile_images/878891494886612992/Bcid7w6x_normal.jpg', 'profile_image_url_https': 'https://pbs.twimg.com/profile_images/878891494886612992/Bcid7w6x_normal.jpg', 'profile_banner_url': 'https://pbs.twimg.com/profile_banners/877857931349311492/1597305112', 'profile_link_color': 'FF691F', 'profile_sidebar_border_color': '000000', 'profile_sidebar_fill_color': '000000', 'profile_text_color': '000000', 'profile_use_background_image': False, 'has_extended_profile': True, 'default_profile': False, 'default_profile_image': False, 'following': False, 'follow_request_sent': False, 'notifications': False, 'translator_type': 'none'}, 'geo': None, 'coordinates': None, 'place': None, 'contributors': None, 'is_quote_status': False, 'retweet_count': 0, 'favorite_count': 0, 'favorited': False, 'retweeted': False, 'possibly_sensitive': False, 'lang': 'en'}, created_at=datetime.datetime(2020, 10, 31, 9, 37, 36), id=1322472782278483969, id_str='1322472782278483969', full_text='Mumbai wins the toss and field first \\n\\nDC vs MI fantasy preview: https://t.co/7Mnk3drppv\\n\\n#Cricket #FantasyCricket #Dream11 #Dream11Team #Dream11Tips #Dream11IPL #DCvMI #DCvsMI #DelhiCapitals #MumbaiIndians #DC #MI #IPL #IPL2020 #FantasyTeams #Like #Follow', truncated=False, display_text_range=[0, 256], entities={'hashtags': [{'text': 'Cricket', 'indices': [90, 98]}, {'text': 'FantasyCricket', 'indices': [99, 114]}, {'text': 'Dream11', 'indices': [115, 123]}, {'text': 'Dream11Team', 'indices': [124, 136]}, {'text': 'Dream11Tips', 'indices': [137, 149]}, {'text': 'Dream11IPL', 'indices': [150, 161]}, {'text': 'DCvMI', 'indices': [162, 168]}, {'text': 'DCvsMI', 'indices': [169, 176]}, {'text': 'DelhiCapitals', 'indices': [177, 191]}, {'text': 'MumbaiIndians', 'indices': [192, 206]}, {'text': 'DC', 'indices': [207, 210]}, {'text': 'MI', 'indices': [211, 214]}, {'text': 'IPL', 'indices': [215, 219]}, {'text': 'IPL2020', 'indices': [220, 228]}, {'text': 'FantasyTeams', 'indices': [229, 242]}, {'text': 'Like', 'indices': [243, 248]}, {'text': 'Follow', 'indices': [249, 256]}], 'symbols': [], 'user_mentions': [], 'urls': [{'url': 'https://t.co/7Mnk3drppv', 'expanded_url': 'https://readscoops.com/sports/cricket/fantasy-cricket/ipl-2020-dc-vs-mi-preview/', 'display_url': 'readscoops.com/sports/cricket…', 'indices': [65, 88]}]}, metadata={'iso_language_code': 'en', 'result_type': 'recent'}, source='Twitter for Android', source_url='http://twitter.com/download/android', in_reply_to_status_id=None, in_reply_to_status_id_str=None, in_reply_to_user_id=None, in_reply_to_user_id_str=None, in_reply_to_screen_name=None, author=User(_api=<tweepy.api.API object at 0x000001AD82B86E48>, _json={'id': 877857931349311492, 'id_str': '877857931349311492', 'name': 'Read Scoops', 'screen_name': 'ReadScoops', 'location': 'Mumbai, India', 'description': 'Read Scoops is your one-stop shop for fantasy sports previews, while also getting the occasional updates on politics, technology, health, lifestyle and more...', 'url': 'https://t.co/6m8psqKTXm', 'entities': {'url': {'urls': [{'url': 'https://t.co/6m8psqKTXm', 'expanded_url': 'https://www.readscoops.com/', 'display_url': 'readscoops.com', 'indices': [0, 23]}]}, 'description': {'urls': []}}, 'protected': False, 'followers_count': 1928, 'friends_count': 852, 'listed_count': 7, 'created_at': 'Thu Jun 22 11:56:55 +0000 2017', 'favourites_count': 2676, 'utc_offset': None, 'time_zone': None, 'geo_enabled': False, 'verified': False, 'statuses_count': 23687, 'lang': None, 'contributors_enabled': False, 'is_translator': False, 'is_translation_enabled': False, 'profile_background_color': '000000', 'profile_background_image_url': 'http://abs.twimg.com/images/themes/theme1/bg.png', 'profile_background_image_url_https': 'https://abs.twimg.com/images/themes/theme1/bg.png', 'profile_background_tile': False, 'profile_image_url': 'http://pbs.twimg.com/profile_images/878891494886612992/Bcid7w6x_normal.jpg', 'profile_image_url_https': 'https://pbs.twimg.com/profile_images/878891494886612992/Bcid7w6x_normal.jpg', 'profile_banner_url': 'https://pbs.twimg.com/profile_banners/877857931349311492/1597305112', 'profile_link_color': 'FF691F', 'profile_sidebar_border_color': '000000', 'profile_sidebar_fill_color': '000000', 'profile_text_color': '000000', 'profile_use_background_image': False, 'has_extended_profile': True, 'default_profile': False, 'default_profile_image': False, 'following': False, 'follow_request_sent': False, 'notifications': False, 'translator_type': 'none'}, id=877857931349311492, id_str='877857931349311492', name='Read Scoops', screen_name='ReadScoops', location='Mumbai, India', description='Read Scoops is your one-stop shop for fantasy sports previews, while also getting the occasional updates on politics, technology, health, lifestyle and more...', url='https://t.co/6m8psqKTXm', entities={'url': {'urls': [{'url': 'https://t.co/6m8psqKTXm', 'expanded_url': 'https://www.readscoops.com/', 'display_url': 'readscoops.com', 'indices': [0, 23]}]}, 'description': {'urls': []}}, protected=False, followers_count=1928, friends_count=852, listed_count=7, created_at=datetime.datetime(2017, 6, 22, 11, 56, 55), favourites_count=2676, utc_offset=None, time_zone=None, geo_enabled=False, verified=False, statuses_count=23687, lang=None, contributors_enabled=False, is_translator=False, is_translation_enabled=False, profile_background_color='000000', profile_background_image_url='http://abs.twimg.com/images/themes/theme1/bg.png', profile_background_image_url_https='https://abs.twimg.com/images/themes/theme1/bg.png', profile_background_tile=False, profile_image_url='http://pbs.twimg.com/profile_images/878891494886612992/Bcid7w6x_normal.jpg', profile_image_url_https='https://pbs.twimg.com/profile_images/878891494886612992/Bcid7w6x_normal.jpg', profile_banner_url='https://pbs.twimg.com/profile_banners/877857931349311492/1597305112', profile_link_color='FF691F', profile_sidebar_border_color='000000', profile_sidebar_fill_color='000000', profile_text_color='000000', profile_use_background_image=False, has_extended_profile=True, default_profile=False, default_profile_image=False, following=False, follow_request_sent=False, notifications=False, translator_type='none'), user=User(_api=<tweepy.api.API object at 0x000001AD82B86E48>, _json={'id': 877857931349311492, 'id_str': '877857931349311492', 'name': 'Read Scoops', 'screen_name': 'ReadScoops', 'location': 'Mumbai, India', 'description': 'Read Scoops is your one-stop shop for fantasy sports previews, while also getting the occasional updates on politics, technology, health, lifestyle and more...', 'url': 'https://t.co/6m8psqKTXm', 'entities': {'url': {'urls': [{'url': 'https://t.co/6m8psqKTXm', 'expanded_url': 'https://www.readscoops.com/', 'display_url': 'readscoops.com', 'indices': [0, 23]}]}, 'description': {'urls': []}}, 'protected': False, 'followers_count': 1928, 'friends_count': 852, 'listed_count': 7, 'created_at': 'Thu Jun 22 11:56:55 +0000 2017', 'favourites_count': 2676, 'utc_offset': None, 'time_zone': None, 'geo_enabled': False, 'verified': False, 'statuses_count': 23687, 'lang': None, 'contributors_enabled': False, 'is_translator': False, 'is_translation_enabled': False, 'profile_background_color': '000000', 'profile_background_image_url': 'http://abs.twimg.com/images/themes/theme1/bg.png', 'profile_background_image_url_https': 'https://abs.twimg.com/images/themes/theme1/bg.png', 'profile_background_tile': False, 'profile_image_url': 'http://pbs.twimg.com/profile_images/878891494886612992/Bcid7w6x_normal.jpg', 'profile_image_url_https': 'https://pbs.twimg.com/profile_images/878891494886612992/Bcid7w6x_normal.jpg', 'profile_banner_url': 'https://pbs.twimg.com/profile_banners/877857931349311492/1597305112', 'profile_link_color': 'FF691F', 'profile_sidebar_border_color': '000000', 'profile_sidebar_fill_color': '000000', 'profile_text_color': '000000', 'profile_use_background_image': False, 'has_extended_profile': True, 'default_profile': False, 'default_profile_image': False, 'following': False, 'follow_request_sent': False, 'notifications': False, 'translator_type': 'none'}, id=877857931349311492, id_str='877857931349311492', name='Read Scoops', screen_name='ReadScoops', location='Mumbai, India', description='Read Scoops is your one-stop shop for fantasy sports previews, while also getting the occasional updates on politics, technology, health, lifestyle and more...', url='https://t.co/6m8psqKTXm', entities={'url': {'urls': [{'url': 'https://t.co/6m8psqKTXm', 'expanded_url': 'https://www.readscoops.com/', 'display_url': 'readscoops.com', 'indices': [0, 23]}]}, 'description': {'urls': []}}, protected=False, followers_count=1928, friends_count=852, listed_count=7, created_at=datetime.datetime(2017, 6, 22, 11, 56, 55), favourites_count=2676, utc_offset=None, time_zone=None, geo_enabled=False, verified=False, statuses_count=23687, lang=None, contributors_enabled=False, is_translator=False, is_translation_enabled=False, profile_background_color='000000', profile_background_image_url='http://abs.twimg.com/images/themes/theme1/bg.png', profile_background_image_url_https='https://abs.twimg.com/images/themes/theme1/bg.png', profile_background_tile=False, profile_image_url='http://pbs.twimg.com/profile_images/878891494886612992/Bcid7w6x_normal.jpg', profile_image_url_https='https://pbs.twimg.com/profile_images/878891494886612992/Bcid7w6x_normal.jpg', profile_banner_url='https://pbs.twimg.com/profile_banners/877857931349311492/1597305112', profile_link_color='FF691F', profile_sidebar_border_color='000000', profile_sidebar_fill_color='000000', profile_text_color='000000', profile_use_background_image=False, has_extended_profile=True, default_profile=False, default_profile_image=False, following=False, follow_request_sent=False, notifications=False, translator_type='none'), geo=None, coordinates=None, place=None, contributors=None, is_quote_status=False, retweet_count=0, favorite_count=0, favorited=False, retweeted=False, possibly_sensitive=False, lang='en') \n",
      "\n",
      "--------------------------------------\n",
      "\n",
      "Status(_api=<tweepy.api.API object at 0x000001AD82B86E48>, _json={'created_at': 'Sat Oct 31 09:33:59 +0000 2020', 'id': 1322471871116271619, 'id_str': '1322471871116271619', 'full_text': '#DCvsMI | Kieron Pollard wins toss, Mumbai Indians to field first in Dubai\\n\\n#IPL2020 \\n\\nhttps://t.co/IzcYznoukb', 'truncated': False, 'display_text_range': [0, 110], 'entities': {'hashtags': [{'text': 'DCvsMI', 'indices': [0, 7]}, {'text': 'IPL2020', 'indices': [76, 84]}], 'symbols': [], 'user_mentions': [], 'urls': [{'url': 'https://t.co/IzcYznoukb', 'expanded_url': 'https://english.jagran.com/cricket/ipl-2020-game-51-mumbai-indians-delhi-capitals-dubai-international-stadium-shreyas-iyer-rohit-sharma-kieron-pollard-dc-vs-mi-live-score-latest-updates-10019128', 'display_url': 'english.jagran.com/cricket/ipl-20…', 'indices': [87, 110]}]}, 'metadata': {'iso_language_code': 'en', 'result_type': 'recent'}, 'source': '<a href=\"https://mobile.twitter.com\" rel=\"nofollow\">Twitter Web App</a>', 'in_reply_to_status_id': None, 'in_reply_to_status_id_str': None, 'in_reply_to_user_id': None, 'in_reply_to_user_id_str': None, 'in_reply_to_screen_name': None, 'user': {'id': 231692806, 'id_str': '231692806', 'name': 'Jagran English', 'screen_name': 'JagranEnglish', 'location': 'New Delhi, India', 'description': 'Jagran English the new age Trending News site. Check out https://t.co/UuzBHS8KDs for all latest & top trends across globe.', 'url': 'https://t.co/KNACj4Xbxs', 'entities': {'url': {'urls': [{'url': 'https://t.co/KNACj4Xbxs', 'expanded_url': 'http://english.jagran.com', 'display_url': 'english.jagran.com', 'indices': [0, 23]}]}, 'description': {'urls': [{'url': 'https://t.co/UuzBHS8KDs', 'expanded_url': 'http://english.jagran.com/', 'display_url': 'english.jagran.com', 'indices': [57, 80]}]}}, 'protected': False, 'followers_count': 7307, 'friends_count': 35, 'listed_count': 90, 'created_at': 'Wed Dec 29 06:03:27 +0000 2010', 'favourites_count': 86, 'utc_offset': None, 'time_zone': None, 'geo_enabled': True, 'verified': True, 'statuses_count': 146736, 'lang': None, 'contributors_enabled': False, 'is_translator': False, 'is_translation_enabled': False, 'profile_background_color': 'C0DEED', 'profile_background_image_url': 'http://abs.twimg.com/images/themes/theme1/bg.png', 'profile_background_image_url_https': 'https://abs.twimg.com/images/themes/theme1/bg.png', 'profile_background_tile': False, 'profile_image_url': 'http://pbs.twimg.com/profile_images/791567271328047104/2wcHjE_4_normal.jpg', 'profile_image_url_https': 'https://pbs.twimg.com/profile_images/791567271328047104/2wcHjE_4_normal.jpg', 'profile_banner_url': 'https://pbs.twimg.com/profile_banners/231692806/1602849821', 'profile_link_color': '0084B4', 'profile_sidebar_border_color': 'FFFFFF', 'profile_sidebar_fill_color': 'DDEEF6', 'profile_text_color': '333333', 'profile_use_background_image': True, 'has_extended_profile': True, 'default_profile': False, 'default_profile_image': False, 'following': False, 'follow_request_sent': False, 'notifications': False, 'translator_type': 'none'}, 'geo': None, 'coordinates': None, 'place': None, 'contributors': None, 'is_quote_status': False, 'retweet_count': 0, 'favorite_count': 0, 'favorited': False, 'retweeted': False, 'possibly_sensitive': False, 'lang': 'en'}, created_at=datetime.datetime(2020, 10, 31, 9, 33, 59), id=1322471871116271619, id_str='1322471871116271619', full_text='#DCvsMI | Kieron Pollard wins toss, Mumbai Indians to field first in Dubai\\n\\n#IPL2020 \\n\\nhttps://t.co/IzcYznoukb', truncated=False, display_text_range=[0, 110], entities={'hashtags': [{'text': 'DCvsMI', 'indices': [0, 7]}, {'text': 'IPL2020', 'indices': [76, 84]}], 'symbols': [], 'user_mentions': [], 'urls': [{'url': 'https://t.co/IzcYznoukb', 'expanded_url': 'https://english.jagran.com/cricket/ipl-2020-game-51-mumbai-indians-delhi-capitals-dubai-international-stadium-shreyas-iyer-rohit-sharma-kieron-pollard-dc-vs-mi-live-score-latest-updates-10019128', 'display_url': 'english.jagran.com/cricket/ipl-20…', 'indices': [87, 110]}]}, metadata={'iso_language_code': 'en', 'result_type': 'recent'}, source='Twitter Web App', source_url='https://mobile.twitter.com', in_reply_to_status_id=None, in_reply_to_status_id_str=None, in_reply_to_user_id=None, in_reply_to_user_id_str=None, in_reply_to_screen_name=None, author=User(_api=<tweepy.api.API object at 0x000001AD82B86E48>, _json={'id': 231692806, 'id_str': '231692806', 'name': 'Jagran English', 'screen_name': 'JagranEnglish', 'location': 'New Delhi, India', 'description': 'Jagran English the new age Trending News site. Check out https://t.co/UuzBHS8KDs for all latest & top trends across globe.', 'url': 'https://t.co/KNACj4Xbxs', 'entities': {'url': {'urls': [{'url': 'https://t.co/KNACj4Xbxs', 'expanded_url': 'http://english.jagran.com', 'display_url': 'english.jagran.com', 'indices': [0, 23]}]}, 'description': {'urls': [{'url': 'https://t.co/UuzBHS8KDs', 'expanded_url': 'http://english.jagran.com/', 'display_url': 'english.jagran.com', 'indices': [57, 80]}]}}, 'protected': False, 'followers_count': 7307, 'friends_count': 35, 'listed_count': 90, 'created_at': 'Wed Dec 29 06:03:27 +0000 2010', 'favourites_count': 86, 'utc_offset': None, 'time_zone': None, 'geo_enabled': True, 'verified': True, 'statuses_count': 146736, 'lang': None, 'contributors_enabled': False, 'is_translator': False, 'is_translation_enabled': False, 'profile_background_color': 'C0DEED', 'profile_background_image_url': 'http://abs.twimg.com/images/themes/theme1/bg.png', 'profile_background_image_url_https': 'https://abs.twimg.com/images/themes/theme1/bg.png', 'profile_background_tile': False, 'profile_image_url': 'http://pbs.twimg.com/profile_images/791567271328047104/2wcHjE_4_normal.jpg', 'profile_image_url_https': 'https://pbs.twimg.com/profile_images/791567271328047104/2wcHjE_4_normal.jpg', 'profile_banner_url': 'https://pbs.twimg.com/profile_banners/231692806/1602849821', 'profile_link_color': '0084B4', 'profile_sidebar_border_color': 'FFFFFF', 'profile_sidebar_fill_color': 'DDEEF6', 'profile_text_color': '333333', 'profile_use_background_image': True, 'has_extended_profile': True, 'default_profile': False, 'default_profile_image': False, 'following': False, 'follow_request_sent': False, 'notifications': False, 'translator_type': 'none'}, id=231692806, id_str='231692806', name='Jagran English', screen_name='JagranEnglish', location='New Delhi, India', description='Jagran English the new age Trending News site. Check out https://t.co/UuzBHS8KDs for all latest & top trends across globe.', url='https://t.co/KNACj4Xbxs', entities={'url': {'urls': [{'url': 'https://t.co/KNACj4Xbxs', 'expanded_url': 'http://english.jagran.com', 'display_url': 'english.jagran.com', 'indices': [0, 23]}]}, 'description': {'urls': [{'url': 'https://t.co/UuzBHS8KDs', 'expanded_url': 'http://english.jagran.com/', 'display_url': 'english.jagran.com', 'indices': [57, 80]}]}}, protected=False, followers_count=7307, friends_count=35, listed_count=90, created_at=datetime.datetime(2010, 12, 29, 6, 3, 27), favourites_count=86, utc_offset=None, time_zone=None, geo_enabled=True, verified=True, statuses_count=146736, lang=None, contributors_enabled=False, is_translator=False, is_translation_enabled=False, profile_background_color='C0DEED', profile_background_image_url='http://abs.twimg.com/images/themes/theme1/bg.png', profile_background_image_url_https='https://abs.twimg.com/images/themes/theme1/bg.png', profile_background_tile=False, profile_image_url='http://pbs.twimg.com/profile_images/791567271328047104/2wcHjE_4_normal.jpg', profile_image_url_https='https://pbs.twimg.com/profile_images/791567271328047104/2wcHjE_4_normal.jpg', profile_banner_url='https://pbs.twimg.com/profile_banners/231692806/1602849821', profile_link_color='0084B4', profile_sidebar_border_color='FFFFFF', profile_sidebar_fill_color='DDEEF6', profile_text_color='333333', profile_use_background_image=True, has_extended_profile=True, default_profile=False, default_profile_image=False, following=False, follow_request_sent=False, notifications=False, translator_type='none'), user=User(_api=<tweepy.api.API object at 0x000001AD82B86E48>, _json={'id': 231692806, 'id_str': '231692806', 'name': 'Jagran English', 'screen_name': 'JagranEnglish', 'location': 'New Delhi, India', 'description': 'Jagran English the new age Trending News site. Check out https://t.co/UuzBHS8KDs for all latest & top trends across globe.', 'url': 'https://t.co/KNACj4Xbxs', 'entities': {'url': {'urls': [{'url': 'https://t.co/KNACj4Xbxs', 'expanded_url': 'http://english.jagran.com', 'display_url': 'english.jagran.com', 'indices': [0, 23]}]}, 'description': {'urls': [{'url': 'https://t.co/UuzBHS8KDs', 'expanded_url': 'http://english.jagran.com/', 'display_url': 'english.jagran.com', 'indices': [57, 80]}]}}, 'protected': False, 'followers_count': 7307, 'friends_count': 35, 'listed_count': 90, 'created_at': 'Wed Dec 29 06:03:27 +0000 2010', 'favourites_count': 86, 'utc_offset': None, 'time_zone': None, 'geo_enabled': True, 'verified': True, 'statuses_count': 146736, 'lang': None, 'contributors_enabled': False, 'is_translator': False, 'is_translation_enabled': False, 'profile_background_color': 'C0DEED', 'profile_background_image_url': 'http://abs.twimg.com/images/themes/theme1/bg.png', 'profile_background_image_url_https': 'https://abs.twimg.com/images/themes/theme1/bg.png', 'profile_background_tile': False, 'profile_image_url': 'http://pbs.twimg.com/profile_images/791567271328047104/2wcHjE_4_normal.jpg', 'profile_image_url_https': 'https://pbs.twimg.com/profile_images/791567271328047104/2wcHjE_4_normal.jpg', 'profile_banner_url': 'https://pbs.twimg.com/profile_banners/231692806/1602849821', 'profile_link_color': '0084B4', 'profile_sidebar_border_color': 'FFFFFF', 'profile_sidebar_fill_color': 'DDEEF6', 'profile_text_color': '333333', 'profile_use_background_image': True, 'has_extended_profile': True, 'default_profile': False, 'default_profile_image': False, 'following': False, 'follow_request_sent': False, 'notifications': False, 'translator_type': 'none'}, id=231692806, id_str='231692806', name='Jagran English', screen_name='JagranEnglish', location='New Delhi, India', description='Jagran English the new age Trending News site. Check out https://t.co/UuzBHS8KDs for all latest & top trends across globe.', url='https://t.co/KNACj4Xbxs', entities={'url': {'urls': [{'url': 'https://t.co/KNACj4Xbxs', 'expanded_url': 'http://english.jagran.com', 'display_url': 'english.jagran.com', 'indices': [0, 23]}]}, 'description': {'urls': [{'url': 'https://t.co/UuzBHS8KDs', 'expanded_url': 'http://english.jagran.com/', 'display_url': 'english.jagran.com', 'indices': [57, 80]}]}}, protected=False, followers_count=7307, friends_count=35, listed_count=90, created_at=datetime.datetime(2010, 12, 29, 6, 3, 27), favourites_count=86, utc_offset=None, time_zone=None, geo_enabled=True, verified=True, statuses_count=146736, lang=None, contributors_enabled=False, is_translator=False, is_translation_enabled=False, profile_background_color='C0DEED', profile_background_image_url='http://abs.twimg.com/images/themes/theme1/bg.png', profile_background_image_url_https='https://abs.twimg.com/images/themes/theme1/bg.png', profile_background_tile=False, profile_image_url='http://pbs.twimg.com/profile_images/791567271328047104/2wcHjE_4_normal.jpg', profile_image_url_https='https://pbs.twimg.com/profile_images/791567271328047104/2wcHjE_4_normal.jpg', profile_banner_url='https://pbs.twimg.com/profile_banners/231692806/1602849821', profile_link_color='0084B4', profile_sidebar_border_color='FFFFFF', profile_sidebar_fill_color='DDEEF6', profile_text_color='333333', profile_use_background_image=True, has_extended_profile=True, default_profile=False, default_profile_image=False, following=False, follow_request_sent=False, notifications=False, translator_type='none'), geo=None, coordinates=None, place=None, contributors=None, is_quote_status=False, retweet_count=0, favorite_count=0, favorited=False, retweeted=False, possibly_sensitive=False, lang='en') \n",
      "\n",
      "--------------------------------------\n",
      "\n",
      "Status(_api=<tweepy.api.API object at 0x000001AD82B86E48>, _json={'created_at': 'Sat Oct 31 09:33:14 +0000 2020', 'id': 1322471683987402752, 'id_str': '1322471683987402752', 'full_text': 'IPL 2020: Mumbai Indians captain Kieron Pollard wins toss, elects to bowl vs Delhi Capitals\\n\\n#DCvMI #DCvsMI #IPL2020\\n\\nLive Scorecard: https://t.co/BrrxCTdbN7\\n\\nLive Updates: https://t.co/EpYKV7iidu', 'truncated': False, 'display_text_range': [0, 196], 'entities': {'hashtags': [{'text': 'DCvMI', 'indices': [93, 99]}, {'text': 'DCvsMI', 'indices': [100, 107]}, {'text': 'IPL2020', 'indices': [108, 116]}], 'symbols': [], 'user_mentions': [], 'urls': [{'url': 'https://t.co/BrrxCTdbN7', 'expanded_url': 'https://bit.ly/2GfxKbZ', 'display_url': 'bit.ly/2GfxKbZ', 'indices': [134, 157]}, {'url': 'https://t.co/EpYKV7iidu', 'expanded_url': 'https://bit.ly/35PLGlx', 'display_url': 'bit.ly/35PLGlx', 'indices': [173, 196]}]}, 'metadata': {'iso_language_code': 'en', 'result_type': 'recent'}, 'source': '<a href=\"https://about.twitter.com/products/tweetdeck\" rel=\"nofollow\">TweetDeck</a>', 'in_reply_to_status_id': None, 'in_reply_to_status_id_str': None, 'in_reply_to_user_id': None, 'in_reply_to_user_id_str': None, 'in_reply_to_screen_name': None, 'user': {'id': 71487564, 'id_str': '71487564', 'name': 'CricketNDTV', 'screen_name': 'CricketNDTV', 'location': 'India', 'description': 'Catch all the latest news from the world of Cricket!', 'url': 'https://t.co/qcJcwocm65', 'entities': {'url': {'urls': [{'url': 'https://t.co/qcJcwocm65', 'expanded_url': 'http://sports.ndtv.com/cricket', 'display_url': 'sports.ndtv.com/cricket', 'indices': [0, 23]}]}, 'description': {'urls': []}}, 'protected': False, 'followers_count': 1787251, 'friends_count': 10, 'listed_count': 850, 'created_at': 'Fri Sep 04 08:21:55 +0000 2009', 'favourites_count': 6, 'utc_offset': None, 'time_zone': None, 'geo_enabled': False, 'verified': True, 'statuses_count': 136489, 'lang': None, 'contributors_enabled': False, 'is_translator': False, 'is_translation_enabled': False, 'profile_background_color': 'C0DEED', 'profile_background_image_url': 'http://abs.twimg.com/images/themes/theme1/bg.png', 'profile_background_image_url_https': 'https://abs.twimg.com/images/themes/theme1/bg.png', 'profile_background_tile': False, 'profile_image_url': 'http://pbs.twimg.com/profile_images/566805159800344577/HSTYu5XU_normal.png', 'profile_image_url_https': 'https://pbs.twimg.com/profile_images/566805159800344577/HSTYu5XU_normal.png', 'profile_link_color': '1DA1F2', 'profile_sidebar_border_color': 'C0DEED', 'profile_sidebar_fill_color': 'DDEEF6', 'profile_text_color': '333333', 'profile_use_background_image': True, 'has_extended_profile': False, 'default_profile': True, 'default_profile_image': False, 'following': False, 'follow_request_sent': False, 'notifications': False, 'translator_type': 'none'}, 'geo': None, 'coordinates': None, 'place': None, 'contributors': None, 'is_quote_status': False, 'retweet_count': 6, 'favorite_count': 39, 'favorited': False, 'retweeted': False, 'possibly_sensitive': False, 'lang': 'en'}, created_at=datetime.datetime(2020, 10, 31, 9, 33, 14), id=1322471683987402752, id_str='1322471683987402752', full_text='IPL 2020: Mumbai Indians captain Kieron Pollard wins toss, elects to bowl vs Delhi Capitals\\n\\n#DCvMI #DCvsMI #IPL2020\\n\\nLive Scorecard: https://t.co/BrrxCTdbN7\\n\\nLive Updates: https://t.co/EpYKV7iidu', truncated=False, display_text_range=[0, 196], entities={'hashtags': [{'text': 'DCvMI', 'indices': [93, 99]}, {'text': 'DCvsMI', 'indices': [100, 107]}, {'text': 'IPL2020', 'indices': [108, 116]}], 'symbols': [], 'user_mentions': [], 'urls': [{'url': 'https://t.co/BrrxCTdbN7', 'expanded_url': 'https://bit.ly/2GfxKbZ', 'display_url': 'bit.ly/2GfxKbZ', 'indices': [134, 157]}, {'url': 'https://t.co/EpYKV7iidu', 'expanded_url': 'https://bit.ly/35PLGlx', 'display_url': 'bit.ly/35PLGlx', 'indices': [173, 196]}]}, metadata={'iso_language_code': 'en', 'result_type': 'recent'}, source='TweetDeck', source_url='https://about.twitter.com/products/tweetdeck', in_reply_to_status_id=None, in_reply_to_status_id_str=None, in_reply_to_user_id=None, in_reply_to_user_id_str=None, in_reply_to_screen_name=None, author=User(_api=<tweepy.api.API object at 0x000001AD82B86E48>, _json={'id': 71487564, 'id_str': '71487564', 'name': 'CricketNDTV', 'screen_name': 'CricketNDTV', 'location': 'India', 'description': 'Catch all the latest news from the world of Cricket!', 'url': 'https://t.co/qcJcwocm65', 'entities': {'url': {'urls': [{'url': 'https://t.co/qcJcwocm65', 'expanded_url': 'http://sports.ndtv.com/cricket', 'display_url': 'sports.ndtv.com/cricket', 'indices': [0, 23]}]}, 'description': {'urls': []}}, 'protected': False, 'followers_count': 1787251, 'friends_count': 10, 'listed_count': 850, 'created_at': 'Fri Sep 04 08:21:55 +0000 2009', 'favourites_count': 6, 'utc_offset': None, 'time_zone': None, 'geo_enabled': False, 'verified': True, 'statuses_count': 136489, 'lang': None, 'contributors_enabled': False, 'is_translator': False, 'is_translation_enabled': False, 'profile_background_color': 'C0DEED', 'profile_background_image_url': 'http://abs.twimg.com/images/themes/theme1/bg.png', 'profile_background_image_url_https': 'https://abs.twimg.com/images/themes/theme1/bg.png', 'profile_background_tile': False, 'profile_image_url': 'http://pbs.twimg.com/profile_images/566805159800344577/HSTYu5XU_normal.png', 'profile_image_url_https': 'https://pbs.twimg.com/profile_images/566805159800344577/HSTYu5XU_normal.png', 'profile_link_color': '1DA1F2', 'profile_sidebar_border_color': 'C0DEED', 'profile_sidebar_fill_color': 'DDEEF6', 'profile_text_color': '333333', 'profile_use_background_image': True, 'has_extended_profile': False, 'default_profile': True, 'default_profile_image': False, 'following': False, 'follow_request_sent': False, 'notifications': False, 'translator_type': 'none'}, id=71487564, id_str='71487564', name='CricketNDTV', screen_name='CricketNDTV', location='India', description='Catch all the latest news from the world of Cricket!', url='https://t.co/qcJcwocm65', entities={'url': {'urls': [{'url': 'https://t.co/qcJcwocm65', 'expanded_url': 'http://sports.ndtv.com/cricket', 'display_url': 'sports.ndtv.com/cricket', 'indices': [0, 23]}]}, 'description': {'urls': []}}, protected=False, followers_count=1787251, friends_count=10, listed_count=850, created_at=datetime.datetime(2009, 9, 4, 8, 21, 55), favourites_count=6, utc_offset=None, time_zone=None, geo_enabled=False, verified=True, statuses_count=136489, lang=None, contributors_enabled=False, is_translator=False, is_translation_enabled=False, profile_background_color='C0DEED', profile_background_image_url='http://abs.twimg.com/images/themes/theme1/bg.png', profile_background_image_url_https='https://abs.twimg.com/images/themes/theme1/bg.png', profile_background_tile=False, profile_image_url='http://pbs.twimg.com/profile_images/566805159800344577/HSTYu5XU_normal.png', profile_image_url_https='https://pbs.twimg.com/profile_images/566805159800344577/HSTYu5XU_normal.png', profile_link_color='1DA1F2', profile_sidebar_border_color='C0DEED', profile_sidebar_fill_color='DDEEF6', profile_text_color='333333', profile_use_background_image=True, has_extended_profile=False, default_profile=True, default_profile_image=False, following=False, follow_request_sent=False, notifications=False, translator_type='none'), user=User(_api=<tweepy.api.API object at 0x000001AD82B86E48>, _json={'id': 71487564, 'id_str': '71487564', 'name': 'CricketNDTV', 'screen_name': 'CricketNDTV', 'location': 'India', 'description': 'Catch all the latest news from the world of Cricket!', 'url': 'https://t.co/qcJcwocm65', 'entities': {'url': {'urls': [{'url': 'https://t.co/qcJcwocm65', 'expanded_url': 'http://sports.ndtv.com/cricket', 'display_url': 'sports.ndtv.com/cricket', 'indices': [0, 23]}]}, 'description': {'urls': []}}, 'protected': False, 'followers_count': 1787251, 'friends_count': 10, 'listed_count': 850, 'created_at': 'Fri Sep 04 08:21:55 +0000 2009', 'favourites_count': 6, 'utc_offset': None, 'time_zone': None, 'geo_enabled': False, 'verified': True, 'statuses_count': 136489, 'lang': None, 'contributors_enabled': False, 'is_translator': False, 'is_translation_enabled': False, 'profile_background_color': 'C0DEED', 'profile_background_image_url': 'http://abs.twimg.com/images/themes/theme1/bg.png', 'profile_background_image_url_https': 'https://abs.twimg.com/images/themes/theme1/bg.png', 'profile_background_tile': False, 'profile_image_url': 'http://pbs.twimg.com/profile_images/566805159800344577/HSTYu5XU_normal.png', 'profile_image_url_https': 'https://pbs.twimg.com/profile_images/566805159800344577/HSTYu5XU_normal.png', 'profile_link_color': '1DA1F2', 'profile_sidebar_border_color': 'C0DEED', 'profile_sidebar_fill_color': 'DDEEF6', 'profile_text_color': '333333', 'profile_use_background_image': True, 'has_extended_profile': False, 'default_profile': True, 'default_profile_image': False, 'following': False, 'follow_request_sent': False, 'notifications': False, 'translator_type': 'none'}, id=71487564, id_str='71487564', name='CricketNDTV', screen_name='CricketNDTV', location='India', description='Catch all the latest news from the world of Cricket!', url='https://t.co/qcJcwocm65', entities={'url': {'urls': [{'url': 'https://t.co/qcJcwocm65', 'expanded_url': 'http://sports.ndtv.com/cricket', 'display_url': 'sports.ndtv.com/cricket', 'indices': [0, 23]}]}, 'description': {'urls': []}}, protected=False, followers_count=1787251, friends_count=10, listed_count=850, created_at=datetime.datetime(2009, 9, 4, 8, 21, 55), favourites_count=6, utc_offset=None, time_zone=None, geo_enabled=False, verified=True, statuses_count=136489, lang=None, contributors_enabled=False, is_translator=False, is_translation_enabled=False, profile_background_color='C0DEED', profile_background_image_url='http://abs.twimg.com/images/themes/theme1/bg.png', profile_background_image_url_https='https://abs.twimg.com/images/themes/theme1/bg.png', profile_background_tile=False, profile_image_url='http://pbs.twimg.com/profile_images/566805159800344577/HSTYu5XU_normal.png', profile_image_url_https='https://pbs.twimg.com/profile_images/566805159800344577/HSTYu5XU_normal.png', profile_link_color='1DA1F2', profile_sidebar_border_color='C0DEED', profile_sidebar_fill_color='DDEEF6', profile_text_color='333333', profile_use_background_image=True, has_extended_profile=False, default_profile=True, default_profile_image=False, following=False, follow_request_sent=False, notifications=False, translator_type='none'), geo=None, coordinates=None, place=None, contributors=None, is_quote_status=False, retweet_count=6, favorite_count=39, favorited=False, retweeted=False, possibly_sensitive=False, lang='en') \n",
      "\n",
      "--------------------------------------\n",
      "\n",
      "Status(_api=<tweepy.api.API object at 0x000001AD82B86E48>, _json={'created_at': 'Sat Oct 31 09:32:59 +0000 2020', 'id': 1322471621425201152, 'id_str': '1322471621425201152', 'full_text': '#IPL2020: #MumbaiIndians captain Kieron Pollard wins toss, elects to field vs #DelhiCapitals.\\n\\nStay tuned for live updates: https://t.co/fDC9F5E7EP\\n\\n#DCvsMI https://t.co/N84L1Oswoy', 'truncated': False, 'display_text_range': [0, 156], 'entities': {'hashtags': [{'text': 'IPL2020', 'indices': [0, 8]}, {'text': 'MumbaiIndians', 'indices': [10, 24]}, {'text': 'DelhiCapitals', 'indices': [78, 92]}, {'text': 'DCvsMI', 'indices': [149, 156]}], 'symbols': [], 'user_mentions': [], 'urls': [{'url': 'https://t.co/fDC9F5E7EP', 'expanded_url': 'http://bit.ly/2THgvTO', 'display_url': 'bit.ly/2THgvTO', 'indices': [124, 147]}], 'media': [{'id': 1322470663328731137, 'id_str': '1322470663328731137', 'indices': [157, 180], 'media_url': 'http://pbs.twimg.com/media/ElpcD8GVkAENgX0.jpg', 'media_url_https': 'https://pbs.twimg.com/media/ElpcD8GVkAENgX0.jpg', 'url': 'https://t.co/N84L1Oswoy', 'display_url': 'pic.twitter.com/N84L1Oswoy', 'expanded_url': 'https://twitter.com/Opoyis/status/1322471621425201152/photo/1', 'type': 'photo', 'sizes': {'thumb': {'w': 150, 'h': 150, 'resize': 'crop'}, 'medium': {'w': 1081, 'h': 1081, 'resize': 'fit'}, 'small': {'w': 680, 'h': 680, 'resize': 'fit'}, 'large': {'w': 1081, 'h': 1081, 'resize': 'fit'}}}]}, 'extended_entities': {'media': [{'id': 1322470663328731137, 'id_str': '1322470663328731137', 'indices': [157, 180], 'media_url': 'http://pbs.twimg.com/media/ElpcD8GVkAENgX0.jpg', 'media_url_https': 'https://pbs.twimg.com/media/ElpcD8GVkAENgX0.jpg', 'url': 'https://t.co/N84L1Oswoy', 'display_url': 'pic.twitter.com/N84L1Oswoy', 'expanded_url': 'https://twitter.com/Opoyis/status/1322471621425201152/photo/1', 'type': 'photo', 'sizes': {'thumb': {'w': 150, 'h': 150, 'resize': 'crop'}, 'medium': {'w': 1081, 'h': 1081, 'resize': 'fit'}, 'small': {'w': 680, 'h': 680, 'resize': 'fit'}, 'large': {'w': 1081, 'h': 1081, 'resize': 'fit'}}}]}, 'metadata': {'iso_language_code': 'en', 'result_type': 'recent'}, 'source': '<a href=\"https://mobile.twitter.com\" rel=\"nofollow\">Twitter Web App</a>', 'in_reply_to_status_id': None, 'in_reply_to_status_id_str': None, 'in_reply_to_user_id': None, 'in_reply_to_user_id_str': None, 'in_reply_to_screen_name': None, 'user': {'id': 1084518784004542464, 'id_str': '1084518784004542464', 'name': 'Opoyi', 'screen_name': 'Opoyis', 'location': '', 'description': 'High-quality trusted conversations around news and information, in 12 languages.', 'url': 'https://t.co/13SulifUgR', 'entities': {'url': {'urls': [{'url': 'https://t.co/13SulifUgR', 'expanded_url': 'http://www.opoyi.com', 'display_url': 'opoyi.com', 'indices': [0, 23]}]}, 'description': {'urls': []}}, 'protected': False, 'followers_count': 9596, 'friends_count': 49, 'listed_count': 3, 'created_at': 'Sun Jan 13 18:33:22 +0000 2019', 'favourites_count': 14, 'utc_offset': None, 'time_zone': None, 'geo_enabled': False, 'verified': False, 'statuses_count': 10290, 'lang': None, 'contributors_enabled': False, 'is_translator': False, 'is_translation_enabled': False, 'profile_background_color': 'F5F8FA', 'profile_background_image_url': None, 'profile_background_image_url_https': None, 'profile_background_tile': False, 'profile_image_url': 'http://pbs.twimg.com/profile_images/1276535290463580162/g3rsV036_normal.png', 'profile_image_url_https': 'https://pbs.twimg.com/profile_images/1276535290463580162/g3rsV036_normal.png', 'profile_banner_url': 'https://pbs.twimg.com/profile_banners/1084518784004542464/1601705122', 'profile_link_color': '1DA1F2', 'profile_sidebar_border_color': 'C0DEED', 'profile_sidebar_fill_color': 'DDEEF6', 'profile_text_color': '333333', 'profile_use_background_image': True, 'has_extended_profile': False, 'default_profile': True, 'default_profile_image': False, 'following': False, 'follow_request_sent': False, 'notifications': False, 'translator_type': 'none'}, 'geo': None, 'coordinates': None, 'place': None, 'contributors': None, 'is_quote_status': False, 'retweet_count': 0, 'favorite_count': 2, 'favorited': False, 'retweeted': False, 'possibly_sensitive': False, 'lang': 'en'}, created_at=datetime.datetime(2020, 10, 31, 9, 32, 59), id=1322471621425201152, id_str='1322471621425201152', full_text='#IPL2020: #MumbaiIndians captain Kieron Pollard wins toss, elects to field vs #DelhiCapitals.\\n\\nStay tuned for live updates: https://t.co/fDC9F5E7EP\\n\\n#DCvsMI https://t.co/N84L1Oswoy', truncated=False, display_text_range=[0, 156], entities={'hashtags': [{'text': 'IPL2020', 'indices': [0, 8]}, {'text': 'MumbaiIndians', 'indices': [10, 24]}, {'text': 'DelhiCapitals', 'indices': [78, 92]}, {'text': 'DCvsMI', 'indices': [149, 156]}], 'symbols': [], 'user_mentions': [], 'urls': [{'url': 'https://t.co/fDC9F5E7EP', 'expanded_url': 'http://bit.ly/2THgvTO', 'display_url': 'bit.ly/2THgvTO', 'indices': [124, 147]}], 'media': [{'id': 1322470663328731137, 'id_str': '1322470663328731137', 'indices': [157, 180], 'media_url': 'http://pbs.twimg.com/media/ElpcD8GVkAENgX0.jpg', 'media_url_https': 'https://pbs.twimg.com/media/ElpcD8GVkAENgX0.jpg', 'url': 'https://t.co/N84L1Oswoy', 'display_url': 'pic.twitter.com/N84L1Oswoy', 'expanded_url': 'https://twitter.com/Opoyis/status/1322471621425201152/photo/1', 'type': 'photo', 'sizes': {'thumb': {'w': 150, 'h': 150, 'resize': 'crop'}, 'medium': {'w': 1081, 'h': 1081, 'resize': 'fit'}, 'small': {'w': 680, 'h': 680, 'resize': 'fit'}, 'large': {'w': 1081, 'h': 1081, 'resize': 'fit'}}}]}, extended_entities={'media': [{'id': 1322470663328731137, 'id_str': '1322470663328731137', 'indices': [157, 180], 'media_url': 'http://pbs.twimg.com/media/ElpcD8GVkAENgX0.jpg', 'media_url_https': 'https://pbs.twimg.com/media/ElpcD8GVkAENgX0.jpg', 'url': 'https://t.co/N84L1Oswoy', 'display_url': 'pic.twitter.com/N84L1Oswoy', 'expanded_url': 'https://twitter.com/Opoyis/status/1322471621425201152/photo/1', 'type': 'photo', 'sizes': {'thumb': {'w': 150, 'h': 150, 'resize': 'crop'}, 'medium': {'w': 1081, 'h': 1081, 'resize': 'fit'}, 'small': {'w': 680, 'h': 680, 'resize': 'fit'}, 'large': {'w': 1081, 'h': 1081, 'resize': 'fit'}}}]}, metadata={'iso_language_code': 'en', 'result_type': 'recent'}, source='Twitter Web App', source_url='https://mobile.twitter.com', in_reply_to_status_id=None, in_reply_to_status_id_str=None, in_reply_to_user_id=None, in_reply_to_user_id_str=None, in_reply_to_screen_name=None, author=User(_api=<tweepy.api.API object at 0x000001AD82B86E48>, _json={'id': 1084518784004542464, 'id_str': '1084518784004542464', 'name': 'Opoyi', 'screen_name': 'Opoyis', 'location': '', 'description': 'High-quality trusted conversations around news and information, in 12 languages.', 'url': 'https://t.co/13SulifUgR', 'entities': {'url': {'urls': [{'url': 'https://t.co/13SulifUgR', 'expanded_url': 'http://www.opoyi.com', 'display_url': 'opoyi.com', 'indices': [0, 23]}]}, 'description': {'urls': []}}, 'protected': False, 'followers_count': 9596, 'friends_count': 49, 'listed_count': 3, 'created_at': 'Sun Jan 13 18:33:22 +0000 2019', 'favourites_count': 14, 'utc_offset': None, 'time_zone': None, 'geo_enabled': False, 'verified': False, 'statuses_count': 10290, 'lang': None, 'contributors_enabled': False, 'is_translator': False, 'is_translation_enabled': False, 'profile_background_color': 'F5F8FA', 'profile_background_image_url': None, 'profile_background_image_url_https': None, 'profile_background_tile': False, 'profile_image_url': 'http://pbs.twimg.com/profile_images/1276535290463580162/g3rsV036_normal.png', 'profile_image_url_https': 'https://pbs.twimg.com/profile_images/1276535290463580162/g3rsV036_normal.png', 'profile_banner_url': 'https://pbs.twimg.com/profile_banners/1084518784004542464/1601705122', 'profile_link_color': '1DA1F2', 'profile_sidebar_border_color': 'C0DEED', 'profile_sidebar_fill_color': 'DDEEF6', 'profile_text_color': '333333', 'profile_use_background_image': True, 'has_extended_profile': False, 'default_profile': True, 'default_profile_image': False, 'following': False, 'follow_request_sent': False, 'notifications': False, 'translator_type': 'none'}, id=1084518784004542464, id_str='1084518784004542464', name='Opoyi', screen_name='Opoyis', location='', description='High-quality trusted conversations around news and information, in 12 languages.', url='https://t.co/13SulifUgR', entities={'url': {'urls': [{'url': 'https://t.co/13SulifUgR', 'expanded_url': 'http://www.opoyi.com', 'display_url': 'opoyi.com', 'indices': [0, 23]}]}, 'description': {'urls': []}}, protected=False, followers_count=9596, friends_count=49, listed_count=3, created_at=datetime.datetime(2019, 1, 13, 18, 33, 22), favourites_count=14, utc_offset=None, time_zone=None, geo_enabled=False, verified=False, statuses_count=10290, lang=None, contributors_enabled=False, is_translator=False, is_translation_enabled=False, profile_background_color='F5F8FA', profile_background_image_url=None, profile_background_image_url_https=None, profile_background_tile=False, profile_image_url='http://pbs.twimg.com/profile_images/1276535290463580162/g3rsV036_normal.png', profile_image_url_https='https://pbs.twimg.com/profile_images/1276535290463580162/g3rsV036_normal.png', profile_banner_url='https://pbs.twimg.com/profile_banners/1084518784004542464/1601705122', profile_link_color='1DA1F2', profile_sidebar_border_color='C0DEED', profile_sidebar_fill_color='DDEEF6', profile_text_color='333333', profile_use_background_image=True, has_extended_profile=False, default_profile=True, default_profile_image=False, following=False, follow_request_sent=False, notifications=False, translator_type='none'), user=User(_api=<tweepy.api.API object at 0x000001AD82B86E48>, _json={'id': 1084518784004542464, 'id_str': '1084518784004542464', 'name': 'Opoyi', 'screen_name': 'Opoyis', 'location': '', 'description': 'High-quality trusted conversations around news and information, in 12 languages.', 'url': 'https://t.co/13SulifUgR', 'entities': {'url': {'urls': [{'url': 'https://t.co/13SulifUgR', 'expanded_url': 'http://www.opoyi.com', 'display_url': 'opoyi.com', 'indices': [0, 23]}]}, 'description': {'urls': []}}, 'protected': False, 'followers_count': 9596, 'friends_count': 49, 'listed_count': 3, 'created_at': 'Sun Jan 13 18:33:22 +0000 2019', 'favourites_count': 14, 'utc_offset': None, 'time_zone': None, 'geo_enabled': False, 'verified': False, 'statuses_count': 10290, 'lang': None, 'contributors_enabled': False, 'is_translator': False, 'is_translation_enabled': False, 'profile_background_color': 'F5F8FA', 'profile_background_image_url': None, 'profile_background_image_url_https': None, 'profile_background_tile': False, 'profile_image_url': 'http://pbs.twimg.com/profile_images/1276535290463580162/g3rsV036_normal.png', 'profile_image_url_https': 'https://pbs.twimg.com/profile_images/1276535290463580162/g3rsV036_normal.png', 'profile_banner_url': 'https://pbs.twimg.com/profile_banners/1084518784004542464/1601705122', 'profile_link_color': '1DA1F2', 'profile_sidebar_border_color': 'C0DEED', 'profile_sidebar_fill_color': 'DDEEF6', 'profile_text_color': '333333', 'profile_use_background_image': True, 'has_extended_profile': False, 'default_profile': True, 'default_profile_image': False, 'following': False, 'follow_request_sent': False, 'notifications': False, 'translator_type': 'none'}, id=1084518784004542464, id_str='1084518784004542464', name='Opoyi', screen_name='Opoyis', location='', description='High-quality trusted conversations around news and information, in 12 languages.', url='https://t.co/13SulifUgR', entities={'url': {'urls': [{'url': 'https://t.co/13SulifUgR', 'expanded_url': 'http://www.opoyi.com', 'display_url': 'opoyi.com', 'indices': [0, 23]}]}, 'description': {'urls': []}}, protected=False, followers_count=9596, friends_count=49, listed_count=3, created_at=datetime.datetime(2019, 1, 13, 18, 33, 22), favourites_count=14, utc_offset=None, time_zone=None, geo_enabled=False, verified=False, statuses_count=10290, lang=None, contributors_enabled=False, is_translator=False, is_translation_enabled=False, profile_background_color='F5F8FA', profile_background_image_url=None, profile_background_image_url_https=None, profile_background_tile=False, profile_image_url='http://pbs.twimg.com/profile_images/1276535290463580162/g3rsV036_normal.png', profile_image_url_https='https://pbs.twimg.com/profile_images/1276535290463580162/g3rsV036_normal.png', profile_banner_url='https://pbs.twimg.com/profile_banners/1084518784004542464/1601705122', profile_link_color='1DA1F2', profile_sidebar_border_color='C0DEED', profile_sidebar_fill_color='DDEEF6', profile_text_color='333333', profile_use_background_image=True, has_extended_profile=False, default_profile=True, default_profile_image=False, following=False, follow_request_sent=False, notifications=False, translator_type='none'), geo=None, coordinates=None, place=None, contributors=None, is_quote_status=False, retweet_count=0, favorite_count=2, favorited=False, retweeted=False, possibly_sensitive=False, lang='en') \n",
      "\n",
      "--------------------------------------\n",
      "\n",
      "Status(_api=<tweepy.api.API object at 0x000001AD82B86E48>, _json={'created_at': 'Sat Oct 31 09:32:16 +0000 2020', 'id': 1322471438930993152, 'id_str': '1322471438930993152', 'full_text': '#IPL2020 #DCvsMI #MIvsDC \\n\\n@mipaltan captain @KieronPollard55 wins toss, opts to bowl against @DelhiCapitals in Dubai 🏏\\n\\nFOLLOW LIVE ⤵️\\n\\nhttps://t.co/abWfAARbn0', 'truncated': False, 'display_text_range': [0, 160], 'entities': {'hashtags': [{'text': 'IPL2020', 'indices': [0, 8]}, {'text': 'DCvsMI', 'indices': [9, 16]}, {'text': 'MIvsDC', 'indices': [17, 24]}], 'symbols': [], 'user_mentions': [{'screen_name': 'mipaltan', 'name': 'Mumbai Indians', 'id': 106345557, 'id_str': '106345557', 'indices': [27, 36]}, {'screen_name': 'KieronPollard55', 'name': 'Kieron Pollard', 'id': 281947148, 'id_str': '281947148', 'indices': [45, 61]}, {'screen_name': 'DelhiCapitals', 'name': 'Delhi Capitals (Tweeting from 🇦🇪)', 'id': 176888549, 'id_str': '176888549', 'indices': [94, 108]}], 'urls': [{'url': 'https://t.co/abWfAARbn0', 'expanded_url': 'https://timesofindia.indiatimes.com/sports/cricket/ipl/top-stories/dc-vs-mi-live-score-updates-ipl-2020/articleshow/78966805.cms', 'display_url': 'timesofindia.indiatimes.com/sports/cricket…', 'indices': [137, 160]}]}, 'metadata': {'iso_language_code': 'en', 'result_type': 'recent'}, 'source': '<a href=\"https://mobile.twitter.com\" rel=\"nofollow\">Twitter Web App</a>', 'in_reply_to_status_id': None, 'in_reply_to_status_id_str': None, 'in_reply_to_user_id': None, 'in_reply_to_user_id_str': None, 'in_reply_to_screen_name': None, 'user': {'id': 128555221, 'id_str': '128555221', 'name': 'TOI Sports', 'screen_name': 'toisports', 'location': 'New Delhi, India', 'description': 'The top destination for all the major sports news from around the world - A Times Internet product\\nhttps://t.co/pac68wnoDG', 'url': 'https://t.co/W9M0IsFjvK', 'entities': {'url': {'urls': [{'url': 'https://t.co/W9M0IsFjvK', 'expanded_url': 'http://timesofindia.com/sports', 'display_url': 'timesofindia.com/sports', 'indices': [0, 23]}]}, 'description': {'urls': [{'url': 'https://t.co/pac68wnoDG', 'expanded_url': 'https://www.facebook.com/toisports', 'display_url': 'facebook.com/toisports', 'indices': [99, 122]}]}}, 'protected': False, 'followers_count': 1029278, 'friends_count': 249, 'listed_count': 131, 'created_at': 'Thu Apr 01 13:26:56 +0000 2010', 'favourites_count': 11, 'utc_offset': None, 'time_zone': None, 'geo_enabled': True, 'verified': True, 'statuses_count': 110031, 'lang': None, 'contributors_enabled': False, 'is_translator': False, 'is_translation_enabled': False, 'profile_background_color': 'C0DEED', 'profile_background_image_url': 'http://abs.twimg.com/images/themes/theme1/bg.png', 'profile_background_image_url_https': 'https://abs.twimg.com/images/themes/theme1/bg.png', 'profile_background_tile': False, 'profile_image_url': 'http://pbs.twimg.com/profile_images/826320015024672768/Fm3wsT1s_normal.jpg', 'profile_image_url_https': 'https://pbs.twimg.com/profile_images/826320015024672768/Fm3wsT1s_normal.jpg', 'profile_banner_url': 'https://pbs.twimg.com/profile_banners/128555221/1603369950', 'profile_link_color': '1DA1F2', 'profile_sidebar_border_color': 'C0DEED', 'profile_sidebar_fill_color': 'DDEEF6', 'profile_text_color': '333333', 'profile_use_background_image': True, 'has_extended_profile': False, 'default_profile': True, 'default_profile_image': False, 'following': False, 'follow_request_sent': False, 'notifications': False, 'translator_type': 'none'}, 'geo': None, 'coordinates': None, 'place': None, 'contributors': None, 'is_quote_status': False, 'retweet_count': 3, 'favorite_count': 22, 'favorited': False, 'retweeted': False, 'possibly_sensitive': False, 'lang': 'en'}, created_at=datetime.datetime(2020, 10, 31, 9, 32, 16), id=1322471438930993152, id_str='1322471438930993152', full_text='#IPL2020 #DCvsMI #MIvsDC \\n\\n@mipaltan captain @KieronPollard55 wins toss, opts to bowl against @DelhiCapitals in Dubai 🏏\\n\\nFOLLOW LIVE ⤵️\\n\\nhttps://t.co/abWfAARbn0', truncated=False, display_text_range=[0, 160], entities={'hashtags': [{'text': 'IPL2020', 'indices': [0, 8]}, {'text': 'DCvsMI', 'indices': [9, 16]}, {'text': 'MIvsDC', 'indices': [17, 24]}], 'symbols': [], 'user_mentions': [{'screen_name': 'mipaltan', 'name': 'Mumbai Indians', 'id': 106345557, 'id_str': '106345557', 'indices': [27, 36]}, {'screen_name': 'KieronPollard55', 'name': 'Kieron Pollard', 'id': 281947148, 'id_str': '281947148', 'indices': [45, 61]}, {'screen_name': 'DelhiCapitals', 'name': 'Delhi Capitals (Tweeting from 🇦🇪)', 'id': 176888549, 'id_str': '176888549', 'indices': [94, 108]}], 'urls': [{'url': 'https://t.co/abWfAARbn0', 'expanded_url': 'https://timesofindia.indiatimes.com/sports/cricket/ipl/top-stories/dc-vs-mi-live-score-updates-ipl-2020/articleshow/78966805.cms', 'display_url': 'timesofindia.indiatimes.com/sports/cricket…', 'indices': [137, 160]}]}, metadata={'iso_language_code': 'en', 'result_type': 'recent'}, source='Twitter Web App', source_url='https://mobile.twitter.com', in_reply_to_status_id=None, in_reply_to_status_id_str=None, in_reply_to_user_id=None, in_reply_to_user_id_str=None, in_reply_to_screen_name=None, author=User(_api=<tweepy.api.API object at 0x000001AD82B86E48>, _json={'id': 128555221, 'id_str': '128555221', 'name': 'TOI Sports', 'screen_name': 'toisports', 'location': 'New Delhi, India', 'description': 'The top destination for all the major sports news from around the world - A Times Internet product\\nhttps://t.co/pac68wnoDG', 'url': 'https://t.co/W9M0IsFjvK', 'entities': {'url': {'urls': [{'url': 'https://t.co/W9M0IsFjvK', 'expanded_url': 'http://timesofindia.com/sports', 'display_url': 'timesofindia.com/sports', 'indices': [0, 23]}]}, 'description': {'urls': [{'url': 'https://t.co/pac68wnoDG', 'expanded_url': 'https://www.facebook.com/toisports', 'display_url': 'facebook.com/toisports', 'indices': [99, 122]}]}}, 'protected': False, 'followers_count': 1029278, 'friends_count': 249, 'listed_count': 131, 'created_at': 'Thu Apr 01 13:26:56 +0000 2010', 'favourites_count': 11, 'utc_offset': None, 'time_zone': None, 'geo_enabled': True, 'verified': True, 'statuses_count': 110031, 'lang': None, 'contributors_enabled': False, 'is_translator': False, 'is_translation_enabled': False, 'profile_background_color': 'C0DEED', 'profile_background_image_url': 'http://abs.twimg.com/images/themes/theme1/bg.png', 'profile_background_image_url_https': 'https://abs.twimg.com/images/themes/theme1/bg.png', 'profile_background_tile': False, 'profile_image_url': 'http://pbs.twimg.com/profile_images/826320015024672768/Fm3wsT1s_normal.jpg', 'profile_image_url_https': 'https://pbs.twimg.com/profile_images/826320015024672768/Fm3wsT1s_normal.jpg', 'profile_banner_url': 'https://pbs.twimg.com/profile_banners/128555221/1603369950', 'profile_link_color': '1DA1F2', 'profile_sidebar_border_color': 'C0DEED', 'profile_sidebar_fill_color': 'DDEEF6', 'profile_text_color': '333333', 'profile_use_background_image': True, 'has_extended_profile': False, 'default_profile': True, 'default_profile_image': False, 'following': False, 'follow_request_sent': False, 'notifications': False, 'translator_type': 'none'}, id=128555221, id_str='128555221', name='TOI Sports', screen_name='toisports', location='New Delhi, India', description='The top destination for all the major sports news from around the world - A Times Internet product\\nhttps://t.co/pac68wnoDG', url='https://t.co/W9M0IsFjvK', entities={'url': {'urls': [{'url': 'https://t.co/W9M0IsFjvK', 'expanded_url': 'http://timesofindia.com/sports', 'display_url': 'timesofindia.com/sports', 'indices': [0, 23]}]}, 'description': {'urls': [{'url': 'https://t.co/pac68wnoDG', 'expanded_url': 'https://www.facebook.com/toisports', 'display_url': 'facebook.com/toisports', 'indices': [99, 122]}]}}, protected=False, followers_count=1029278, friends_count=249, listed_count=131, created_at=datetime.datetime(2010, 4, 1, 13, 26, 56), favourites_count=11, utc_offset=None, time_zone=None, geo_enabled=True, verified=True, statuses_count=110031, lang=None, contributors_enabled=False, is_translator=False, is_translation_enabled=False, profile_background_color='C0DEED', profile_background_image_url='http://abs.twimg.com/images/themes/theme1/bg.png', profile_background_image_url_https='https://abs.twimg.com/images/themes/theme1/bg.png', profile_background_tile=False, profile_image_url='http://pbs.twimg.com/profile_images/826320015024672768/Fm3wsT1s_normal.jpg', profile_image_url_https='https://pbs.twimg.com/profile_images/826320015024672768/Fm3wsT1s_normal.jpg', profile_banner_url='https://pbs.twimg.com/profile_banners/128555221/1603369950', profile_link_color='1DA1F2', profile_sidebar_border_color='C0DEED', profile_sidebar_fill_color='DDEEF6', profile_text_color='333333', profile_use_background_image=True, has_extended_profile=False, default_profile=True, default_profile_image=False, following=False, follow_request_sent=False, notifications=False, translator_type='none'), user=User(_api=<tweepy.api.API object at 0x000001AD82B86E48>, _json={'id': 128555221, 'id_str': '128555221', 'name': 'TOI Sports', 'screen_name': 'toisports', 'location': 'New Delhi, India', 'description': 'The top destination for all the major sports news from around the world - A Times Internet product\\nhttps://t.co/pac68wnoDG', 'url': 'https://t.co/W9M0IsFjvK', 'entities': {'url': {'urls': [{'url': 'https://t.co/W9M0IsFjvK', 'expanded_url': 'http://timesofindia.com/sports', 'display_url': 'timesofindia.com/sports', 'indices': [0, 23]}]}, 'description': {'urls': [{'url': 'https://t.co/pac68wnoDG', 'expanded_url': 'https://www.facebook.com/toisports', 'display_url': 'facebook.com/toisports', 'indices': [99, 122]}]}}, 'protected': False, 'followers_count': 1029278, 'friends_count': 249, 'listed_count': 131, 'created_at': 'Thu Apr 01 13:26:56 +0000 2010', 'favourites_count': 11, 'utc_offset': None, 'time_zone': None, 'geo_enabled': True, 'verified': True, 'statuses_count': 110031, 'lang': None, 'contributors_enabled': False, 'is_translator': False, 'is_translation_enabled': False, 'profile_background_color': 'C0DEED', 'profile_background_image_url': 'http://abs.twimg.com/images/themes/theme1/bg.png', 'profile_background_image_url_https': 'https://abs.twimg.com/images/themes/theme1/bg.png', 'profile_background_tile': False, 'profile_image_url': 'http://pbs.twimg.com/profile_images/826320015024672768/Fm3wsT1s_normal.jpg', 'profile_image_url_https': 'https://pbs.twimg.com/profile_images/826320015024672768/Fm3wsT1s_normal.jpg', 'profile_banner_url': 'https://pbs.twimg.com/profile_banners/128555221/1603369950', 'profile_link_color': '1DA1F2', 'profile_sidebar_border_color': 'C0DEED', 'profile_sidebar_fill_color': 'DDEEF6', 'profile_text_color': '333333', 'profile_use_background_image': True, 'has_extended_profile': False, 'default_profile': True, 'default_profile_image': False, 'following': False, 'follow_request_sent': False, 'notifications': False, 'translator_type': 'none'}, id=128555221, id_str='128555221', name='TOI Sports', screen_name='toisports', location='New Delhi, India', description='The top destination for all the major sports news from around the world - A Times Internet product\\nhttps://t.co/pac68wnoDG', url='https://t.co/W9M0IsFjvK', entities={'url': {'urls': [{'url': 'https://t.co/W9M0IsFjvK', 'expanded_url': 'http://timesofindia.com/sports', 'display_url': 'timesofindia.com/sports', 'indices': [0, 23]}]}, 'description': {'urls': [{'url': 'https://t.co/pac68wnoDG', 'expanded_url': 'https://www.facebook.com/toisports', 'display_url': 'facebook.com/toisports', 'indices': [99, 122]}]}}, protected=False, followers_count=1029278, friends_count=249, listed_count=131, created_at=datetime.datetime(2010, 4, 1, 13, 26, 56), favourites_count=11, utc_offset=None, time_zone=None, geo_enabled=True, verified=True, statuses_count=110031, lang=None, contributors_enabled=False, is_translator=False, is_translation_enabled=False, profile_background_color='C0DEED', profile_background_image_url='http://abs.twimg.com/images/themes/theme1/bg.png', profile_background_image_url_https='https://abs.twimg.com/images/themes/theme1/bg.png', profile_background_tile=False, profile_image_url='http://pbs.twimg.com/profile_images/826320015024672768/Fm3wsT1s_normal.jpg', profile_image_url_https='https://pbs.twimg.com/profile_images/826320015024672768/Fm3wsT1s_normal.jpg', profile_banner_url='https://pbs.twimg.com/profile_banners/128555221/1603369950', profile_link_color='1DA1F2', profile_sidebar_border_color='C0DEED', profile_sidebar_fill_color='DDEEF6', profile_text_color='333333', profile_use_background_image=True, has_extended_profile=False, default_profile=True, default_profile_image=False, following=False, follow_request_sent=False, notifications=False, translator_type='none'), geo=None, coordinates=None, place=None, contributors=None, is_quote_status=False, retweet_count=3, favorite_count=22, favorited=False, retweeted=False, possibly_sensitive=False, lang='en') \n",
      "\n",
      "--------------------------------------\n",
      "\n"
     ]
    }
   ],
   "source": [
    "Tweets = api.search(query, count=10, lang='en', exclude=\"retweets\", tweet_mode='extended')\n",
    "# tweet_mode = 'compat' - Default : only the tweets with <= 140 characters\n",
    "# tweet_mode = 'extended' - Includes tweets with > 140 chars\n",
    "\n",
    "# api.search is used for less than 100 tweets, \n",
    "# For more than 100 tweets, tweepy.cursor() is used\n",
    "\n",
    "for tweet in Tweets:\n",
    "    print(tweet, '\\n')\n",
    "    print('--------------------------------------\\n')"
   ]
  },
  {
   "cell_type": "markdown",
   "metadata": {},
   "source": [
    "##### The Format is not very user friedly, so, we'll get some attributes"
   ]
  },
  {
   "cell_type": "code",
   "execution_count": 10,
   "metadata": {},
   "outputs": [
    {
     "name": "stdout",
     "output_type": "stream",
     "text": [
      "Empty DataFrame\n",
      "Columns: [Tweets, User, User_Statuses_Count, User_Followers, User_Location, User_Verified, Fav_Count, RT_Count, Tweet_Date]\n",
      "Index: []\n",
      "(0, 9)\n"
     ]
    }
   ],
   "source": [
    "df = pd.DataFrame(columns=[\"Tweets\", \"User\", \"User_Statuses_Count\",\"User_Followers\", \"User_Location\",\n",
    "                           \"User_Verified\", \"Fav_Count\", \"RT_Count\", \"Tweet_Date\"])\n",
    "\n",
    "print(df)\n",
    "print(df.shape)"
   ]
  },
  {
   "cell_type": "code",
   "execution_count": 19,
   "metadata": {},
   "outputs": [],
   "source": [
    "def stream(data, file_name):\n",
    "    i=0\n",
    "    for tweet in tweepy.Cursor(api.search, q=data, count=100, lang='en').items():\n",
    "        print(i, end='\\r')\n",
    "        df.loc[i, 'Tweets'] = tweet.text\n",
    "        df.loc[i, 'User'] = tweet.user.name\n",
    "        df.loc[i, 'User_Statuses_Count'] = tweet.user.statuses_count\n",
    "        df.loc[i, 'User_Followers'] = tweet.user.followers_count\n",
    "        df.loc[i, 'User_Location'] = tweet.user.location\n",
    "        df.loc[i, 'User_Verified'] = tweet.user.verified\n",
    "        df.loc[i, 'Fav_Count'] = tweet.favorite_count\n",
    "        df.loc[i, 'RT_Count'] = tweet.retweet_count\n",
    "        df.loc[i, 'Tweet_Date'] = tweet.created_at\n",
    "        \n",
    "        df.to_excel('{}.xlsx'.format(file_name))\n",
    "        i+=1\n",
    "        if(i==1000):\n",
    "            break"
   ]
  },
  {
   "cell_type": "code",
   "execution_count": 21,
   "metadata": {},
   "outputs": [
    {
     "name": "stdout",
     "output_type": "stream",
     "text": [
      "999\r"
     ]
    }
   ],
   "source": [
    "stream(data=[query], file_name=\"Covid-Cases_Tweets\")"
   ]
  },
  {
   "cell_type": "code",
   "execution_count": 23,
   "metadata": {},
   "outputs": [
    {
     "data": {
      "text/html": [
       "<div>\n",
       "<style scoped>\n",
       "    .dataframe tbody tr th:only-of-type {\n",
       "        vertical-align: middle;\n",
       "    }\n",
       "\n",
       "    .dataframe tbody tr th {\n",
       "        vertical-align: top;\n",
       "    }\n",
       "\n",
       "    .dataframe thead th {\n",
       "        text-align: right;\n",
       "    }\n",
       "</style>\n",
       "<table border=\"1\" class=\"dataframe\">\n",
       "  <thead>\n",
       "    <tr style=\"text-align: right;\">\n",
       "      <th></th>\n",
       "      <th>Tweets</th>\n",
       "      <th>User</th>\n",
       "      <th>User_Statuses_Count</th>\n",
       "      <th>User_Followers</th>\n",
       "      <th>User_Location</th>\n",
       "      <th>User_Verified</th>\n",
       "      <th>Fav_Count</th>\n",
       "      <th>RT_Count</th>\n",
       "      <th>Tweet_Date</th>\n",
       "    </tr>\n",
       "  </thead>\n",
       "  <tbody>\n",
       "    <tr>\n",
       "      <th>0</th>\n",
       "      <td>RT @timesofindia: India sustains trend of decl...</td>\n",
       "      <td>Farha Naaz Ali</td>\n",
       "      <td>223</td>\n",
       "      <td>17</td>\n",
       "      <td>Earth</td>\n",
       "      <td>False</td>\n",
       "      <td>0</td>\n",
       "      <td>3</td>\n",
       "      <td>2020-11-01 09:50:29</td>\n",
       "    </tr>\n",
       "    <tr>\n",
       "      <th>1</th>\n",
       "      <td>RT @COVIDNewsByMIB: #CoronaVirusUpdates: \\n\\n📍...</td>\n",
       "      <td>NOTTO</td>\n",
       "      <td>15399</td>\n",
       "      <td>650</td>\n",
       "      <td>India</td>\n",
       "      <td>False</td>\n",
       "      <td>0</td>\n",
       "      <td>29</td>\n",
       "      <td>2020-11-01 09:40:53</td>\n",
       "    </tr>\n",
       "    <tr>\n",
       "      <th>2</th>\n",
       "      <td>India continues to have one of the lowest COVI...</td>\n",
       "      <td>Millennium Post</td>\n",
       "      <td>96305</td>\n",
       "      <td>822</td>\n",
       "      <td>New Delhi, India</td>\n",
       "      <td>False</td>\n",
       "      <td>1</td>\n",
       "      <td>0</td>\n",
       "      <td>2020-11-01 09:39:06</td>\n",
       "    </tr>\n",
       "    <tr>\n",
       "      <th>3</th>\n",
       "      <td>RT @timesofindia: India sustains trend of decl...</td>\n",
       "      <td>Chinmay Gadre</td>\n",
       "      <td>6099</td>\n",
       "      <td>59</td>\n",
       "      <td></td>\n",
       "      <td>False</td>\n",
       "      <td>0</td>\n",
       "      <td>3</td>\n",
       "      <td>2020-11-01 09:37:37</td>\n",
       "    </tr>\n",
       "    <tr>\n",
       "      <th>4</th>\n",
       "      <td>18 #Trump rallies resulted in 30,000 #COVID19 ...</td>\n",
       "      <td>Business Today</td>\n",
       "      <td>125464</td>\n",
       "      <td>1053711</td>\n",
       "      <td>India</td>\n",
       "      <td>True</td>\n",
       "      <td>7</td>\n",
       "      <td>0</td>\n",
       "      <td>2020-11-01 09:36:27</td>\n",
       "    </tr>\n",
       "  </tbody>\n",
       "</table>\n",
       "</div>"
      ],
      "text/plain": [
       "                                              Tweets             User  \\\n",
       "0  RT @timesofindia: India sustains trend of decl...   Farha Naaz Ali   \n",
       "1  RT @COVIDNewsByMIB: #CoronaVirusUpdates: \\n\\n📍...            NOTTO   \n",
       "2  India continues to have one of the lowest COVI...  Millennium Post   \n",
       "3  RT @timesofindia: India sustains trend of decl...    Chinmay Gadre   \n",
       "4  18 #Trump rallies resulted in 30,000 #COVID19 ...   Business Today   \n",
       "\n",
       "  User_Statuses_Count User_Followers     User_Location User_Verified  \\\n",
       "0                 223             17             Earth         False   \n",
       "1               15399            650             India         False   \n",
       "2               96305            822  New Delhi, India         False   \n",
       "3                6099             59                           False   \n",
       "4              125464        1053711             India          True   \n",
       "\n",
       "  Fav_Count RT_Count           Tweet_Date  \n",
       "0         0        3  2020-11-01 09:50:29  \n",
       "1         0       29  2020-11-01 09:40:53  \n",
       "2         1        0  2020-11-01 09:39:06  \n",
       "3         0        3  2020-11-01 09:37:37  \n",
       "4         7        0  2020-11-01 09:36:27  "
      ]
     },
     "execution_count": 23,
     "metadata": {},
     "output_type": "execute_result"
    }
   ],
   "source": [
    "df.head()"
   ]
  },
  {
   "cell_type": "markdown",
   "metadata": {},
   "source": [
    "### Textblob:\n",
    "\n",
    "#### Sentiment(polarity, subjectivity)\n",
    "##### polarity score: [-1, +1]\n",
    "##### Subjectivity: [0.0, 1.0]\n",
    "###### Where 0.0 is very Objective and 1.0 is very Subjective"
   ]
  },
  {
   "cell_type": "code",
   "execution_count": 24,
   "metadata": {},
   "outputs": [],
   "source": [
    "from textblob import TextBlob"
   ]
  },
  {
   "cell_type": "markdown",
   "metadata": {},
   "source": [
    "### We need to clean the text(tweet), to perform NLP on it"
   ]
  },
  {
   "cell_type": "code",
   "execution_count": 84,
   "metadata": {},
   "outputs": [],
   "source": [
    "import re\n",
    "def clean_tweet(tweet):\n",
    "    return ' '.join(re.sub('(@[A-Za-z0-9]+)|([^0-9A-Za-z \\t])|(\\w+:\\/\\/\\S+)', ' ', tweet).split())"
   ]
  },
  {
   "cell_type": "code",
   "execution_count": 86,
   "metadata": {},
   "outputs": [],
   "source": [
    "def analyze_sentiment(tweet):\n",
    "    analysis = TextBlob(tweet)\n",
    "    if(analysis.sentiment.polarity > 0):\n",
    "        return 'Positive'\n",
    "    elif(analysis.sentiment.polarity == 0):\n",
    "        return 'Neutral'\n",
    "    else:\n",
    "        return 'Negative'"
   ]
  },
  {
   "cell_type": "code",
   "execution_count": 87,
   "metadata": {},
   "outputs": [],
   "source": [
    "df['Clean_Tweets'] = df['Tweets'].apply(lambda x : clean_tweet(x))"
   ]
  },
  {
   "cell_type": "code",
   "execution_count": 88,
   "metadata": {},
   "outputs": [
    {
     "data": {
      "text/html": [
       "<div>\n",
       "<style scoped>\n",
       "    .dataframe tbody tr th:only-of-type {\n",
       "        vertical-align: middle;\n",
       "    }\n",
       "\n",
       "    .dataframe tbody tr th {\n",
       "        vertical-align: top;\n",
       "    }\n",
       "\n",
       "    .dataframe thead th {\n",
       "        text-align: right;\n",
       "    }\n",
       "</style>\n",
       "<table border=\"1\" class=\"dataframe\">\n",
       "  <thead>\n",
       "    <tr style=\"text-align: right;\">\n",
       "      <th></th>\n",
       "      <th>Tweets</th>\n",
       "      <th>User</th>\n",
       "      <th>User_Statuses_Count</th>\n",
       "      <th>User_Followers</th>\n",
       "      <th>User_Location</th>\n",
       "      <th>User_Verified</th>\n",
       "      <th>Fav_Count</th>\n",
       "      <th>RT_Count</th>\n",
       "      <th>Tweet_Date</th>\n",
       "      <th>Clean_Tweets</th>\n",
       "      <th>Sentiment</th>\n",
       "    </tr>\n",
       "  </thead>\n",
       "  <tbody>\n",
       "    <tr>\n",
       "      <th>0</th>\n",
       "      <td>RT @timesofindia: India sustains trend of decl...</td>\n",
       "      <td>Farha Naaz Ali</td>\n",
       "      <td>223</td>\n",
       "      <td>17</td>\n",
       "      <td>Earth</td>\n",
       "      <td>False</td>\n",
       "      <td>0</td>\n",
       "      <td>3</td>\n",
       "      <td>2020-11-01 09:50:29</td>\n",
       "      <td>RT India sustains trend of declining Covid 19 ...</td>\n",
       "      <td>Negative</td>\n",
       "    </tr>\n",
       "    <tr>\n",
       "      <th>1</th>\n",
       "      <td>RT @COVIDNewsByMIB: #CoronaVirusUpdates: \\n\\n📍...</td>\n",
       "      <td>NOTTO</td>\n",
       "      <td>15399</td>\n",
       "      <td>650</td>\n",
       "      <td>India</td>\n",
       "      <td>False</td>\n",
       "      <td>0</td>\n",
       "      <td>29</td>\n",
       "      <td>2020-11-01 09:40:53</td>\n",
       "      <td>RT CoronaVirusUpdates Total COVID19 Cases in I...</td>\n",
       "      <td>Neutral</td>\n",
       "    </tr>\n",
       "    <tr>\n",
       "      <th>2</th>\n",
       "      <td>India continues to have one of the lowest COVI...</td>\n",
       "      <td>Millennium Post</td>\n",
       "      <td>96305</td>\n",
       "      <td>822</td>\n",
       "      <td>New Delhi, India</td>\n",
       "      <td>False</td>\n",
       "      <td>1</td>\n",
       "      <td>0</td>\n",
       "      <td>2020-11-01 09:39:06</td>\n",
       "      <td>India continues to have one of the lowest COVI...</td>\n",
       "      <td>Neutral</td>\n",
       "    </tr>\n",
       "    <tr>\n",
       "      <th>3</th>\n",
       "      <td>RT @timesofindia: India sustains trend of decl...</td>\n",
       "      <td>Chinmay Gadre</td>\n",
       "      <td>6099</td>\n",
       "      <td>59</td>\n",
       "      <td></td>\n",
       "      <td>False</td>\n",
       "      <td>0</td>\n",
       "      <td>3</td>\n",
       "      <td>2020-11-01 09:37:37</td>\n",
       "      <td>RT India sustains trend of declining Covid 19 ...</td>\n",
       "      <td>Negative</td>\n",
       "    </tr>\n",
       "    <tr>\n",
       "      <th>4</th>\n",
       "      <td>18 #Trump rallies resulted in 30,000 #COVID19 ...</td>\n",
       "      <td>Business Today</td>\n",
       "      <td>125464</td>\n",
       "      <td>1053711</td>\n",
       "      <td>India</td>\n",
       "      <td>True</td>\n",
       "      <td>7</td>\n",
       "      <td>0</td>\n",
       "      <td>2020-11-01 09:36:27</td>\n",
       "      <td>18 Trump rallies resulted in 30 000 COVID19 ca...</td>\n",
       "      <td>Neutral</td>\n",
       "    </tr>\n",
       "  </tbody>\n",
       "</table>\n",
       "</div>"
      ],
      "text/plain": [
       "                                              Tweets             User  \\\n",
       "0  RT @timesofindia: India sustains trend of decl...   Farha Naaz Ali   \n",
       "1  RT @COVIDNewsByMIB: #CoronaVirusUpdates: \\n\\n📍...            NOTTO   \n",
       "2  India continues to have one of the lowest COVI...  Millennium Post   \n",
       "3  RT @timesofindia: India sustains trend of decl...    Chinmay Gadre   \n",
       "4  18 #Trump rallies resulted in 30,000 #COVID19 ...   Business Today   \n",
       "\n",
       "  User_Statuses_Count User_Followers     User_Location User_Verified  \\\n",
       "0                 223             17             Earth         False   \n",
       "1               15399            650             India         False   \n",
       "2               96305            822  New Delhi, India         False   \n",
       "3                6099             59                           False   \n",
       "4              125464        1053711             India          True   \n",
       "\n",
       "  Fav_Count RT_Count           Tweet_Date  \\\n",
       "0         0        3  2020-11-01 09:50:29   \n",
       "1         0       29  2020-11-01 09:40:53   \n",
       "2         1        0  2020-11-01 09:39:06   \n",
       "3         0        3  2020-11-01 09:37:37   \n",
       "4         7        0  2020-11-01 09:36:27   \n",
       "\n",
       "                                        Clean_Tweets Sentiment  \n",
       "0  RT India sustains trend of declining Covid 19 ...  Negative  \n",
       "1  RT CoronaVirusUpdates Total COVID19 Cases in I...   Neutral  \n",
       "2  India continues to have one of the lowest COVI...   Neutral  \n",
       "3  RT India sustains trend of declining Covid 19 ...  Negative  \n",
       "4  18 Trump rallies resulted in 30 000 COVID19 ca...   Neutral  "
      ]
     },
     "execution_count": 88,
     "metadata": {},
     "output_type": "execute_result"
    }
   ],
   "source": [
    "df.head()"
   ]
  },
  {
   "cell_type": "code",
   "execution_count": 89,
   "metadata": {},
   "outputs": [],
   "source": [
    "df['Sentiment'] = df['Clean_Tweets'].apply(lambda x : analyze_sentiment(x))"
   ]
  },
  {
   "cell_type": "code",
   "execution_count": 90,
   "metadata": {},
   "outputs": [
    {
     "data": {
      "text/html": [
       "<div>\n",
       "<style scoped>\n",
       "    .dataframe tbody tr th:only-of-type {\n",
       "        vertical-align: middle;\n",
       "    }\n",
       "\n",
       "    .dataframe tbody tr th {\n",
       "        vertical-align: top;\n",
       "    }\n",
       "\n",
       "    .dataframe thead th {\n",
       "        text-align: right;\n",
       "    }\n",
       "</style>\n",
       "<table border=\"1\" class=\"dataframe\">\n",
       "  <thead>\n",
       "    <tr style=\"text-align: right;\">\n",
       "      <th></th>\n",
       "      <th>Tweets</th>\n",
       "      <th>User</th>\n",
       "      <th>User_Statuses_Count</th>\n",
       "      <th>User_Followers</th>\n",
       "      <th>User_Location</th>\n",
       "      <th>User_Verified</th>\n",
       "      <th>Fav_Count</th>\n",
       "      <th>RT_Count</th>\n",
       "      <th>Tweet_Date</th>\n",
       "      <th>Clean_Tweets</th>\n",
       "      <th>Sentiment</th>\n",
       "    </tr>\n",
       "  </thead>\n",
       "  <tbody>\n",
       "    <tr>\n",
       "      <th>0</th>\n",
       "      <td>RT @timesofindia: India sustains trend of decl...</td>\n",
       "      <td>Farha Naaz Ali</td>\n",
       "      <td>223</td>\n",
       "      <td>17</td>\n",
       "      <td>Earth</td>\n",
       "      <td>False</td>\n",
       "      <td>0</td>\n",
       "      <td>3</td>\n",
       "      <td>2020-11-01 09:50:29</td>\n",
       "      <td>RT India sustains trend of declining Covid 19 ...</td>\n",
       "      <td>Negative</td>\n",
       "    </tr>\n",
       "    <tr>\n",
       "      <th>1</th>\n",
       "      <td>RT @COVIDNewsByMIB: #CoronaVirusUpdates: \\n\\n📍...</td>\n",
       "      <td>NOTTO</td>\n",
       "      <td>15399</td>\n",
       "      <td>650</td>\n",
       "      <td>India</td>\n",
       "      <td>False</td>\n",
       "      <td>0</td>\n",
       "      <td>29</td>\n",
       "      <td>2020-11-01 09:40:53</td>\n",
       "      <td>RT CoronaVirusUpdates Total COVID19 Cases in I...</td>\n",
       "      <td>Neutral</td>\n",
       "    </tr>\n",
       "    <tr>\n",
       "      <th>2</th>\n",
       "      <td>India continues to have one of the lowest COVI...</td>\n",
       "      <td>Millennium Post</td>\n",
       "      <td>96305</td>\n",
       "      <td>822</td>\n",
       "      <td>New Delhi, India</td>\n",
       "      <td>False</td>\n",
       "      <td>1</td>\n",
       "      <td>0</td>\n",
       "      <td>2020-11-01 09:39:06</td>\n",
       "      <td>India continues to have one of the lowest COVI...</td>\n",
       "      <td>Neutral</td>\n",
       "    </tr>\n",
       "    <tr>\n",
       "      <th>3</th>\n",
       "      <td>RT @timesofindia: India sustains trend of decl...</td>\n",
       "      <td>Chinmay Gadre</td>\n",
       "      <td>6099</td>\n",
       "      <td>59</td>\n",
       "      <td></td>\n",
       "      <td>False</td>\n",
       "      <td>0</td>\n",
       "      <td>3</td>\n",
       "      <td>2020-11-01 09:37:37</td>\n",
       "      <td>RT India sustains trend of declining Covid 19 ...</td>\n",
       "      <td>Negative</td>\n",
       "    </tr>\n",
       "    <tr>\n",
       "      <th>4</th>\n",
       "      <td>18 #Trump rallies resulted in 30,000 #COVID19 ...</td>\n",
       "      <td>Business Today</td>\n",
       "      <td>125464</td>\n",
       "      <td>1053711</td>\n",
       "      <td>India</td>\n",
       "      <td>True</td>\n",
       "      <td>7</td>\n",
       "      <td>0</td>\n",
       "      <td>2020-11-01 09:36:27</td>\n",
       "      <td>18 Trump rallies resulted in 30 000 COVID19 ca...</td>\n",
       "      <td>Neutral</td>\n",
       "    </tr>\n",
       "  </tbody>\n",
       "</table>\n",
       "</div>"
      ],
      "text/plain": [
       "                                              Tweets             User  \\\n",
       "0  RT @timesofindia: India sustains trend of decl...   Farha Naaz Ali   \n",
       "1  RT @COVIDNewsByMIB: #CoronaVirusUpdates: \\n\\n📍...            NOTTO   \n",
       "2  India continues to have one of the lowest COVI...  Millennium Post   \n",
       "3  RT @timesofindia: India sustains trend of decl...    Chinmay Gadre   \n",
       "4  18 #Trump rallies resulted in 30,000 #COVID19 ...   Business Today   \n",
       "\n",
       "  User_Statuses_Count User_Followers     User_Location User_Verified  \\\n",
       "0                 223             17             Earth         False   \n",
       "1               15399            650             India         False   \n",
       "2               96305            822  New Delhi, India         False   \n",
       "3                6099             59                           False   \n",
       "4              125464        1053711             India          True   \n",
       "\n",
       "  Fav_Count RT_Count           Tweet_Date  \\\n",
       "0         0        3  2020-11-01 09:50:29   \n",
       "1         0       29  2020-11-01 09:40:53   \n",
       "2         1        0  2020-11-01 09:39:06   \n",
       "3         0        3  2020-11-01 09:37:37   \n",
       "4         7        0  2020-11-01 09:36:27   \n",
       "\n",
       "                                        Clean_Tweets Sentiment  \n",
       "0  RT India sustains trend of declining Covid 19 ...  Negative  \n",
       "1  RT CoronaVirusUpdates Total COVID19 Cases in I...   Neutral  \n",
       "2  India continues to have one of the lowest COVI...   Neutral  \n",
       "3  RT India sustains trend of declining Covid 19 ...  Negative  \n",
       "4  18 Trump rallies resulted in 30 000 COVID19 ca...   Neutral  "
      ]
     },
     "execution_count": 90,
     "metadata": {},
     "output_type": "execute_result"
    }
   ],
   "source": [
    "df.head()"
   ]
  },
  {
   "cell_type": "markdown",
   "metadata": {},
   "source": [
    "## Checking the tweets and sentiments"
   ]
  },
  {
   "cell_type": "code",
   "execution_count": 91,
   "metadata": {},
   "outputs": [],
   "source": [
    "from random import randint"
   ]
  },
  {
   "cell_type": "code",
   "execution_count": 101,
   "metadata": {},
   "outputs": [
    {
     "name": "stdout",
     "output_type": "stream",
     "text": [
      "Tweet number 706\n",
      "\n",
      "Original tweet:\n",
      " #COVID19 India Tracker | October 31, 2020 (6:30 pm, IST)\n",
      "\n",
      "➡️Confirmed cases: 8,137,119\n",
      "➡️Recovered: 7,432,829 (91.3… https://t.co/80ow32PctL\n",
      "\n",
      "Clean tweet:\n",
      " COVID19 India Tracker October 31 2020 6 30 pm IST Confirmed cases 8 137 119 Recovered 7 432 829 91 3\n",
      "\n",
      "Sentiment of the tweet:\n",
      " Positive\n"
     ]
    }
   ],
   "source": [
    "n = randint(0, 1000)\n",
    "print(\"Tweet number\", n, end='\\n\\n')\n",
    "\n",
    "print(\"Original tweet:\\n\",df['Tweets'][n])\n",
    "print()\n",
    "print(\"Clean tweet:\\n\",df['Clean_Tweets'][n])\n",
    "print()\n",
    "print(\"Sentiment of the tweet:\\n\",df['Sentiment'][n])"
   ]
  },
  {
   "cell_type": "code",
   "execution_count": 102,
   "metadata": {},
   "outputs": [
    {
     "data": {
      "text/plain": [
       "800"
      ]
     },
     "execution_count": 102,
     "metadata": {},
     "output_type": "execute_result"
    }
   ],
   "source": [
    "df[df.Sentiment=='Positive'].shape[0]"
   ]
  },
  {
   "cell_type": "code",
   "execution_count": 103,
   "metadata": {},
   "outputs": [
    {
     "data": {
      "text/plain": [
       "77"
      ]
     },
     "execution_count": 103,
     "metadata": {},
     "output_type": "execute_result"
    }
   ],
   "source": [
    "df[df.Sentiment=='Negative'].shape[0]"
   ]
  },
  {
   "cell_type": "code",
   "execution_count": 104,
   "metadata": {},
   "outputs": [
    {
     "data": {
      "text/plain": [
       "123"
      ]
     },
     "execution_count": 104,
     "metadata": {},
     "output_type": "execute_result"
    }
   ],
   "source": [
    "df[df.Sentiment=='Neutral'].shape[0]"
   ]
  }
 ],
 "metadata": {
  "kernelspec": {
   "display_name": "Python 3",
   "language": "python",
   "name": "python3"
  },
  "language_info": {
   "codemirror_mode": {
    "name": "ipython",
    "version": 3
   },
   "file_extension": ".py",
   "mimetype": "text/x-python",
   "name": "python",
   "nbconvert_exporter": "python",
   "pygments_lexer": "ipython3",
   "version": "3.7.6"
  },
  "varInspector": {
   "cols": {
    "lenName": 16,
    "lenType": 16,
    "lenVar": 40
   },
   "kernels_config": {
    "python": {
     "delete_cmd_postfix": "",
     "delete_cmd_prefix": "del ",
     "library": "var_list.py",
     "varRefreshCmd": "print(var_dic_list())"
    },
    "r": {
     "delete_cmd_postfix": ") ",
     "delete_cmd_prefix": "rm(",
     "library": "var_list.r",
     "varRefreshCmd": "cat(var_dic_list()) "
    }
   },
   "types_to_exclude": [
    "module",
    "function",
    "builtin_function_or_method",
    "instance",
    "_Feature"
   ],
   "window_display": false
  }
 },
 "nbformat": 4,
 "nbformat_minor": 4
}
