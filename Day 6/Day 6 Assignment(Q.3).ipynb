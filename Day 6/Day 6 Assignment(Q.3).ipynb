{
 "cells": [
  {
   "cell_type": "markdown",
   "metadata": {},
   "source": [
    "# Sets"
   ]
  },
  {
   "cell_type": "markdown",
   "metadata": {},
   "source": [
    "Sets are unordered, so you cannot be sure in which order the items will appear.\n",
    "\n",
    "Sets are denoted by curly braces: {}\n",
    "\n",
    "Sets don't store duplicate value, they reduce number of each value to 1"
   ]
  },
  {
   "cell_type": "code",
   "execution_count": 3,
   "metadata": {},
   "outputs": [
    {
     "name": "stdout",
     "output_type": "stream",
     "text": [
      "{'d', 'b', 'a', 'e', 'c', 'f'}\n",
      "<class 'set'>\n"
     ]
    }
   ],
   "source": [
    "set_1 = {'a', 'b', 'c', 'd', 'f', 'e', 'f'}\n",
    "\n",
    "# repeated 'f' is removed and is unordered\n",
    "print(set_1)\n",
    "\n",
    "# type is set\n",
    "print(type(set_1))"
   ]
  },
  {
   "cell_type": "markdown",
   "metadata": {},
   "source": [
    "## Change Items\n",
    "### Once a set is created,you can add new items and remove old ones, but you cannot change its items."
   ]
  },
  {
   "cell_type": "markdown",
   "metadata": {},
   "source": [
    "### To add one item to a set use the add() method."
   ]
  },
  {
   "cell_type": "code",
   "execution_count": 4,
   "metadata": {},
   "outputs": [
    {
     "name": "stdout",
     "output_type": "stream",
     "text": [
      "{'d', 'b', 'a', 'e', 'c', 'Z', 'f'}\n"
     ]
    }
   ],
   "source": [
    "set_1.add('Z')\n",
    "print(set_1)"
   ]
  },
  {
   "cell_type": "markdown",
   "metadata": {},
   "source": [
    "### To add more than one item to a set use the update() method."
   ]
  },
  {
   "cell_type": "code",
   "execution_count": 18,
   "metadata": {},
   "outputs": [
    {
     "name": "stdout",
     "output_type": "stream",
     "text": [
      "{'d', 'G', 'b', 'a', 'e', 'B', 'C', 'c', 'A', 'f'}\n"
     ]
    }
   ],
   "source": [
    "set_1.update(['A', 'B', 'C', 'G'])\n",
    "print(set_1)"
   ]
  },
  {
   "cell_type": "markdown",
   "metadata": {},
   "source": [
    "#### These won't cahnge anything, if the specified values are already present"
   ]
  },
  {
   "cell_type": "markdown",
   "metadata": {},
   "source": [
    "\n",
    "\n",
    "### To get length of a set use the len() method."
   ]
  },
  {
   "cell_type": "code",
   "execution_count": 6,
   "metadata": {},
   "outputs": [
    {
     "name": "stdout",
     "output_type": "stream",
     "text": [
      "size of set_1 is : 11\n"
     ]
    }
   ],
   "source": [
    "print('size of set_1 is :', len(set_1))"
   ]
  },
  {
   "cell_type": "markdown",
   "metadata": {},
   "source": [
    "### To remove an item in a set, use the remove(), or the discard() method.\n",
    "\n",
    "#### Note.  \n",
    "If the item to remove does not exist, __remove()__ will raise an error.\n",
    "\n",
    "If the item to remove does not exist, __discard()__ will NOT raise an error."
   ]
  },
  {
   "cell_type": "code",
   "execution_count": 19,
   "metadata": {},
   "outputs": [
    {
     "name": "stdout",
     "output_type": "stream",
     "text": [
      "{'d', 'G', 'b', 'a', 'e', 'B', 'C', 'c', 'A', 'f'}\n",
      "{'d', 'G', 'b', 'a', 'e', 'B', 'C', 'c', 'f'}\n",
      "{'d', 'G', 'b', 'a', 'e', 'B', 'c', 'f'}\n"
     ]
    }
   ],
   "source": [
    "print(set_1)\n",
    "\n",
    "set_1.remove('A')\n",
    "print(set_1)\n",
    "\n",
    "set_1.discard('C')\n",
    "print(set_1)"
   ]
  },
  {
   "cell_type": "markdown",
   "metadata": {},
   "source": [
    "You can also use the __pop()__, method to remove an item, but this method will remove the last item. \n",
    "\n",
    "Remember that sets are unordered, so you will not know what item that gets removed.\n",
    "\n",
    "The return value of the __pop()__ method is the removed item."
   ]
  },
  {
   "cell_type": "code",
   "execution_count": 22,
   "metadata": {},
   "outputs": [
    {
     "name": "stdout",
     "output_type": "stream",
     "text": [
      "{'G', 'b', 'a', 'e', 'B', 'c', 'f'}\n",
      "G\n",
      "{'b', 'a', 'e', 'B', 'c', 'f'}\n"
     ]
    }
   ],
   "source": [
    "print(set_1)\n",
    "print(set_1.pop())\n",
    "print(set_1)"
   ]
  },
  {
   "cell_type": "markdown",
   "metadata": {},
   "source": [
    "The __clear()__ method empties the set:"
   ]
  },
  {
   "cell_type": "code",
   "execution_count": 23,
   "metadata": {},
   "outputs": [
    {
     "name": "stdout",
     "output_type": "stream",
     "text": [
      "{'b', 'a', 'e', 'B', 'c', 'f'}\n",
      "set()\n"
     ]
    }
   ],
   "source": [
    "print(set_1)\n",
    "\n",
    "set_1.clear()\n",
    "\n",
    "print(set_1)"
   ]
  },
  {
   "cell_type": "markdown",
   "metadata": {},
   "source": [
    "The __del__ keyword will delete the set completely:"
   ]
  },
  {
   "cell_type": "code",
   "execution_count": 26,
   "metadata": {},
   "outputs": [
    {
     "name": "stdout",
     "output_type": "stream",
     "text": [
      "{'d', 'b', 'a', 'e', 'c', 'f'}\n",
      "Set not found\n"
     ]
    }
   ],
   "source": [
    "set_1 = {'a', 'b', 'c', 'd', 'f', 'e', 'f'}\n",
    "\n",
    "print(set_1)\n",
    "\n",
    "del set_1\n",
    "\n",
    "try:\n",
    "    print(set_1)\n",
    "except:\n",
    "    print(\"Set not found\")"
   ]
  },
  {
   "cell_type": "markdown",
   "metadata": {},
   "source": [
    "## Join Two Sets\n",
    "#### There are several ways to join two or more sets in Python.\n",
    "\n",
    "You can use the __union()__ method that returns a new set containing all items from both sets, or the __update()__ method that inserts all the items from one set into another:\n",
    "\n",
    "### Note: \n",
    "Both __union()__ and __update()__ will exclude any duplicate items."
   ]
  },
  {
   "cell_type": "code",
   "execution_count": 27,
   "metadata": {},
   "outputs": [
    {
     "name": "stdout",
     "output_type": "stream",
     "text": [
      "{'c', 1, 2, 3, 'b', 'a'}\n"
     ]
    }
   ],
   "source": [
    "set_1 = {\"a\", \"b\" , \"c\"}\n",
    "set_2 = {1, 2, 3}\n",
    "\n",
    "set_3 = set_1.union(set_2)\n",
    "print(set_3)"
   ]
  },
  {
   "cell_type": "code",
   "execution_count": 28,
   "metadata": {},
   "outputs": [
    {
     "name": "stdout",
     "output_type": "stream",
     "text": [
      "{'c', 1, 2, 3, 'b', 'a'}\n"
     ]
    }
   ],
   "source": [
    "set_1 = {\"a\", \"b\" , \"c\"}\n",
    "set_2 = {1, 2, 3}\n",
    "\n",
    "set_1.update(set_2)\n",
    "print(set_1)"
   ]
  },
  {
   "cell_type": "markdown",
   "metadata": {},
   "source": [
    "## The set() Constructor\n",
    "Apart from curly braces('{}'), it is also possible to use the __set()__ constructor to make a set.\n",
    "\n",
    "__set()__ can use any iterable and turn it into a set\n",
    "Ex: range object, list, tuple"
   ]
  },
  {
   "cell_type": "code",
   "execution_count": 29,
   "metadata": {},
   "outputs": [],
   "source": [
    "set_1 = set([1, 2, 3, 4, 5, 5, 6, 8])\n",
    "print(set_1)\n",
    "\n",
    "set_2 = set((1, 2, 3, 4, 5, 5, 6, 8))\n",
    "\n",
    "set_3 = set(range(9))"
   ]
  }
 ],
 "metadata": {
  "kernelspec": {
   "display_name": "Python 3",
   "language": "python",
   "name": "python3"
  },
  "language_info": {
   "codemirror_mode": {
    "name": "ipython",
    "version": 3
   },
   "file_extension": ".py",
   "mimetype": "text/x-python",
   "name": "python",
   "nbconvert_exporter": "python",
   "pygments_lexer": "ipython3",
   "version": "3.8.2"
  }
 },
 "nbformat": 4,
 "nbformat_minor": 4
}
