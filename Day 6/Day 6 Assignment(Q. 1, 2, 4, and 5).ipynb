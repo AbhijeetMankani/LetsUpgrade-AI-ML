{
 "cells": [
  {
   "cell_type": "markdown",
   "metadata": {},
   "source": [
    "# Question 1"
   ]
  },
  {
   "cell_type": "code",
   "execution_count": 1,
   "metadata": {},
   "outputs": [
    {
     "name": "stdout",
     "output_type": "stream",
     "text": [
      "abhijeetmankani@gmail.com\n",
      "gmail\n"
     ]
    }
   ],
   "source": [
    "mail = input()\n",
    "\n",
    "a = mail.index('@')\n",
    "\n",
    "# next character to @ to before .com\n",
    "company_name = mail[a+1 : -4]\n",
    "\n",
    "print(company_name)"
   ]
  },
  {
   "cell_type": "markdown",
   "metadata": {},
   "source": [
    "# Question 2"
   ]
  },
  {
   "cell_type": "code",
   "execution_count": 2,
   "metadata": {},
   "outputs": [
    {
     "name": "stdout",
     "output_type": "stream",
     "text": [
      "without,hello,bag,world\n",
      "bag,hello,without,world"
     ]
    }
   ],
   "source": [
    "words = input()\n",
    "\n",
    "word_list = words.split(',')\n",
    "\n",
    "sorted_list = sorted(word_list)\n",
    "\n",
    "for i in sorted_list:\n",
    "    print(i, end='')\n",
    "    if(i != sorted_list[-1]):\n",
    "        print(',', end='')"
   ]
  },
  {
   "cell_type": "markdown",
   "metadata": {},
   "source": [
    "# Question 4"
   ]
  },
  {
   "cell_type": "code",
   "execution_count": 3,
   "metadata": {},
   "outputs": [
    {
     "name": "stdout",
     "output_type": "stream",
     "text": [
      "1 2 4 6 3 7 8\n",
      "5 "
     ]
    }
   ],
   "source": [
    "nums = input().split(' ')\n",
    "\n",
    "for i in range(1, int(nums[-1])):\n",
    "    if(str(i) not in nums):\n",
    "        print(i, end=' ')"
   ]
  },
  {
   "cell_type": "markdown",
   "metadata": {},
   "source": [
    "# Question 5"
   ]
  },
  {
   "cell_type": "code",
   "execution_count": 4,
   "metadata": {},
   "outputs": [
    {
     "name": "stdout",
     "output_type": "stream",
     "text": [
      "12 24 35 24 88 120 155 88 120 155\n",
      "12 24 35 88 120 155 "
     ]
    }
   ],
   "source": [
    "nums = input().split(' ')\n",
    "num = {nums[0]:0}\n",
    "\n",
    "del nums[0]\n",
    "\n",
    "for i in nums:\n",
    "    num[i] = 0\n",
    "\n",
    "for i in num:\n",
    "    print(i, end=' ')"
   ]
  }
 ],
 "metadata": {
  "kernelspec": {
   "display_name": "Python 3",
   "language": "python",
   "name": "python3"
  },
  "language_info": {
   "codemirror_mode": {
    "name": "ipython",
    "version": 3
   },
   "file_extension": ".py",
   "mimetype": "text/x-python",
   "name": "python",
   "nbconvert_exporter": "python",
   "pygments_lexer": "ipython3",
   "version": "3.8.2"
  }
 },
 "nbformat": 4,
 "nbformat_minor": 4
}
