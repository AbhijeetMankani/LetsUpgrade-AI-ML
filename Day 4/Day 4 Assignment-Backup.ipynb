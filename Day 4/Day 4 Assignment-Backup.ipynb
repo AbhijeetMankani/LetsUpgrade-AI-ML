{
 "cells": [
  {
   "cell_type": "markdown",
   "metadata": {},
   "source": [
    "# Question 1"
   ]
  },
  {
   "cell_type": "code",
   "execution_count": 1,
   "metadata": {},
   "outputs": [
    {
     "name": "stdout",
     "output_type": "stream",
     "text": [
      "Addition: (8+3j)\n",
      "Subtraction: (4+1j)\n",
      "Multiplication: (10+10j)\n",
      "Division: (2.8-0.4j)\n"
     ]
    }
   ],
   "source": [
    "z1 = 6 + 2j\n",
    "z2 = 2 + 1j\n",
    "\n",
    "#Addition\n",
    "zAdd = z1 + z2\n",
    "print(\"Addition:\", zAdd)\n",
    "\n",
    "#Subtraction\n",
    "zSub = z1 - z2\n",
    "print(\"Subtraction:\", zSub)\n",
    "\n",
    "#Multiplication\n",
    "zMult = z1 * z2\n",
    "print(\"Multiplication:\", zMult)\n",
    "\n",
    "#Division\n",
    "zDiv = z1 / z2\n",
    "print(\"Division:\", zDiv)\n",
    "\n",
    "# Floor Division, Modulus aren't supported in Python 3"
   ]
  },
  {
   "cell_type": "markdown",
   "metadata": {},
   "source": [
    "# Question 2"
   ]
  },
  {
   "cell_type": "markdown",
   "metadata": {},
   "source": [
    "range() function of python returns a range object(iterable object, similar to list)\n",
    "\n",
    "The function can accept 1, 2 or 3 parameters\n",
    "\n",
    "If 1 parameter is provided, it returns a range object from 0 to, but not including the passed in number\n",
    "\n",
    "If 2 parameters are passed in, a range object from the 1st argument to 2nd agrument is returned\n",
    "\n",
    "If 3 parameters are passed in, a range object from the 1st argument to 2nd agrument is returned, with a spacing between the numbers of the 3rd argument"
   ]
  },
  {
   "cell_type": "code",
   "execution_count": 2,
   "metadata": {},
   "outputs": [
    {
     "name": "stdout",
     "output_type": "stream",
     "text": [
      "1 argument:\n",
      "range: range(0, 15) and in list form: [0, 1, 2, 3, 4, 5, 6, 7, 8, 9, 10, 11, 12, 13, 14]\n",
      "\n",
      "\n",
      "2 arguments:\n",
      "range: range(-10, 10) and in list form: [-10, -9, -8, -7, -6, -5, -4, -3, -2, -1, 0, 1, 2, 3, 4, 5, 6, 7, 8, 9]\n",
      "\n",
      "\n",
      "3 arguments:\n",
      "range: range(-10, 10, 3) and in list form: [-10, -7, -4, -1, 2, 5, 8]\n"
     ]
    }
   ],
   "source": [
    "print('1 argument:')\n",
    "print('range:', range(15), 'and in list form:', list(range(15)))\n",
    "\n",
    "print('\\n')\n",
    "\n",
    "print('2 arguments:')\n",
    "print('range:', range(-10, 10), 'and in list form:', list(range(-10, 10)))\n",
    "\n",
    "print('\\n')\n",
    "\n",
    "print('3 arguments:')\n",
    "print('range:', range(-10, 10, 3), 'and in list form:', list(range(-10, 10, 3)))"
   ]
  },
  {
   "cell_type": "markdown",
   "metadata": {},
   "source": [
    "# Question 3"
   ]
  },
  {
   "cell_type": "code",
   "execution_count": 6,
   "metadata": {},
   "outputs": [
    {
     "name": "stdout",
     "output_type": "stream",
     "text": [
      "Enter 1st number: 26\n",
      "Enter 2nd Number: 0.5\n",
      "13.0\n"
     ]
    }
   ],
   "source": [
    "num1 = float(input(\"Enter 1st number: \"))\n",
    "\n",
    "num2 = float(input(\"Enter 2nd Number: \"))\n",
    "\n",
    "if(abs(num2-num1)> 25):\n",
    "    print(num1*num2)\n",
    "else:\n",
    "    print(num1/num2)"
   ]
  },
  {
   "cell_type": "markdown",
   "metadata": {},
   "source": [
    "# Question 4"
   ]
  },
  {
   "cell_type": "code",
   "execution_count": 4,
   "metadata": {},
   "outputs": [
    {
     "name": "stdout",
     "output_type": "stream",
     "text": [
      "381922\n",
      "133954\n",
      "394382\n",
      "2914\n",
      "487202\n",
      "992014\n"
     ]
    }
   ],
   "source": [
    "lst = [618, 366, 628, 47, 263, 54, 698, 123, 79, 996] #Random number list\n",
    "\n",
    "for i in lst:\n",
    "    if(i%2 == 0):\n",
    "        print(i**2 - 2)"
   ]
  },
  {
   "cell_type": "markdown",
   "metadata": {},
   "source": [
    "# Question 5"
   ]
  },
  {
   "cell_type": "code",
   "execution_count": 5,
   "metadata": {},
   "outputs": [
    {
     "name": "stdout",
     "output_type": "stream",
     "text": [
      "35.21\n",
      "24.55\n",
      "435.2\n",
      "6543.5\n"
     ]
    }
   ],
   "source": [
    "lst = [35.21, 24.55, 2.55, 435.2, 6543.5, 0.25, 2.15, 13.00, 12.03, 13.99]\n",
    "\n",
    "for j in lst:\n",
    "    if(j/2 > 7):\n",
    "        print(j)"
   ]
  }
 ],
 "metadata": {
  "kernelspec": {
   "display_name": "Python 3",
   "language": "python",
   "name": "python3"
  },
  "language_info": {
   "codemirror_mode": {
    "name": "ipython",
    "version": 3
   },
   "file_extension": ".py",
   "mimetype": "text/x-python",
   "name": "python",
   "nbconvert_exporter": "python",
   "pygments_lexer": "ipython3",
   "version": "3.8.2"
  }
 },
 "nbformat": 4,
 "nbformat_minor": 4
}
