{
 "cells": [
  {
   "cell_type": "markdown",
   "metadata": {},
   "source": [
    "# Question 1"
   ]
  },
  {
   "cell_type": "code",
   "execution_count": 1,
   "metadata": {},
   "outputs": [
    {
     "name": "stdout",
     "output_type": "stream",
     "text": [
      "(3+3j)\n"
     ]
    }
   ],
   "source": [
    "Complex_num1 = 5 + 6j\n",
    "\n",
    "Complex_num2 = 2 + 3j\n",
    "\n",
    "Complex_res = Complex_num1 - Complex_num2\n",
    "\n",
    "print(Complex_res)"
   ]
  },
  {
   "cell_type": "markdown",
   "metadata": {},
   "source": [
    "# Question 2"
   ]
  },
  {
   "cell_type": "code",
   "execution_count": 2,
   "metadata": {},
   "outputs": [
    {
     "name": "stdout",
     "output_type": "stream",
     "text": [
      "Enter a number: 4096\n",
      "8.0\n"
     ]
    }
   ],
   "source": [
    "import math\n",
    "\n",
    "num = float(input(\"Enter a number: \"))\n",
    "\n",
    "fourth_root = math.sqrt(math.sqrt(num))\n",
    "\n",
    "print(fourth_root)"
   ]
  },
  {
   "cell_type": "markdown",
   "metadata": {},
   "source": [
    "# Question 3"
   ]
  },
  {
   "cell_type": "code",
   "execution_count": 3,
   "metadata": {},
   "outputs": [
    {
     "name": "stdout",
     "output_type": "stream",
     "text": [
      "a: 16 and b: 10\n"
     ]
    }
   ],
   "source": [
    "a = 10\n",
    "\n",
    "b = 16\n",
    "\n",
    "temp = b\n",
    "b = a\n",
    "a = temp\n",
    "\n",
    "print('a:', a, 'and b:', b)"
   ]
  },
  {
   "cell_type": "markdown",
   "metadata": {},
   "source": [
    "# Question 4"
   ]
  },
  {
   "cell_type": "code",
   "execution_count": 4,
   "metadata": {},
   "outputs": [
    {
     "name": "stdout",
     "output_type": "stream",
     "text": [
      "a: 12 and b: 10\n"
     ]
    }
   ],
   "source": [
    "a = 10\n",
    "b = 12\n",
    "\n",
    "a, b = b, a\n",
    "\n",
    "print('a:', a, 'and b:', b)"
   ]
  },
  {
   "cell_type": "markdown",
   "metadata": {},
   "source": [
    "# Question 5"
   ]
  },
  {
   "cell_type": "code",
   "execution_count": 5,
   "metadata": {},
   "outputs": [
    {
     "name": "stdout",
     "output_type": "stream",
     "text": [
      "Input temperature in Farenheit212\n",
      "212.0°F is equal to 100.0°C or 373.15°K\n"
     ]
    }
   ],
   "source": [
    "temp_F = float(input(\"Input temperature in Farenheit\"))\n",
    "\n",
    "temp_C = (temp_F - 32) * 5/9\n",
    "\n",
    "temp_K = temp_C + 273.15\n",
    "\n",
    "print(str(temp_F) + '°F is equal to', str(temp_C) + '°C or', str(temp_K) + '°K')"
   ]
  },
  {
   "cell_type": "markdown",
   "metadata": {},
   "source": [
    "# Question 6"
   ]
  },
  {
   "cell_type": "code",
   "execution_count": 6,
   "metadata": {},
   "outputs": [
    {
     "name": "stdout",
     "output_type": "stream",
     "text": [
      "12  : is of type: <class 'int'>\n",
      "13.06  : is of type: <class 'float'>\n",
      "(15+7j)  : is of type: <class 'complex'>\n",
      "Hello This is an example string  : is of type: <class 'str'>\n",
      "[1, 5, 6, 'Hello', 8.26]  : is of type: <class 'list'>\n",
      "(1, 5, 6, 'Hello', 8.26)  : is of type: <class 'tuple'>\n",
      "{1, 'Hello', 5, 6, 8.26}  : is of type: <class 'set'>\n",
      "{1: 'Hi', 2: 7.5, 3: 'Hello', 'Python': 'is a lovely language'}  : is of type: <class 'dict'>\n"
     ]
    }
   ],
   "source": [
    "# This is a integer\n",
    "integer_var = 12\n",
    "print(integer_var, ' : is of type:', type(integer_var))\n",
    "\n",
    "# This is a floating point number\n",
    "float_var = 13.06\n",
    "print(float_var, ' : is of type:', type(float_var))\n",
    "\n",
    "# This is a complex number\n",
    "complex_var = 15 + 7j\n",
    "print(complex_var, ' : is of type:', type(complex_var))\n",
    "\n",
    "\n",
    "# This is a string\n",
    "string_var = \"Hello This is an example string\"\n",
    "print(string_var, ' : is of type:', type(string_var))\n",
    "\n",
    "\n",
    "# This is a List\n",
    "list_var = [1, 5, 6, \"Hello\", 8.26]\n",
    "print(list_var, ' : is of type:', type(list_var))\n",
    "\n",
    "\n",
    "# This is a tuple\n",
    "tuple_var = (1, 5, 6, \"Hello\", 8.26)\n",
    "print(tuple_var, ' : is of type:', type(tuple_var))\n",
    "\n",
    "\n",
    "# This is a set\n",
    "set_var = {1, 5, 6, \"Hello\", 8.26, 5}\n",
    "print(set_var, ' : is of type:', type(set_var))\n",
    "\n",
    "# This is a dictionary\n",
    "dictionary_var = {1:'Hi', 2:7.5, 3:'Hello', 'Python':'is a lovely language'}\n",
    "print(dictionary_var, ' : is of type:', type(dictionary_var))"
   ]
  },
  {
   "cell_type": "markdown",
   "metadata": {},
   "source": [
    "# Question 7"
   ]
  },
  {
   "cell_type": "markdown",
   "metadata": {},
   "source": [
    "1. Create a github public repository and name it __LetsUpgrade AI/ML__\n",
    "2. Upload the files/solution in the repository in folders in day wise manner.\n",
    "3. Check if your repository is public in incognito Mode\n",
    "4. Fill the assignment Submission form with your registered email-address, and link to your repository"
   ]
  }
 ],
 "metadata": {
  "kernelspec": {
   "display_name": "Python 3",
   "language": "python",
   "name": "python3"
  },
  "language_info": {
   "codemirror_mode": {
    "name": "ipython",
    "version": 3
   },
   "file_extension": ".py",
   "mimetype": "text/x-python",
   "name": "python",
   "nbconvert_exporter": "python",
   "pygments_lexer": "ipython3",
   "version": "3.7.6"
  }
 },
 "nbformat": 4,
 "nbformat_minor": 4
}
