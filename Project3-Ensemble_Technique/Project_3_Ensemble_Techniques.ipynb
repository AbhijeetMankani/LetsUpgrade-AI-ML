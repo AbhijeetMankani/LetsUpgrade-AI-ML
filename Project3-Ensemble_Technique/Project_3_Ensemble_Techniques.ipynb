{
  "nbformat": 4,
  "nbformat_minor": 0,
  "metadata": {
    "colab": {
      "name": "Project 3-Ensemble Techniques.ipynb",
      "provenance": [],
      "collapsed_sections": []
    },
    "kernelspec": {
      "name": "python3",
      "display_name": "Python 3"
    }
  },
  "cells": [
    {
      "cell_type": "code",
      "metadata": {
        "id": "NYNwI0Z_4xyN"
      },
      "source": [
        "import pandas as pd\n",
        "import numpy as np\n",
        "import matplotlib.pyplot as plt\n",
        "import seaborn as sns\n",
        "\n",
        "from scipy.stats import pearsonr\n",
        "\n",
        "from sklearn.model_selection import train_test_split\n",
        "\n",
        "from sklearn.preprocessing import StandardScaler, MinMaxScaler, RobustScaler , LabelEncoder\n",
        "from sklearn.linear_model import LogisticRegression\n",
        "from sklearn.naive_bayes import GaussianNB\n",
        "from sklearn.neighbors import KNeighborsClassifier\n",
        "from sklearn.svm import SVC\n",
        "from sklearn.tree import DecisionTreeClassifier\n",
        "\n",
        "from IPython.display import Image\n",
        "from os import system\n",
        "\n",
        "from sklearn.ensemble import BaggingClassifier, AdaBoostClassifier, GradientBoostingClassifier, RandomForestClassifier\n",
        "\n",
        "from sklearn.tree import export_graphviz\n",
        "\n",
        "from sklearn.externals.six import StringIO\n",
        "\n",
        "import pydotplus\n",
        "import graphviz\n",
        "from statistics import median, mean\n",
        "\n",
        "from sklearn.metrics import accuracy_score, confusion_matrix, classification_report, roc_auc_score, precision_score, recall_score\n"
      ],
      "execution_count": 162,
      "outputs": []
    },
    {
      "cell_type": "code",
      "metadata": {
        "id": "OcW7daZ05J1p"
      },
      "source": [
        "data = pd.read_csv('bank-full.csv')"
      ],
      "execution_count": 57,
      "outputs": []
    },
    {
      "cell_type": "code",
      "metadata": {
        "id": "Drg75AFw5nGE",
        "outputId": "6403f70c-7e6e-422d-a6c8-dc4b088fe75d",
        "colab": {
          "base_uri": "https://localhost:8080/",
          "height": 131
        }
      },
      "source": [
        "data.head(2)"
      ],
      "execution_count": 58,
      "outputs": [
        {
          "output_type": "execute_result",
          "data": {
            "text/html": [
              "<div>\n",
              "<style scoped>\n",
              "    .dataframe tbody tr th:only-of-type {\n",
              "        vertical-align: middle;\n",
              "    }\n",
              "\n",
              "    .dataframe tbody tr th {\n",
              "        vertical-align: top;\n",
              "    }\n",
              "\n",
              "    .dataframe thead th {\n",
              "        text-align: right;\n",
              "    }\n",
              "</style>\n",
              "<table border=\"1\" class=\"dataframe\">\n",
              "  <thead>\n",
              "    <tr style=\"text-align: right;\">\n",
              "      <th></th>\n",
              "      <th>age</th>\n",
              "      <th>job</th>\n",
              "      <th>marital</th>\n",
              "      <th>education</th>\n",
              "      <th>default</th>\n",
              "      <th>balance</th>\n",
              "      <th>housing</th>\n",
              "      <th>loan</th>\n",
              "      <th>contact</th>\n",
              "      <th>day</th>\n",
              "      <th>month</th>\n",
              "      <th>duration</th>\n",
              "      <th>campaign</th>\n",
              "      <th>pdays</th>\n",
              "      <th>previous</th>\n",
              "      <th>poutcome</th>\n",
              "      <th>Target</th>\n",
              "    </tr>\n",
              "  </thead>\n",
              "  <tbody>\n",
              "    <tr>\n",
              "      <th>0</th>\n",
              "      <td>58</td>\n",
              "      <td>management</td>\n",
              "      <td>married</td>\n",
              "      <td>tertiary</td>\n",
              "      <td>no</td>\n",
              "      <td>2143</td>\n",
              "      <td>yes</td>\n",
              "      <td>no</td>\n",
              "      <td>unknown</td>\n",
              "      <td>5</td>\n",
              "      <td>may</td>\n",
              "      <td>261</td>\n",
              "      <td>1</td>\n",
              "      <td>-1</td>\n",
              "      <td>0</td>\n",
              "      <td>unknown</td>\n",
              "      <td>no</td>\n",
              "    </tr>\n",
              "    <tr>\n",
              "      <th>1</th>\n",
              "      <td>44</td>\n",
              "      <td>technician</td>\n",
              "      <td>single</td>\n",
              "      <td>secondary</td>\n",
              "      <td>no</td>\n",
              "      <td>29</td>\n",
              "      <td>yes</td>\n",
              "      <td>no</td>\n",
              "      <td>unknown</td>\n",
              "      <td>5</td>\n",
              "      <td>may</td>\n",
              "      <td>151</td>\n",
              "      <td>1</td>\n",
              "      <td>-1</td>\n",
              "      <td>0</td>\n",
              "      <td>unknown</td>\n",
              "      <td>no</td>\n",
              "    </tr>\n",
              "  </tbody>\n",
              "</table>\n",
              "</div>"
            ],
            "text/plain": [
              "   age         job  marital  education  ... pdays  previous poutcome Target\n",
              "0   58  management  married   tertiary  ...    -1         0  unknown     no\n",
              "1   44  technician   single  secondary  ...    -1         0  unknown     no\n",
              "\n",
              "[2 rows x 17 columns]"
            ]
          },
          "metadata": {
            "tags": []
          },
          "execution_count": 58
        }
      ]
    },
    {
      "cell_type": "markdown",
      "metadata": {
        "id": "X_6ZWz4w8kSO"
      },
      "source": [
        "Basic EDA"
      ]
    },
    {
      "cell_type": "code",
      "metadata": {
        "id": "I2366fd55dwr",
        "outputId": "eb6d6275-fdc8-4adf-f193-217b27551203",
        "colab": {
          "base_uri": "https://localhost:8080/",
          "height": 34
        }
      },
      "source": [
        "data.shape"
      ],
      "execution_count": 59,
      "outputs": [
        {
          "output_type": "execute_result",
          "data": {
            "text/plain": [
              "(45211, 17)"
            ]
          },
          "metadata": {
            "tags": []
          },
          "execution_count": 59
        }
      ]
    },
    {
      "cell_type": "code",
      "metadata": {
        "id": "iBpps9Xe5fYV",
        "outputId": "63659259-1500-4a69-8053-9f5c9075c556",
        "colab": {
          "base_uri": "https://localhost:8080/",
          "height": 85
        }
      },
      "source": [
        "data.columns"
      ],
      "execution_count": 60,
      "outputs": [
        {
          "output_type": "execute_result",
          "data": {
            "text/plain": [
              "Index(['age', 'job', 'marital', 'education', 'default', 'balance', 'housing',\n",
              "       'loan', 'contact', 'day', 'month', 'duration', 'campaign', 'pdays',\n",
              "       'previous', 'poutcome', 'Target'],\n",
              "      dtype='object')"
            ]
          },
          "metadata": {
            "tags": []
          },
          "execution_count": 60
        }
      ]
    },
    {
      "cell_type": "code",
      "metadata": {
        "id": "vdsFGpx85kl_",
        "outputId": "7e57cf1f-aa7e-4e59-fefa-b4e606368cd1",
        "colab": {
          "base_uri": "https://localhost:8080/",
          "height": 323
        }
      },
      "source": [
        "data.dtypes"
      ],
      "execution_count": 61,
      "outputs": [
        {
          "output_type": "execute_result",
          "data": {
            "text/plain": [
              "age           int64\n",
              "job          object\n",
              "marital      object\n",
              "education    object\n",
              "default      object\n",
              "balance       int64\n",
              "housing      object\n",
              "loan         object\n",
              "contact      object\n",
              "day           int64\n",
              "month        object\n",
              "duration      int64\n",
              "campaign      int64\n",
              "pdays         int64\n",
              "previous      int64\n",
              "poutcome     object\n",
              "Target       object\n",
              "dtype: object"
            ]
          },
          "metadata": {
            "tags": []
          },
          "execution_count": 61
        }
      ]
    },
    {
      "cell_type": "markdown",
      "metadata": {
        "id": "i0yBJox88Yws"
      },
      "source": [
        "10 features are object, 7 are numbers\n",
        "\n",
        "we know 10 are categorical, so lets convert them to Categorical"
      ]
    },
    {
      "cell_type": "code",
      "metadata": {
        "id": "Rv4blKfU8nZU"
      },
      "source": [
        "data[['job', 'marital', 'education', 'default', 'housing', 'loan', 'contact', 'month', 'poutcome', \n",
        "      'Target']] = data[['job', 'marital', 'education', 'default', 'housing','loan', 'contact', \n",
        "                         'month', 'poutcome', 'Target']].apply(pd.Categorical)"
      ],
      "execution_count": 62,
      "outputs": []
    },
    {
      "cell_type": "code",
      "metadata": {
        "id": "YnpKtHww9kM2",
        "outputId": "965f6075-f7ed-4f6c-8218-cb578cef0b42",
        "colab": {
          "base_uri": "https://localhost:8080/",
          "height": 323
        }
      },
      "source": [
        "data.dtypes"
      ],
      "execution_count": 63,
      "outputs": [
        {
          "output_type": "execute_result",
          "data": {
            "text/plain": [
              "age             int64\n",
              "job          category\n",
              "marital      category\n",
              "education    category\n",
              "default      category\n",
              "balance         int64\n",
              "housing      category\n",
              "loan         category\n",
              "contact      category\n",
              "day             int64\n",
              "month        category\n",
              "duration        int64\n",
              "campaign        int64\n",
              "pdays           int64\n",
              "previous        int64\n",
              "poutcome     category\n",
              "Target       category\n",
              "dtype: object"
            ]
          },
          "metadata": {
            "tags": []
          },
          "execution_count": 63
        }
      ]
    },
    {
      "cell_type": "code",
      "metadata": {
        "id": "jKc4y-jm5smp",
        "outputId": "c32a8398-7ed0-4c46-85b1-1d3ac5d5c683",
        "colab": {
          "base_uri": "https://localhost:8080/",
          "height": 323
        }
      },
      "source": [
        "# Checking no. of missing values  \n",
        "data.isna().sum()"
      ],
      "execution_count": 64,
      "outputs": [
        {
          "output_type": "execute_result",
          "data": {
            "text/plain": [
              "age          0\n",
              "job          0\n",
              "marital      0\n",
              "education    0\n",
              "default      0\n",
              "balance      0\n",
              "housing      0\n",
              "loan         0\n",
              "contact      0\n",
              "day          0\n",
              "month        0\n",
              "duration     0\n",
              "campaign     0\n",
              "pdays        0\n",
              "previous     0\n",
              "poutcome     0\n",
              "Target       0\n",
              "dtype: int64"
            ]
          },
          "metadata": {
            "tags": []
          },
          "execution_count": 64
        }
      ]
    },
    {
      "cell_type": "markdown",
      "metadata": {
        "id": "0TxRh_Dg5zwN"
      },
      "source": [
        "## No NaN values"
      ]
    },
    {
      "cell_type": "code",
      "metadata": {
        "id": "BqCaHuxS914E",
        "outputId": "e12c5db2-5fe4-468e-cc7f-5260528dfcb1",
        "colab": {
          "base_uri": "https://localhost:8080/",
          "height": 102
        }
      },
      "source": [
        "data['poutcome'].value_counts()"
      ],
      "execution_count": 65,
      "outputs": [
        {
          "output_type": "execute_result",
          "data": {
            "text/plain": [
              "unknown    36959\n",
              "failure     4901\n",
              "other       1840\n",
              "success     1511\n",
              "Name: poutcome, dtype: int64"
            ]
          },
          "metadata": {
            "tags": []
          },
          "execution_count": 65
        }
      ]
    },
    {
      "cell_type": "code",
      "metadata": {
        "id": "AobPddZW-KFP",
        "outputId": "ebbcd3db-b0e2-4074-930b-a3940c3bb2eb",
        "colab": {
          "base_uri": "https://localhost:8080/",
          "height": 85
        }
      },
      "source": [
        "data['contact'].value_counts()"
      ],
      "execution_count": 66,
      "outputs": [
        {
          "output_type": "execute_result",
          "data": {
            "text/plain": [
              "cellular     29285\n",
              "unknown      13020\n",
              "telephone     2906\n",
              "Name: contact, dtype: int64"
            ]
          },
          "metadata": {
            "tags": []
          },
          "execution_count": 66
        }
      ]
    },
    {
      "cell_type": "code",
      "metadata": {
        "id": "jFVC4yFu52z_",
        "outputId": "2f0cab38-f9e2-491f-ee8e-265499d871ef",
        "colab": {
          "base_uri": "https://localhost:8080/",
          "height": 102
        }
      },
      "source": [
        "data['education'].value_counts()"
      ],
      "execution_count": 67,
      "outputs": [
        {
          "output_type": "execute_result",
          "data": {
            "text/plain": [
              "secondary    23202\n",
              "tertiary     13301\n",
              "primary       6851\n",
              "unknown       1857\n",
              "Name: education, dtype: int64"
            ]
          },
          "metadata": {
            "tags": []
          },
          "execution_count": 67
        }
      ]
    },
    {
      "cell_type": "code",
      "metadata": {
        "id": "Zt9EiAob-OqF",
        "outputId": "2c173c13-e4b4-48fb-a1e8-6a2fdc11a107",
        "colab": {
          "base_uri": "https://localhost:8080/",
          "height": 238
        }
      },
      "source": [
        "data['job'].value_counts()"
      ],
      "execution_count": 68,
      "outputs": [
        {
          "output_type": "execute_result",
          "data": {
            "text/plain": [
              "blue-collar      9732\n",
              "management       9458\n",
              "technician       7597\n",
              "admin.           5171\n",
              "services         4154\n",
              "retired          2264\n",
              "self-employed    1579\n",
              "entrepreneur     1487\n",
              "unemployed       1303\n",
              "housemaid        1240\n",
              "student           938\n",
              "unknown           288\n",
              "Name: job, dtype: int64"
            ]
          },
          "metadata": {
            "tags": []
          },
          "execution_count": 68
        }
      ]
    },
    {
      "cell_type": "code",
      "metadata": {
        "id": "QcW6j3e_-UQb",
        "outputId": "27e5ad72-d3c0-4e49-af6f-85b134e4bced",
        "colab": {
          "base_uri": "https://localhost:8080/",
          "height": 68
        }
      },
      "source": [
        "data['housing'].value_counts()"
      ],
      "execution_count": 69,
      "outputs": [
        {
          "output_type": "execute_result",
          "data": {
            "text/plain": [
              "yes    25130\n",
              "no     20081\n",
              "Name: housing, dtype: int64"
            ]
          },
          "metadata": {
            "tags": []
          },
          "execution_count": 69
        }
      ]
    },
    {
      "cell_type": "markdown",
      "metadata": {
        "id": "ReYkyK21-o5s"
      },
      "source": [
        "# 5 point summary"
      ]
    },
    {
      "cell_type": "code",
      "metadata": {
        "id": "ZJ2R0CAA-q7r",
        "outputId": "02b193c9-bc1d-4379-d94e-449cefa23e4b",
        "colab": {
          "base_uri": "https://localhost:8080/",
          "height": 266
        }
      },
      "source": [
        "data.describe().T"
      ],
      "execution_count": 70,
      "outputs": [
        {
          "output_type": "execute_result",
          "data": {
            "text/html": [
              "<div>\n",
              "<style scoped>\n",
              "    .dataframe tbody tr th:only-of-type {\n",
              "        vertical-align: middle;\n",
              "    }\n",
              "\n",
              "    .dataframe tbody tr th {\n",
              "        vertical-align: top;\n",
              "    }\n",
              "\n",
              "    .dataframe thead th {\n",
              "        text-align: right;\n",
              "    }\n",
              "</style>\n",
              "<table border=\"1\" class=\"dataframe\">\n",
              "  <thead>\n",
              "    <tr style=\"text-align: right;\">\n",
              "      <th></th>\n",
              "      <th>count</th>\n",
              "      <th>mean</th>\n",
              "      <th>std</th>\n",
              "      <th>min</th>\n",
              "      <th>25%</th>\n",
              "      <th>50%</th>\n",
              "      <th>75%</th>\n",
              "      <th>max</th>\n",
              "    </tr>\n",
              "  </thead>\n",
              "  <tbody>\n",
              "    <tr>\n",
              "      <th>age</th>\n",
              "      <td>45211.0</td>\n",
              "      <td>40.936210</td>\n",
              "      <td>10.618762</td>\n",
              "      <td>18.0</td>\n",
              "      <td>33.0</td>\n",
              "      <td>39.0</td>\n",
              "      <td>48.0</td>\n",
              "      <td>95.0</td>\n",
              "    </tr>\n",
              "    <tr>\n",
              "      <th>balance</th>\n",
              "      <td>45211.0</td>\n",
              "      <td>1362.272058</td>\n",
              "      <td>3044.765829</td>\n",
              "      <td>-8019.0</td>\n",
              "      <td>72.0</td>\n",
              "      <td>448.0</td>\n",
              "      <td>1428.0</td>\n",
              "      <td>102127.0</td>\n",
              "    </tr>\n",
              "    <tr>\n",
              "      <th>day</th>\n",
              "      <td>45211.0</td>\n",
              "      <td>15.806419</td>\n",
              "      <td>8.322476</td>\n",
              "      <td>1.0</td>\n",
              "      <td>8.0</td>\n",
              "      <td>16.0</td>\n",
              "      <td>21.0</td>\n",
              "      <td>31.0</td>\n",
              "    </tr>\n",
              "    <tr>\n",
              "      <th>duration</th>\n",
              "      <td>45211.0</td>\n",
              "      <td>258.163080</td>\n",
              "      <td>257.527812</td>\n",
              "      <td>0.0</td>\n",
              "      <td>103.0</td>\n",
              "      <td>180.0</td>\n",
              "      <td>319.0</td>\n",
              "      <td>4918.0</td>\n",
              "    </tr>\n",
              "    <tr>\n",
              "      <th>campaign</th>\n",
              "      <td>45211.0</td>\n",
              "      <td>2.763841</td>\n",
              "      <td>3.098021</td>\n",
              "      <td>1.0</td>\n",
              "      <td>1.0</td>\n",
              "      <td>2.0</td>\n",
              "      <td>3.0</td>\n",
              "      <td>63.0</td>\n",
              "    </tr>\n",
              "    <tr>\n",
              "      <th>pdays</th>\n",
              "      <td>45211.0</td>\n",
              "      <td>40.197828</td>\n",
              "      <td>100.128746</td>\n",
              "      <td>-1.0</td>\n",
              "      <td>-1.0</td>\n",
              "      <td>-1.0</td>\n",
              "      <td>-1.0</td>\n",
              "      <td>871.0</td>\n",
              "    </tr>\n",
              "    <tr>\n",
              "      <th>previous</th>\n",
              "      <td>45211.0</td>\n",
              "      <td>0.580323</td>\n",
              "      <td>2.303441</td>\n",
              "      <td>0.0</td>\n",
              "      <td>0.0</td>\n",
              "      <td>0.0</td>\n",
              "      <td>0.0</td>\n",
              "      <td>275.0</td>\n",
              "    </tr>\n",
              "  </tbody>\n",
              "</table>\n",
              "</div>"
            ],
            "text/plain": [
              "            count         mean          std  ...    50%     75%       max\n",
              "age       45211.0    40.936210    10.618762  ...   39.0    48.0      95.0\n",
              "balance   45211.0  1362.272058  3044.765829  ...  448.0  1428.0  102127.0\n",
              "day       45211.0    15.806419     8.322476  ...   16.0    21.0      31.0\n",
              "duration  45211.0   258.163080   257.527812  ...  180.0   319.0    4918.0\n",
              "campaign  45211.0     2.763841     3.098021  ...    2.0     3.0      63.0\n",
              "pdays     45211.0    40.197828   100.128746  ...   -1.0    -1.0     871.0\n",
              "previous  45211.0     0.580323     2.303441  ...    0.0     0.0     275.0\n",
              "\n",
              "[7 rows x 8 columns]"
            ]
          },
          "metadata": {
            "tags": []
          },
          "execution_count": 70
        }
      ]
    },
    {
      "cell_type": "markdown",
      "metadata": {
        "id": "V_BkZYJLC035"
      },
      "source": [
        "## outliers are present in Age, balance, duration, campaign, pdays and previous"
      ]
    },
    {
      "cell_type": "code",
      "metadata": {
        "id": "i4SLLsWZC9SD",
        "outputId": "e8e6bb57-1a5b-4f7f-fb34-0f4ae935be8a",
        "colab": {
          "base_uri": "https://localhost:8080/",
          "height": 1000
        }
      },
      "source": [
        "# Distibution of numerical values\n",
        "fig, axe = plt.subplots(nrows=4, ncols=2, figsize = (10, 15))\n",
        "axe = axe.flatten()\n",
        "l = ['age', 'balance', 'day', 'duration', 'campaign', 'pdays', 'previous']\n",
        "for i in range(len(l)):\n",
        "  sns.distplot(data[l[i]], ax = axe[i])\n",
        "\n",
        "fig.tight_layout()\n",
        "fig.show()\n",
        "axe.flat[-1].set_visible(False)"
      ],
      "execution_count": 71,
      "outputs": [
        {
          "output_type": "stream",
          "text": [
            "/usr/local/lib/python3.6/dist-packages/seaborn/distributions.py:2551: FutureWarning: `distplot` is a deprecated function and will be removed in a future version. Please adapt your code to use either `displot` (a figure-level function with similar flexibility) or `histplot` (an axes-level function for histograms).\n",
            "  warnings.warn(msg, FutureWarning)\n",
            "/usr/local/lib/python3.6/dist-packages/seaborn/distributions.py:2551: FutureWarning: `distplot` is a deprecated function and will be removed in a future version. Please adapt your code to use either `displot` (a figure-level function with similar flexibility) or `histplot` (an axes-level function for histograms).\n",
            "  warnings.warn(msg, FutureWarning)\n",
            "/usr/local/lib/python3.6/dist-packages/seaborn/distributions.py:2551: FutureWarning: `distplot` is a deprecated function and will be removed in a future version. Please adapt your code to use either `displot` (a figure-level function with similar flexibility) or `histplot` (an axes-level function for histograms).\n",
            "  warnings.warn(msg, FutureWarning)\n",
            "/usr/local/lib/python3.6/dist-packages/seaborn/distributions.py:2551: FutureWarning: `distplot` is a deprecated function and will be removed in a future version. Please adapt your code to use either `displot` (a figure-level function with similar flexibility) or `histplot` (an axes-level function for histograms).\n",
            "  warnings.warn(msg, FutureWarning)\n",
            "/usr/local/lib/python3.6/dist-packages/seaborn/distributions.py:2551: FutureWarning: `distplot` is a deprecated function and will be removed in a future version. Please adapt your code to use either `displot` (a figure-level function with similar flexibility) or `histplot` (an axes-level function for histograms).\n",
            "  warnings.warn(msg, FutureWarning)\n",
            "/usr/local/lib/python3.6/dist-packages/seaborn/distributions.py:2551: FutureWarning: `distplot` is a deprecated function and will be removed in a future version. Please adapt your code to use either `displot` (a figure-level function with similar flexibility) or `histplot` (an axes-level function for histograms).\n",
            "  warnings.warn(msg, FutureWarning)\n",
            "/usr/local/lib/python3.6/dist-packages/seaborn/distributions.py:2551: FutureWarning: `distplot` is a deprecated function and will be removed in a future version. Please adapt your code to use either `displot` (a figure-level function with similar flexibility) or `histplot` (an axes-level function for histograms).\n",
            "  warnings.warn(msg, FutureWarning)\n"
          ],
          "name": "stderr"
        },
        {
          "output_type": "display_data",
          "data": {
            "image/png": "[encoded data removed]",
            "text/plain": [
              "<Figure size 720x1080 with 8 Axes>"
            ]
          },
          "metadata": {
            "tags": [],
            "needs_background": "light"
          }
        }
      ]
    },
    {
      "cell_type": "code",
      "metadata": {
        "id": "5wcpDGmEL7SB",
        "outputId": "3481c539-1330-47aa-afb5-983ad43515e4",
        "colab": {
          "base_uri": "https://localhost:8080/",
          "height": 1000
        }
      },
      "source": [
        "# Distribution of categorical features\n",
        "\n",
        "fig, axe = plt.subplots(nrows=5, ncols=2, figsize = (10, 15))\n",
        "axe = axe.flatten()\n",
        "\n",
        "l = ['job', 'marital', 'education', 'default', 'housing', 'loan', 'contact', 'month', 'poutcome', 'Target']\n",
        "for i in range(len(l)):\n",
        "  plot = sns.countplot(x = data[l[i]], data = data, ax = axe[i])\n",
        "  plt.setp(plot.get_xticklabels(), rotation = 90)\n",
        "\n",
        "fig.tight_layout()\n",
        "fig.show()"
      ],
      "execution_count": 72,
      "outputs": [
        {
          "output_type": "display_data",
          "data": {
            "image/png": "[encoded data removed]",
            "text/plain": [
              "<Figure size 720x1080 with 10 Axes>"
            ]
          },
          "metadata": {
            "tags": [],
            "needs_background": "light"
          }
        }
      ]
    },
    {
      "cell_type": "markdown",
      "metadata": {
        "id": "wH9023YYPOeZ"
      },
      "source": [
        "## Inferences from count plot of categorical features:\n",
        "\n",
        "1. more than 90% customers have no default credit\n",
        "2. 88% customers aren't subscribed for term deposit\n",
        "3. Most customers are contacted in the month of Ma\n",
        "4. Most peoplt have been contacted via cellphone\n",
        "5. Number of customers who have housing loans is more than no. of customers, who don't have housing loan\n",
        "6. Around 6% of customers have credit in default\n",
        "\n",
        "\n"
      ]
    },
    {
      "cell_type": "markdown",
      "metadata": {
        "id": "kRDMNwK2dJo2"
      },
      "source": [
        "Measure of skewness of numerical features"
      ]
    },
    {
      "cell_type": "code",
      "metadata": {
        "id": "UXVH-96XdGxW",
        "outputId": "55d2ef05-ca25-4da7-c9f8-69feb3e493cf",
        "colab": {
          "base_uri": "https://localhost:8080/",
          "height": 266
        }
      },
      "source": [
        "data.skew().to_frame('Skewness Measure')"
      ],
      "execution_count": 73,
      "outputs": [
        {
          "output_type": "execute_result",
          "data": {
            "text/html": [
              "<div>\n",
              "<style scoped>\n",
              "    .dataframe tbody tr th:only-of-type {\n",
              "        vertical-align: middle;\n",
              "    }\n",
              "\n",
              "    .dataframe tbody tr th {\n",
              "        vertical-align: top;\n",
              "    }\n",
              "\n",
              "    .dataframe thead th {\n",
              "        text-align: right;\n",
              "    }\n",
              "</style>\n",
              "<table border=\"1\" class=\"dataframe\">\n",
              "  <thead>\n",
              "    <tr style=\"text-align: right;\">\n",
              "      <th></th>\n",
              "      <th>Skewness Measure</th>\n",
              "    </tr>\n",
              "  </thead>\n",
              "  <tbody>\n",
              "    <tr>\n",
              "      <th>age</th>\n",
              "      <td>0.684818</td>\n",
              "    </tr>\n",
              "    <tr>\n",
              "      <th>balance</th>\n",
              "      <td>8.360308</td>\n",
              "    </tr>\n",
              "    <tr>\n",
              "      <th>day</th>\n",
              "      <td>0.093079</td>\n",
              "    </tr>\n",
              "    <tr>\n",
              "      <th>duration</th>\n",
              "      <td>3.144318</td>\n",
              "    </tr>\n",
              "    <tr>\n",
              "      <th>campaign</th>\n",
              "      <td>4.898650</td>\n",
              "    </tr>\n",
              "    <tr>\n",
              "      <th>pdays</th>\n",
              "      <td>2.615715</td>\n",
              "    </tr>\n",
              "    <tr>\n",
              "      <th>previous</th>\n",
              "      <td>41.846454</td>\n",
              "    </tr>\n",
              "  </tbody>\n",
              "</table>\n",
              "</div>"
            ],
            "text/plain": [
              "          Skewness Measure\n",
              "age               0.684818\n",
              "balance           8.360308\n",
              "day               0.093079\n",
              "duration          3.144318\n",
              "campaign          4.898650\n",
              "pdays             2.615715\n",
              "previous         41.846454"
            ]
          },
          "metadata": {
            "tags": []
          },
          "execution_count": 73
        }
      ]
    },
    {
      "cell_type": "markdown",
      "metadata": {
        "id": "jAUErXCqdWkS"
      },
      "source": [
        "### Checking the Presence of Outliers"
      ]
    },
    {
      "cell_type": "code",
      "metadata": {
        "id": "6eAtxBipdV53",
        "outputId": "15716067-672b-42d4-df5b-0f4d34185357",
        "colab": {
          "base_uri": "https://localhost:8080/",
          "height": 1000
        }
      },
      "source": [
        "fig, axe = plt.subplots(nrows=4, ncols=2, figsize = (10, 15))\n",
        "axe = axe.flatten()\n",
        "\n",
        "l = ['age', 'balance', 'day', 'duration', 'campaign', 'pdays', 'previous']\n",
        "for i in range(len(l)):\n",
        "  sns.boxplot(data[l[i]], data=data, ax = axe[i])\n",
        "\n",
        "fig.tight_layout()\n",
        "fig.show()\n",
        "axe.flat[-1].set_visible(False)"
      ],
      "execution_count": 74,
      "outputs": [
        {
          "output_type": "stream",
          "text": [
            "/usr/local/lib/python3.6/dist-packages/seaborn/_decorators.py:43: FutureWarning: Pass the following variable as a keyword arg: x. From version 0.12, the only valid positional argument will be `data`, and passing other arguments without an explicit keyword will result in an error or misinterpretation.\n",
            "  FutureWarning\n",
            "/usr/local/lib/python3.6/dist-packages/seaborn/_decorators.py:43: FutureWarning: Pass the following variable as a keyword arg: x. From version 0.12, the only valid positional argument will be `data`, and passing other arguments without an explicit keyword will result in an error or misinterpretation.\n",
            "  FutureWarning\n",
            "/usr/local/lib/python3.6/dist-packages/seaborn/_decorators.py:43: FutureWarning: Pass the following variable as a keyword arg: x. From version 0.12, the only valid positional argument will be `data`, and passing other arguments without an explicit keyword will result in an error or misinterpretation.\n",
            "  FutureWarning\n",
            "/usr/local/lib/python3.6/dist-packages/seaborn/_decorators.py:43: FutureWarning: Pass the following variable as a keyword arg: x. From version 0.12, the only valid positional argument will be `data`, and passing other arguments without an explicit keyword will result in an error or misinterpretation.\n",
            "  FutureWarning\n",
            "/usr/local/lib/python3.6/dist-packages/seaborn/_decorators.py:43: FutureWarning: Pass the following variable as a keyword arg: x. From version 0.12, the only valid positional argument will be `data`, and passing other arguments without an explicit keyword will result in an error or misinterpretation.\n",
            "  FutureWarning\n",
            "/usr/local/lib/python3.6/dist-packages/seaborn/_decorators.py:43: FutureWarning: Pass the following variable as a keyword arg: x. From version 0.12, the only valid positional argument will be `data`, and passing other arguments without an explicit keyword will result in an error or misinterpretation.\n",
            "  FutureWarning\n",
            "/usr/local/lib/python3.6/dist-packages/seaborn/_decorators.py:43: FutureWarning: Pass the following variable as a keyword arg: x. From version 0.12, the only valid positional argument will be `data`, and passing other arguments without an explicit keyword will result in an error or misinterpretation.\n",
            "  FutureWarning\n"
          ],
          "name": "stderr"
        },
        {
          "output_type": "display_data",
          "data": {
            "image/png": "[encoded data removed]",
            "text/plain": [
              "<Figure size 720x1080 with 8 Axes>"
            ]
          },
          "metadata": {
            "tags": [],
            "needs_background": "light"
          }
        }
      ]
    },
    {
      "cell_type": "code",
      "metadata": {
        "id": "H1WT7rxFfVSv",
        "outputId": "a53f1bcf-883a-4cc0-96a3-bbbb3bc6ddc2",
        "colab": {
          "base_uri": "https://localhost:8080/",
          "height": 111
        }
      },
      "source": [
        "data['Target'].value_counts().to_frame('Target Feature Distribution')"
      ],
      "execution_count": 75,
      "outputs": [
        {
          "output_type": "execute_result",
          "data": {
            "text/html": [
              "<div>\n",
              "<style scoped>\n",
              "    .dataframe tbody tr th:only-of-type {\n",
              "        vertical-align: middle;\n",
              "    }\n",
              "\n",
              "    .dataframe tbody tr th {\n",
              "        vertical-align: top;\n",
              "    }\n",
              "\n",
              "    .dataframe thead th {\n",
              "        text-align: right;\n",
              "    }\n",
              "</style>\n",
              "<table border=\"1\" class=\"dataframe\">\n",
              "  <thead>\n",
              "    <tr style=\"text-align: right;\">\n",
              "      <th></th>\n",
              "      <th>Target Feature Distribution</th>\n",
              "    </tr>\n",
              "  </thead>\n",
              "  <tbody>\n",
              "    <tr>\n",
              "      <th>no</th>\n",
              "      <td>39922</td>\n",
              "    </tr>\n",
              "    <tr>\n",
              "      <th>yes</th>\n",
              "      <td>5289</td>\n",
              "    </tr>\n",
              "  </tbody>\n",
              "</table>\n",
              "</div>"
            ],
            "text/plain": [
              "     Target Feature Distribution\n",
              "no                         39922\n",
              "yes                         5289"
            ]
          },
          "metadata": {
            "tags": []
          },
          "execution_count": 75
        }
      ]
    },
    {
      "cell_type": "code",
      "metadata": {
        "id": "Anw4yCKlfi9s"
      },
      "source": [
        "df = data.copy()"
      ],
      "execution_count": 76,
      "outputs": []
    },
    {
      "cell_type": "code",
      "metadata": {
        "id": "mdVJwZfZ-9p3",
        "outputId": "0b72a129-99eb-4739-9180-0de177df26be",
        "colab": {
          "base_uri": "https://localhost:8080/",
          "height": 131
        }
      },
      "source": [
        "df.head(2)"
      ],
      "execution_count": 77,
      "outputs": [
        {
          "output_type": "execute_result",
          "data": {
            "text/html": [
              "<div>\n",
              "<style scoped>\n",
              "    .dataframe tbody tr th:only-of-type {\n",
              "        vertical-align: middle;\n",
              "    }\n",
              "\n",
              "    .dataframe tbody tr th {\n",
              "        vertical-align: top;\n",
              "    }\n",
              "\n",
              "    .dataframe thead th {\n",
              "        text-align: right;\n",
              "    }\n",
              "</style>\n",
              "<table border=\"1\" class=\"dataframe\">\n",
              "  <thead>\n",
              "    <tr style=\"text-align: right;\">\n",
              "      <th></th>\n",
              "      <th>age</th>\n",
              "      <th>job</th>\n",
              "      <th>marital</th>\n",
              "      <th>education</th>\n",
              "      <th>default</th>\n",
              "      <th>balance</th>\n",
              "      <th>housing</th>\n",
              "      <th>loan</th>\n",
              "      <th>contact</th>\n",
              "      <th>day</th>\n",
              "      <th>month</th>\n",
              "      <th>duration</th>\n",
              "      <th>campaign</th>\n",
              "      <th>pdays</th>\n",
              "      <th>previous</th>\n",
              "      <th>poutcome</th>\n",
              "      <th>Target</th>\n",
              "    </tr>\n",
              "  </thead>\n",
              "  <tbody>\n",
              "    <tr>\n",
              "      <th>0</th>\n",
              "      <td>58</td>\n",
              "      <td>management</td>\n",
              "      <td>married</td>\n",
              "      <td>tertiary</td>\n",
              "      <td>no</td>\n",
              "      <td>2143</td>\n",
              "      <td>yes</td>\n",
              "      <td>no</td>\n",
              "      <td>unknown</td>\n",
              "      <td>5</td>\n",
              "      <td>may</td>\n",
              "      <td>261</td>\n",
              "      <td>1</td>\n",
              "      <td>-1</td>\n",
              "      <td>0</td>\n",
              "      <td>unknown</td>\n",
              "      <td>no</td>\n",
              "    </tr>\n",
              "    <tr>\n",
              "      <th>1</th>\n",
              "      <td>44</td>\n",
              "      <td>technician</td>\n",
              "      <td>single</td>\n",
              "      <td>secondary</td>\n",
              "      <td>no</td>\n",
              "      <td>29</td>\n",
              "      <td>yes</td>\n",
              "      <td>no</td>\n",
              "      <td>unknown</td>\n",
              "      <td>5</td>\n",
              "      <td>may</td>\n",
              "      <td>151</td>\n",
              "      <td>1</td>\n",
              "      <td>-1</td>\n",
              "      <td>0</td>\n",
              "      <td>unknown</td>\n",
              "      <td>no</td>\n",
              "    </tr>\n",
              "  </tbody>\n",
              "</table>\n",
              "</div>"
            ],
            "text/plain": [
              "   age         job  marital  education  ... pdays  previous poutcome Target\n",
              "0   58  management  married   tertiary  ...    -1         0  unknown     no\n",
              "1   44  technician   single  secondary  ...    -1         0  unknown     no\n",
              "\n",
              "[2 rows x 17 columns]"
            ]
          },
          "metadata": {
            "tags": []
          },
          "execution_count": 77
        }
      ]
    },
    {
      "cell_type": "code",
      "metadata": {
        "id": "kN1DC3Npfw2B"
      },
      "source": [
        "lab_enc = LabelEncoder()"
      ],
      "execution_count": 78,
      "outputs": []
    },
    {
      "cell_type": "code",
      "metadata": {
        "id": "XV64fAFGf0vV"
      },
      "source": [
        "l = ['marital', 'education', 'default', 'housing', 'loan', 'month', 'poutcome', 'Target']\n",
        "\n",
        "for i in l:\n",
        "  df[i] = lab_enc.fit_transform(df[i]).astype(int)"
      ],
      "execution_count": 79,
      "outputs": []
    },
    {
      "cell_type": "code",
      "metadata": {
        "id": "G9FAP8grgeJe",
        "outputId": "61a92ef7-4d68-40ae-e4fb-116b272dbe1e",
        "colab": {
          "base_uri": "https://localhost:8080/",
          "height": 131
        }
      },
      "source": [
        "df.head(2)"
      ],
      "execution_count": 80,
      "outputs": [
        {
          "output_type": "execute_result",
          "data": {
            "text/html": [
              "<div>\n",
              "<style scoped>\n",
              "    .dataframe tbody tr th:only-of-type {\n",
              "        vertical-align: middle;\n",
              "    }\n",
              "\n",
              "    .dataframe tbody tr th {\n",
              "        vertical-align: top;\n",
              "    }\n",
              "\n",
              "    .dataframe thead th {\n",
              "        text-align: right;\n",
              "    }\n",
              "</style>\n",
              "<table border=\"1\" class=\"dataframe\">\n",
              "  <thead>\n",
              "    <tr style=\"text-align: right;\">\n",
              "      <th></th>\n",
              "      <th>age</th>\n",
              "      <th>job</th>\n",
              "      <th>marital</th>\n",
              "      <th>education</th>\n",
              "      <th>default</th>\n",
              "      <th>balance</th>\n",
              "      <th>housing</th>\n",
              "      <th>loan</th>\n",
              "      <th>contact</th>\n",
              "      <th>day</th>\n",
              "      <th>month</th>\n",
              "      <th>duration</th>\n",
              "      <th>campaign</th>\n",
              "      <th>pdays</th>\n",
              "      <th>previous</th>\n",
              "      <th>poutcome</th>\n",
              "      <th>Target</th>\n",
              "    </tr>\n",
              "  </thead>\n",
              "  <tbody>\n",
              "    <tr>\n",
              "      <th>0</th>\n",
              "      <td>58</td>\n",
              "      <td>management</td>\n",
              "      <td>1</td>\n",
              "      <td>2</td>\n",
              "      <td>0</td>\n",
              "      <td>2143</td>\n",
              "      <td>1</td>\n",
              "      <td>0</td>\n",
              "      <td>unknown</td>\n",
              "      <td>5</td>\n",
              "      <td>8</td>\n",
              "      <td>261</td>\n",
              "      <td>1</td>\n",
              "      <td>-1</td>\n",
              "      <td>0</td>\n",
              "      <td>3</td>\n",
              "      <td>0</td>\n",
              "    </tr>\n",
              "    <tr>\n",
              "      <th>1</th>\n",
              "      <td>44</td>\n",
              "      <td>technician</td>\n",
              "      <td>2</td>\n",
              "      <td>1</td>\n",
              "      <td>0</td>\n",
              "      <td>29</td>\n",
              "      <td>1</td>\n",
              "      <td>0</td>\n",
              "      <td>unknown</td>\n",
              "      <td>5</td>\n",
              "      <td>8</td>\n",
              "      <td>151</td>\n",
              "      <td>1</td>\n",
              "      <td>-1</td>\n",
              "      <td>0</td>\n",
              "      <td>3</td>\n",
              "      <td>0</td>\n",
              "    </tr>\n",
              "  </tbody>\n",
              "</table>\n",
              "</div>"
            ],
            "text/plain": [
              "   age         job  marital  education  ...  pdays  previous  poutcome  Target\n",
              "0   58  management        1          2  ...     -1         0         3       0\n",
              "1   44  technician        2          1  ...     -1         0         3       0\n",
              "\n",
              "[2 rows x 17 columns]"
            ]
          },
          "metadata": {
            "tags": []
          },
          "execution_count": 80
        }
      ]
    },
    {
      "cell_type": "code",
      "metadata": {
        "id": "_UFxHEmVgnvh",
        "outputId": "4f97d36e-6e08-4e50-9608-5333de93d55c",
        "colab": {
          "base_uri": "https://localhost:8080/",
          "height": 425
        }
      },
      "source": [
        "df.info()"
      ],
      "execution_count": 81,
      "outputs": [
        {
          "output_type": "stream",
          "text": [
            "<class 'pandas.core.frame.DataFrame'>\n",
            "RangeIndex: 45211 entries, 0 to 45210\n",
            "Data columns (total 17 columns):\n",
            " #   Column     Non-Null Count  Dtype   \n",
            "---  ------     --------------  -----   \n",
            " 0   age        45211 non-null  int64   \n",
            " 1   job        45211 non-null  category\n",
            " 2   marital    45211 non-null  int64   \n",
            " 3   education  45211 non-null  int64   \n",
            " 4   default    45211 non-null  int64   \n",
            " 5   balance    45211 non-null  int64   \n",
            " 6   housing    45211 non-null  int64   \n",
            " 7   loan       45211 non-null  int64   \n",
            " 8   contact    45211 non-null  category\n",
            " 9   day        45211 non-null  int64   \n",
            " 10  month      45211 non-null  int64   \n",
            " 11  duration   45211 non-null  int64   \n",
            " 12  campaign   45211 non-null  int64   \n",
            " 13  pdays      45211 non-null  int64   \n",
            " 14  previous   45211 non-null  int64   \n",
            " 15  poutcome   45211 non-null  int64   \n",
            " 16  Target     45211 non-null  int64   \n",
            "dtypes: category(2), int64(15)\n",
            "memory usage: 5.3 MB\n"
          ],
          "name": "stdout"
        }
      ]
    },
    {
      "cell_type": "code",
      "metadata": {
        "id": "xvjqVf1hgp_m"
      },
      "source": [
        "df[['job', 'marital', 'education', 'default', 'housing', 'loan', 'contact', 'month', 'poutcome', \n",
        "      'Target']] = df[['job', 'marital', 'education', 'default', 'housing','loan', 'contact', \n",
        "                         'month', 'poutcome', 'Target']].apply(pd.Categorical)"
      ],
      "execution_count": 82,
      "outputs": []
    },
    {
      "cell_type": "code",
      "metadata": {
        "id": "VfZQ-F22_yDb",
        "outputId": "f4446020-08a2-44e8-dcb5-05bd8d28a272",
        "colab": {
          "base_uri": "https://localhost:8080/",
          "height": 425
        }
      },
      "source": [
        "df.info()"
      ],
      "execution_count": 83,
      "outputs": [
        {
          "output_type": "stream",
          "text": [
            "<class 'pandas.core.frame.DataFrame'>\n",
            "RangeIndex: 45211 entries, 0 to 45210\n",
            "Data columns (total 17 columns):\n",
            " #   Column     Non-Null Count  Dtype   \n",
            "---  ------     --------------  -----   \n",
            " 0   age        45211 non-null  int64   \n",
            " 1   job        45211 non-null  category\n",
            " 2   marital    45211 non-null  category\n",
            " 3   education  45211 non-null  category\n",
            " 4   default    45211 non-null  category\n",
            " 5   balance    45211 non-null  int64   \n",
            " 6   housing    45211 non-null  category\n",
            " 7   loan       45211 non-null  category\n",
            " 8   contact    45211 non-null  category\n",
            " 9   day        45211 non-null  int64   \n",
            " 10  month      45211 non-null  category\n",
            " 11  duration   45211 non-null  int64   \n",
            " 12  campaign   45211 non-null  int64   \n",
            " 13  pdays      45211 non-null  int64   \n",
            " 14  previous   45211 non-null  int64   \n",
            " 15  poutcome   45211 non-null  category\n",
            " 16  Target     45211 non-null  category\n",
            "dtypes: category(10), int64(7)\n",
            "memory usage: 2.8 MB\n"
          ],
          "name": "stdout"
        }
      ]
    },
    {
      "cell_type": "markdown",
      "metadata": {
        "id": "lMnQJS6j_3bU"
      },
      "source": [
        "## Handling outliers with Mean Replacement"
      ]
    },
    {
      "cell_type": "code",
      "metadata": {
        "id": "MKzc55ag_1kQ"
      },
      "source": [
        "outlier_features = ['balance', 'duration', 'campaign', 'pdays', 'previous']\n",
        "\n",
        "for i in outlier_features:\n",
        "  mean_of_feature = float(df[i].mean())\n",
        "  df[i] = np.where(df[i]>np.percentile(df[i], 75), mean_of_feature, df[i])"
      ],
      "execution_count": 84,
      "outputs": []
    },
    {
      "cell_type": "markdown",
      "metadata": {
        "id": "TBp573SIB03U"
      },
      "source": [
        "### Plotting the boxplot after removing the outliers"
      ]
    },
    {
      "cell_type": "code",
      "metadata": {
        "id": "TLc70Is6BT7o",
        "outputId": "27266357-5ebc-4c66-b6a1-aa9365c5efc5",
        "colab": {
          "base_uri": "https://localhost:8080/",
          "height": 1000
        }
      },
      "source": [
        "fig, axe = plt.subplots(nrows=4, ncols=2, figsize = (10, 15))\n",
        "axe = axe.flatten()\n",
        "\n",
        "l = ['age', 'balance', 'day', 'duration', 'campaign', 'pdays', 'previous']\n",
        "for i in range(len(l)):\n",
        "  sns.boxplot(df[l[i]], data=df, ax = axe[i])\n",
        "\n",
        "fig.tight_layout()\n",
        "fig.show()\n",
        "axe.flat[-1].set_visible(False)"
      ],
      "execution_count": 85,
      "outputs": [
        {
          "output_type": "stream",
          "text": [
            "/usr/local/lib/python3.6/dist-packages/seaborn/_decorators.py:43: FutureWarning: Pass the following variable as a keyword arg: x. From version 0.12, the only valid positional argument will be `data`, and passing other arguments without an explicit keyword will result in an error or misinterpretation.\n",
            "  FutureWarning\n",
            "/usr/local/lib/python3.6/dist-packages/seaborn/_decorators.py:43: FutureWarning: Pass the following variable as a keyword arg: x. From version 0.12, the only valid positional argument will be `data`, and passing other arguments without an explicit keyword will result in an error or misinterpretation.\n",
            "  FutureWarning\n",
            "/usr/local/lib/python3.6/dist-packages/seaborn/_decorators.py:43: FutureWarning: Pass the following variable as a keyword arg: x. From version 0.12, the only valid positional argument will be `data`, and passing other arguments without an explicit keyword will result in an error or misinterpretation.\n",
            "  FutureWarning\n",
            "/usr/local/lib/python3.6/dist-packages/seaborn/_decorators.py:43: FutureWarning: Pass the following variable as a keyword arg: x. From version 0.12, the only valid positional argument will be `data`, and passing other arguments without an explicit keyword will result in an error or misinterpretation.\n",
            "  FutureWarning\n",
            "/usr/local/lib/python3.6/dist-packages/seaborn/_decorators.py:43: FutureWarning: Pass the following variable as a keyword arg: x. From version 0.12, the only valid positional argument will be `data`, and passing other arguments without an explicit keyword will result in an error or misinterpretation.\n",
            "  FutureWarning\n",
            "/usr/local/lib/python3.6/dist-packages/seaborn/_decorators.py:43: FutureWarning: Pass the following variable as a keyword arg: x. From version 0.12, the only valid positional argument will be `data`, and passing other arguments without an explicit keyword will result in an error or misinterpretation.\n",
            "  FutureWarning\n",
            "/usr/local/lib/python3.6/dist-packages/seaborn/_decorators.py:43: FutureWarning: Pass the following variable as a keyword arg: x. From version 0.12, the only valid positional argument will be `data`, and passing other arguments without an explicit keyword will result in an error or misinterpretation.\n",
            "  FutureWarning\n"
          ],
          "name": "stderr"
        },
        {
          "output_type": "display_data",
          "data": {
            "image/png": "[encoded data removed]",
            "text/plain": [
              "<Figure size 720x1080 with 8 Axes>"
            ]
          },
          "metadata": {
            "tags": [],
            "needs_background": "light"
          }
        }
      ]
    },
    {
      "cell_type": "markdown",
      "metadata": {
        "id": "00w7W8DMCy34"
      },
      "source": [
        "Correlation Plot of All features"
      ]
    },
    {
      "cell_type": "code",
      "metadata": {
        "id": "qWMtRkEHC1g3",
        "outputId": "1d8976c0-27b0-407e-d4e7-17a28d5bf0f6",
        "colab": {
          "base_uri": "https://localhost:8080/",
          "height": 499
        }
      },
      "source": [
        "plt.figure(figsize=(10,8))\n",
        "sns.heatmap(df.corr(), annot=True, vmax=1, vmin=-1)\n",
        "plt.title('After Removing outliers');"
      ],
      "execution_count": 86,
      "outputs": [
        {
          "output_type": "display_data",
          "data": {
            "image/png": "[encoded data removed]",
            "text/plain": [
              "<Figure size 720x576 with 2 Axes>"
            ]
          },
          "metadata": {
            "tags": [],
            "needs_background": "light"
          }
        }
      ]
    },
    {
      "cell_type": "code",
      "metadata": {
        "id": "zeZOoaELDGEf",
        "outputId": "2b9eaa0b-4478-458e-d100-c68c1aa9fca0",
        "colab": {
          "base_uri": "https://localhost:8080/",
          "height": 499
        }
      },
      "source": [
        "plt.figure(figsize=(10,8))\n",
        "sns.heatmap(data.corr(), annot=True, vmax=1, vmin=-1)\n",
        "plt.title('Before Removing outliers');"
      ],
      "execution_count": 87,
      "outputs": [
        {
          "output_type": "display_data",
          "data": {
            "image/png": "[encoded data removed]",
            "text/plain": [
              "<Figure size 720x576 with 2 Axes>"
            ]
          },
          "metadata": {
            "tags": [],
            "needs_background": "light"
          }
        }
      ]
    },
    {
      "cell_type": "code",
      "metadata": {
        "id": "skpgQh7JEXaR",
        "outputId": "fae1de6f-34f3-422b-fd49-a4a5ed950c40",
        "colab": {
          "base_uri": "https://localhost:8080/",
          "height": 131
        }
      },
      "source": [
        "df.head(2)"
      ],
      "execution_count": 98,
      "outputs": [
        {
          "output_type": "execute_result",
          "data": {
            "text/html": [
              "<div>\n",
              "<style scoped>\n",
              "    .dataframe tbody tr th:only-of-type {\n",
              "        vertical-align: middle;\n",
              "    }\n",
              "\n",
              "    .dataframe tbody tr th {\n",
              "        vertical-align: top;\n",
              "    }\n",
              "\n",
              "    .dataframe thead th {\n",
              "        text-align: right;\n",
              "    }\n",
              "</style>\n",
              "<table border=\"1\" class=\"dataframe\">\n",
              "  <thead>\n",
              "    <tr style=\"text-align: right;\">\n",
              "      <th></th>\n",
              "      <th>age</th>\n",
              "      <th>job</th>\n",
              "      <th>marital</th>\n",
              "      <th>education</th>\n",
              "      <th>default</th>\n",
              "      <th>balance</th>\n",
              "      <th>housing</th>\n",
              "      <th>loan</th>\n",
              "      <th>contact</th>\n",
              "      <th>day</th>\n",
              "      <th>month</th>\n",
              "      <th>duration</th>\n",
              "      <th>campaign</th>\n",
              "      <th>pdays</th>\n",
              "      <th>previous</th>\n",
              "      <th>poutcome</th>\n",
              "      <th>Target</th>\n",
              "    </tr>\n",
              "  </thead>\n",
              "  <tbody>\n",
              "    <tr>\n",
              "      <th>0</th>\n",
              "      <td>58</td>\n",
              "      <td>management</td>\n",
              "      <td>1</td>\n",
              "      <td>2</td>\n",
              "      <td>0</td>\n",
              "      <td>1362.272058</td>\n",
              "      <td>1</td>\n",
              "      <td>0</td>\n",
              "      <td>unknown</td>\n",
              "      <td>5</td>\n",
              "      <td>8</td>\n",
              "      <td>261.0</td>\n",
              "      <td>1.0</td>\n",
              "      <td>-1.0</td>\n",
              "      <td>0.0</td>\n",
              "      <td>3</td>\n",
              "      <td>0</td>\n",
              "    </tr>\n",
              "    <tr>\n",
              "      <th>1</th>\n",
              "      <td>44</td>\n",
              "      <td>technician</td>\n",
              "      <td>2</td>\n",
              "      <td>1</td>\n",
              "      <td>0</td>\n",
              "      <td>29.000000</td>\n",
              "      <td>1</td>\n",
              "      <td>0</td>\n",
              "      <td>unknown</td>\n",
              "      <td>5</td>\n",
              "      <td>8</td>\n",
              "      <td>151.0</td>\n",
              "      <td>1.0</td>\n",
              "      <td>-1.0</td>\n",
              "      <td>0.0</td>\n",
              "      <td>3</td>\n",
              "      <td>0</td>\n",
              "    </tr>\n",
              "  </tbody>\n",
              "</table>\n",
              "</div>"
            ],
            "text/plain": [
              "   age         job marital education  ... pdays  previous poutcome Target\n",
              "0   58  management       1         2  ...  -1.0       0.0        3      0\n",
              "1   44  technician       2         1  ...  -1.0       0.0        3      0\n",
              "\n",
              "[2 rows x 17 columns]"
            ]
          },
          "metadata": {
            "tags": []
          },
          "execution_count": 98
        }
      ]
    },
    {
      "cell_type": "code",
      "metadata": {
        "id": "mz7RTdgZEZzQ",
        "outputId": "fb26b4b0-50c4-494c-d90d-50c4bd3ee524",
        "colab": {
          "base_uri": "https://localhost:8080/",
          "height": 142
        }
      },
      "source": [
        "df2 = df.drop(['job','education','contact','duration','pdays','day','month'],axis=1)\n",
        "df2.head(3)"
      ],
      "execution_count": 106,
      "outputs": [
        {
          "output_type": "execute_result",
          "data": {
            "text/html": [
              "<div>\n",
              "<style scoped>\n",
              "    .dataframe tbody tr th:only-of-type {\n",
              "        vertical-align: middle;\n",
              "    }\n",
              "\n",
              "    .dataframe tbody tr th {\n",
              "        vertical-align: top;\n",
              "    }\n",
              "\n",
              "    .dataframe thead th {\n",
              "        text-align: right;\n",
              "    }\n",
              "</style>\n",
              "<table border=\"1\" class=\"dataframe\">\n",
              "  <thead>\n",
              "    <tr style=\"text-align: right;\">\n",
              "      <th></th>\n",
              "      <th>age</th>\n",
              "      <th>marital</th>\n",
              "      <th>default</th>\n",
              "      <th>balance</th>\n",
              "      <th>housing</th>\n",
              "      <th>loan</th>\n",
              "      <th>campaign</th>\n",
              "      <th>previous</th>\n",
              "      <th>poutcome</th>\n",
              "      <th>Target</th>\n",
              "    </tr>\n",
              "  </thead>\n",
              "  <tbody>\n",
              "    <tr>\n",
              "      <th>0</th>\n",
              "      <td>58</td>\n",
              "      <td>1</td>\n",
              "      <td>0</td>\n",
              "      <td>1362.272058</td>\n",
              "      <td>1</td>\n",
              "      <td>0</td>\n",
              "      <td>1.0</td>\n",
              "      <td>0.0</td>\n",
              "      <td>3</td>\n",
              "      <td>0</td>\n",
              "    </tr>\n",
              "    <tr>\n",
              "      <th>1</th>\n",
              "      <td>44</td>\n",
              "      <td>2</td>\n",
              "      <td>0</td>\n",
              "      <td>29.000000</td>\n",
              "      <td>1</td>\n",
              "      <td>0</td>\n",
              "      <td>1.0</td>\n",
              "      <td>0.0</td>\n",
              "      <td>3</td>\n",
              "      <td>0</td>\n",
              "    </tr>\n",
              "    <tr>\n",
              "      <th>2</th>\n",
              "      <td>33</td>\n",
              "      <td>1</td>\n",
              "      <td>0</td>\n",
              "      <td>2.000000</td>\n",
              "      <td>1</td>\n",
              "      <td>1</td>\n",
              "      <td>1.0</td>\n",
              "      <td>0.0</td>\n",
              "      <td>3</td>\n",
              "      <td>0</td>\n",
              "    </tr>\n",
              "  </tbody>\n",
              "</table>\n",
              "</div>"
            ],
            "text/plain": [
              "   age marital default      balance  ... campaign previous  poutcome  Target\n",
              "0   58       1       0  1362.272058  ...      1.0      0.0         3       0\n",
              "1   44       2       0    29.000000  ...      1.0      0.0         3       0\n",
              "2   33       1       0     2.000000  ...      1.0      0.0         3       0\n",
              "\n",
              "[3 rows x 10 columns]"
            ]
          },
          "metadata": {
            "tags": []
          },
          "execution_count": 106
        }
      ]
    },
    {
      "cell_type": "markdown",
      "metadata": {
        "id": "A-eQkf2ZId5U"
      },
      "source": [
        "# Splt Data or Training and Testing in 70:30 ratio"
      ]
    },
    {
      "cell_type": "code",
      "metadata": {
        "id": "HVDYxgiyIkgi"
      },
      "source": [
        "X = df2.drop('Target', axis = 1)\n",
        "y = df2['Target']"
      ],
      "execution_count": 115,
      "outputs": []
    },
    {
      "cell_type": "code",
      "metadata": {
        "id": "YpCDKs6IIuxk"
      },
      "source": [
        "X_train, X_test, y_train, y_test = train_test_split(X, y, test_size=0.3, random_state=2)"
      ],
      "execution_count": 116,
      "outputs": []
    },
    {
      "cell_type": "code",
      "metadata": {
        "id": "GGx6PVibI_Hy"
      },
      "source": [
        "# Scaling the data\n",
        "Scaler = StandardScaler()\n",
        "X_train, X_test = Scaler.fit_transform(X_train), Scaler.fit_transform(X_test)"
      ],
      "execution_count": 117,
      "outputs": []
    },
    {
      "cell_type": "markdown",
      "metadata": {
        "id": "Mtbla8YIJVTo"
      },
      "source": [
        "# Builing the Models"
      ]
    },
    {
      "cell_type": "markdown",
      "metadata": {
        "id": "nsysQBaZK0h9"
      },
      "source": [
        "### 1. Logistic Regression"
      ]
    },
    {
      "cell_type": "code",
      "metadata": {
        "id": "UVHqIVB1JTes"
      },
      "source": [
        "Logic_R = LogisticRegression(solver='liblinear')"
      ],
      "execution_count": 118,
      "outputs": []
    },
    {
      "cell_type": "code",
      "metadata": {
        "id": "NSvdveE6JnxT",
        "outputId": "49ed03c2-dc1b-46c6-a7ff-f7650a41f44a",
        "colab": {
          "base_uri": "https://localhost:8080/",
          "height": 323
        }
      },
      "source": [
        "# Fitting the model\n",
        "Logic_R.fit(X_train, y_train)\n",
        "\n",
        "y_pred = Logic_R.predict(X_test)\n",
        "\n",
        "# Confusion Matrix\n",
        "print('\\nConfusion Matrix:\\n', confusion_matrix(y_test, y_pred))\n",
        "\n",
        "LR_Accuracy = accuracy_score(y_test, y_pred)\n",
        "\n",
        "# Accuracy Score\n",
        "print('\\nAccuracy score:\\n', LR_Accuracy)\n",
        "\n",
        "# Classification Report\n",
        "print('\\nClassification Report:\\n', classification_report(y_test, y_pred))"
      ],
      "execution_count": 174,
      "outputs": [
        {
          "output_type": "stream",
          "text": [
            "\n",
            "Confusion Matrix:\n",
            " [[11892   107]\n",
            " [ 1318   247]]\n",
            "\n",
            "Accuracy score:\n",
            " 0.8949424948392805\n",
            "\n",
            "Classification Report:\n",
            "               precision    recall  f1-score   support\n",
            "\n",
            "           0       0.90      0.99      0.94     11999\n",
            "           1       0.70      0.16      0.26      1565\n",
            "\n",
            "    accuracy                           0.89     13564\n",
            "   macro avg       0.80      0.57      0.60     13564\n",
            "weighted avg       0.88      0.89      0.86     13564\n",
            "\n"
          ],
          "name": "stdout"
        }
      ]
    },
    {
      "cell_type": "markdown",
      "metadata": {
        "id": "h4iV49LtLjXx"
      },
      "source": [
        "### 2. Naive Bayes"
      ]
    },
    {
      "cell_type": "code",
      "metadata": {
        "id": "rAaoIVupKp7N"
      },
      "source": [
        "NB = GaussianNB()"
      ],
      "execution_count": 132,
      "outputs": []
    },
    {
      "cell_type": "code",
      "metadata": {
        "id": "xSSC5mnYLso6",
        "outputId": "314e548b-b438-4bee-855a-47fb29a75f8d",
        "colab": {
          "base_uri": "https://localhost:8080/",
          "height": 323
        }
      },
      "source": [
        "# Fitting the model\n",
        "NB.fit(X_train, y_train)\n",
        "\n",
        "y_pred = NB.predict(X_test)\n",
        "\n",
        "# Confusion Matrix\n",
        "print('\\nConfusion Matrix:\\n', confusion_matrix(y_test, y_pred))\n",
        "\n",
        "NB_Accuracy = accuracy_score(y_test, y_pred)\n",
        "\n",
        "# Accuracy Score\n",
        "print('\\nAccuracy score:\\n', NB_Accuracy)\n",
        "\n",
        "# Classification Report\n",
        "print('\\nClassification Report:\\n', classification_report(y_test, y_pred))"
      ],
      "execution_count": 175,
      "outputs": [
        {
          "output_type": "stream",
          "text": [
            "\n",
            "Confusion Matrix:\n",
            " [[10667  1332]\n",
            " [ 1055   510]]\n",
            "\n",
            "Accuracy score:\n",
            " 0.8240194632851666\n",
            "\n",
            "Classification Report:\n",
            "               precision    recall  f1-score   support\n",
            "\n",
            "           0       0.91      0.89      0.90     11999\n",
            "           1       0.28      0.33      0.30      1565\n",
            "\n",
            "    accuracy                           0.82     13564\n",
            "   macro avg       0.59      0.61      0.60     13564\n",
            "weighted avg       0.84      0.82      0.83     13564\n",
            "\n"
          ],
          "name": "stdout"
        }
      ]
    },
    {
      "cell_type": "markdown",
      "metadata": {
        "id": "PY4tSJ9WL3OS"
      },
      "source": [
        "### 3. KNN"
      ]
    },
    {
      "cell_type": "code",
      "metadata": {
        "id": "kILcUpKyL6Xi"
      },
      "source": [
        "KNN = KNeighborsClassifier()"
      ],
      "execution_count": 136,
      "outputs": []
    },
    {
      "cell_type": "code",
      "metadata": {
        "id": "ycV033oZL25H",
        "outputId": "70129785-3533-4eda-e0a9-0ae1eb49b2e7",
        "colab": {
          "base_uri": "https://localhost:8080/",
          "height": 323
        }
      },
      "source": [
        "# Fitting the model\n",
        "KNN.fit(X_train, y_train)\n",
        "\n",
        "y_pred = KNN.predict(X_test)\n",
        "\n",
        "# Confusion Matrix\n",
        "print('\\nConfusion Matrix:\\n', confusion_matrix(y_test, y_pred))\n",
        "\n",
        "KNN_Accuracy = accuracy_score(y_test, y_pred)\n",
        "\n",
        "# Accuracy Score\n",
        "print('\\nAccuracy score:\\n', KNN_Accuracy)\n",
        "\n",
        "# Classification Report\n",
        "print('\\nClassification Report:\\n', classification_report(y_test, y_pred))"
      ],
      "execution_count": 176,
      "outputs": [
        {
          "output_type": "stream",
          "text": [
            "\n",
            "Confusion Matrix:\n",
            " [[11665   334]\n",
            " [ 1274   291]]\n",
            "\n",
            "Accuracy score:\n",
            " 0.8814508994396933\n",
            "\n",
            "Classification Report:\n",
            "               precision    recall  f1-score   support\n",
            "\n",
            "           0       0.90      0.97      0.94     11999\n",
            "           1       0.47      0.19      0.27      1565\n",
            "\n",
            "    accuracy                           0.88     13564\n",
            "   macro avg       0.68      0.58      0.60     13564\n",
            "weighted avg       0.85      0.88      0.86     13564\n",
            "\n"
          ],
          "name": "stdout"
        }
      ]
    },
    {
      "cell_type": "markdown",
      "metadata": {
        "id": "PEmbaM2IMVzM"
      },
      "source": [
        "### 4. SVC Model"
      ]
    },
    {
      "cell_type": "code",
      "metadata": {
        "id": "_wb9Ep4uMY-B"
      },
      "source": [
        "svc = SVC()"
      ],
      "execution_count": 140,
      "outputs": []
    },
    {
      "cell_type": "code",
      "metadata": {
        "id": "0T_gfQGyMQ1z",
        "outputId": "fbcdedc2-0c68-4f7c-ad8b-baa64172d37b",
        "colab": {
          "base_uri": "https://localhost:8080/",
          "height": 323
        }
      },
      "source": [
        "# Fitting the model\n",
        "svc.fit(X_train, y_train)\n",
        "\n",
        "y_pred = svc.predict(X_test)\n",
        "\n",
        "# Confusion Matrix\n",
        "print('\\nConfusion Matrix:\\n', confusion_matrix(y_test, y_pred))\n",
        "\n",
        "SVC_Accuracy = accuracy_score(y_test, y_pred)\n",
        "\n",
        "# Accuracy Score\n",
        "print('\\nAccuracy score:\\n', SVC_Accuracy)\n",
        "\n",
        "# Classification Report\n",
        "print('\\nClassification Report:\\n', classification_report(y_test, y_pred))"
      ],
      "execution_count": 177,
      "outputs": [
        {
          "output_type": "stream",
          "text": [
            "\n",
            "Confusion Matrix:\n",
            " [[11856   143]\n",
            " [ 1287   278]]\n",
            "\n",
            "Accuracy score:\n",
            " 0.8945738720141552\n",
            "\n",
            "Classification Report:\n",
            "               precision    recall  f1-score   support\n",
            "\n",
            "           0       0.90      0.99      0.94     11999\n",
            "           1       0.66      0.18      0.28      1565\n",
            "\n",
            "    accuracy                           0.89     13564\n",
            "   macro avg       0.78      0.58      0.61     13564\n",
            "weighted avg       0.87      0.89      0.87     13564\n",
            "\n"
          ],
          "name": "stdout"
        }
      ]
    },
    {
      "cell_type": "markdown",
      "metadata": {
        "id": "geuLea7tMyYW"
      },
      "source": [
        "### 5. Decision tree"
      ]
    },
    {
      "cell_type": "code",
      "metadata": {
        "id": "ksJpeh8ZM1YW"
      },
      "source": [
        "DecisionTree = DecisionTreeClassifier(criterion='gini', random_state=1)"
      ],
      "execution_count": 148,
      "outputs": []
    },
    {
      "cell_type": "code",
      "metadata": {
        "id": "io2w3KOLMt4k",
        "outputId": "8453a952-72e8-46c3-d1d4-22878c73a71b",
        "colab": {
          "base_uri": "https://localhost:8080/",
          "height": 323
        }
      },
      "source": [
        "# Fitting the model\n",
        "DecisionTree.fit(X_train, y_train)\n",
        "\n",
        "y_pred = DecisionTree.predict(X_test)\n",
        "\n",
        "# Confusion Matrix\n",
        "print('\\nConfusion Matrix:\\n', confusion_matrix(y_test, y_pred))\n",
        "\n",
        "DT_Accuracy = accuracy_score(y_test, y_pred)\n",
        "\n",
        "# Accuracy Score\n",
        "print('\\nAccuracy score:\\n', DT_Accuracy)\n",
        "\n",
        "# Classification Report\n",
        "print('\\nClassification Report:\\n', classification_report(y_test, y_pred))"
      ],
      "execution_count": 178,
      "outputs": [
        {
          "output_type": "stream",
          "text": [
            "\n",
            "Confusion Matrix:\n",
            " [[10820  1179]\n",
            " [ 1184   381]]\n",
            "\n",
            "Accuracy score:\n",
            " 0.8257888528457682\n",
            "\n",
            "Classification Report:\n",
            "               precision    recall  f1-score   support\n",
            "\n",
            "           0       0.90      0.90      0.90     11999\n",
            "           1       0.24      0.24      0.24      1565\n",
            "\n",
            "    accuracy                           0.83     13564\n",
            "   macro avg       0.57      0.57      0.57     13564\n",
            "weighted avg       0.83      0.83      0.83     13564\n",
            "\n"
          ],
          "name": "stdout"
        }
      ]
    },
    {
      "cell_type": "markdown",
      "metadata": {
        "id": "iyp4nsbENLhV"
      },
      "source": [
        "#### Feature Import Test for decision Tree"
      ]
    },
    {
      "cell_type": "code",
      "metadata": {
        "id": "py5ftUXxNB41",
        "outputId": "0c70e45e-a9be-4785-e5d6-819896f80ac6",
        "colab": {
          "base_uri": "https://localhost:8080/",
          "height": 328
        }
      },
      "source": [
        "xvar = df2.drop('Target', axis=1)\n",
        "feature_cols =  xvar.columns\n",
        "feat_imp = DecisionTree.feature_importances_\n",
        "feat_imp_dict = dict(zip(feature_cols, feat_imp))\n",
        "feat_imp = pd.DataFrame.from_dict(feat_imp_dict, orient='index')\n",
        "feat_imp.sort_values(by = 0, ascending=False)"
      ],
      "execution_count": 179,
      "outputs": [
        {
          "output_type": "execute_result",
          "data": {
            "text/html": [
              "<div>\n",
              "<style scoped>\n",
              "    .dataframe tbody tr th:only-of-type {\n",
              "        vertical-align: middle;\n",
              "    }\n",
              "\n",
              "    .dataframe tbody tr th {\n",
              "        vertical-align: top;\n",
              "    }\n",
              "\n",
              "    .dataframe thead th {\n",
              "        text-align: right;\n",
              "    }\n",
              "</style>\n",
              "<table border=\"1\" class=\"dataframe\">\n",
              "  <thead>\n",
              "    <tr style=\"text-align: right;\">\n",
              "      <th></th>\n",
              "      <th>0</th>\n",
              "    </tr>\n",
              "  </thead>\n",
              "  <tbody>\n",
              "    <tr>\n",
              "      <th>balance</th>\n",
              "      <td>0.444273</td>\n",
              "    </tr>\n",
              "    <tr>\n",
              "      <th>age</th>\n",
              "      <td>0.260087</td>\n",
              "    </tr>\n",
              "    <tr>\n",
              "      <th>poutcome</th>\n",
              "      <td>0.091608</td>\n",
              "    </tr>\n",
              "    <tr>\n",
              "      <th>campaign</th>\n",
              "      <td>0.072900</td>\n",
              "    </tr>\n",
              "    <tr>\n",
              "      <th>marital</th>\n",
              "      <td>0.042087</td>\n",
              "    </tr>\n",
              "    <tr>\n",
              "      <th>previous</th>\n",
              "      <td>0.034786</td>\n",
              "    </tr>\n",
              "    <tr>\n",
              "      <th>loan</th>\n",
              "      <td>0.028816</td>\n",
              "    </tr>\n",
              "    <tr>\n",
              "      <th>housing</th>\n",
              "      <td>0.020604</td>\n",
              "    </tr>\n",
              "    <tr>\n",
              "      <th>default</th>\n",
              "      <td>0.004840</td>\n",
              "    </tr>\n",
              "  </tbody>\n",
              "</table>\n",
              "</div>"
            ],
            "text/plain": [
              "                 0\n",
              "balance   0.444273\n",
              "age       0.260087\n",
              "poutcome  0.091608\n",
              "campaign  0.072900\n",
              "marital   0.042087\n",
              "previous  0.034786\n",
              "loan      0.028816\n",
              "housing   0.020604\n",
              "default   0.004840"
            ]
          },
          "metadata": {
            "tags": []
          },
          "execution_count": 179
        }
      ]
    },
    {
      "cell_type": "markdown",
      "metadata": {
        "id": "rp9HIIRHP21y"
      },
      "source": [
        "### 6. Bagging Ensemble Model"
      ]
    },
    {
      "cell_type": "code",
      "metadata": {
        "id": "K_kUWhM4OE1d"
      },
      "source": [
        "bag = BaggingClassifier(base_estimator=DecisionTree, n_estimators=500, random_state=1)"
      ],
      "execution_count": 160,
      "outputs": []
    },
    {
      "cell_type": "code",
      "metadata": {
        "id": "nbRI-tnaQQrz",
        "outputId": "0e04b995-91c3-49fa-cc88-2b0393d8415c",
        "colab": {
          "base_uri": "https://localhost:8080/",
          "height": 323
        }
      },
      "source": [
        "# Fitting the model\n",
        "bag.fit(X_train, y_train)\n",
        "\n",
        "y_pred = bag.predict(X_test)\n",
        "\n",
        "# Confusion Matrix\n",
        "print('\\nConfusion Matrix:\\n', confusion_matrix(y_test, y_pred))\n",
        "\n",
        "BAG_Accuracy = accuracy_score(y_test, y_pred)\n",
        "\n",
        "# Accuracy Score\n",
        "print('\\nAccuracy score:\\n', BAG_Accuracy)\n",
        "\n",
        "# Classification Report\n",
        "print('\\nClassification Report:\\n', classification_report(y_test, y_pred))"
      ],
      "execution_count": 180,
      "outputs": [
        {
          "output_type": "stream",
          "text": [
            "\n",
            "Confusion Matrix:\n",
            " [[11549   450]\n",
            " [ 1231   334]]\n",
            "\n",
            "Accuracy score:\n",
            " 0.8760690061928634\n",
            "\n",
            "Classification Report:\n",
            "               precision    recall  f1-score   support\n",
            "\n",
            "           0       0.90      0.96      0.93     11999\n",
            "           1       0.43      0.21      0.28      1565\n",
            "\n",
            "    accuracy                           0.88     13564\n",
            "   macro avg       0.66      0.59      0.61     13564\n",
            "weighted avg       0.85      0.88      0.86     13564\n",
            "\n"
          ],
          "name": "stdout"
        }
      ]
    },
    {
      "cell_type": "markdown",
      "metadata": {
        "id": "yBrTuvf_QobB"
      },
      "source": [
        "### 7. Adaptive Boost Ensemble"
      ]
    },
    {
      "cell_type": "code",
      "metadata": {
        "id": "schZ9Y_EQsra"
      },
      "source": [
        "ada = AdaBoostClassifier(base_estimator=DecisionTree, n_estimators=500, random_state=1)"
      ],
      "execution_count": 164,
      "outputs": []
    },
    {
      "cell_type": "code",
      "metadata": {
        "id": "k5tkpxJRQ9Ie",
        "outputId": "6291e54f-fad0-4f23-c60a-d3ad4a3a2fe8",
        "colab": {
          "base_uri": "https://localhost:8080/",
          "height": 323
        }
      },
      "source": [
        "# Fitting the model\n",
        "ada.fit(X_train, y_train)\n",
        "\n",
        "y_pred = ada.predict(X_test)\n",
        "\n",
        "# Confusion Matrix\n",
        "print('\\nConfusion Matrix:\\n', confusion_matrix(y_test, y_pred))\n",
        "\n",
        "ADA_Accuracy = accuracy_score(y_test, y_pred)\n",
        "\n",
        "# Accuracy Score\n",
        "print('\\nAccuracy score:\\n', ADA_Accuracy)\n",
        "\n",
        "# Classification Report\n",
        "print('\\nClassification Report:\\n', classification_report(y_test, y_pred))"
      ],
      "execution_count": 181,
      "outputs": [
        {
          "output_type": "stream",
          "text": [
            "\n",
            "Confusion Matrix:\n",
            " [[11213   786]\n",
            " [ 1203   362]]\n",
            "\n",
            "Accuracy score:\n",
            " 0.853361840165143\n",
            "\n",
            "Classification Report:\n",
            "               precision    recall  f1-score   support\n",
            "\n",
            "           0       0.90      0.93      0.92     11999\n",
            "           1       0.32      0.23      0.27      1565\n",
            "\n",
            "    accuracy                           0.85     13564\n",
            "   macro avg       0.61      0.58      0.59     13564\n",
            "weighted avg       0.84      0.85      0.84     13564\n",
            "\n"
          ],
          "name": "stdout"
        }
      ]
    },
    {
      "cell_type": "markdown",
      "metadata": {
        "id": "Us5sXsEpRaZ0"
      },
      "source": [
        "### 8. Random Forest"
      ]
    },
    {
      "cell_type": "code",
      "metadata": {
        "id": "4V93ls2nRBt0"
      },
      "source": [
        "RandomF = RandomForestClassifier(n_estimators=500, random_state=1, max_features=3)"
      ],
      "execution_count": 166,
      "outputs": []
    },
    {
      "cell_type": "code",
      "metadata": {
        "id": "eqYbsbkRRo4W",
        "outputId": "88f4d645-90b2-4840-d57c-f31195100393",
        "colab": {
          "base_uri": "https://localhost:8080/",
          "height": 323
        }
      },
      "source": [
        "# Fitting the model\n",
        "RandomF.fit(X_train, y_train)\n",
        "\n",
        "y_pred = RandomF.predict(X_test)\n",
        "\n",
        "# Confusion Matrix\n",
        "print('\\nConfusion Matrix:\\n', confusion_matrix(y_test, y_pred))\n",
        "\n",
        "RF_Accuracy = accuracy_score(y_test, y_pred)\n",
        "\n",
        "# Accuracy Score\n",
        "print('\\nAccuracy score:\\n', RF_Accuracy)\n",
        "\n",
        "# Classification Report\n",
        "print('\\nClassification Report:\\n', classification_report(y_test, y_pred))"
      ],
      "execution_count": 182,
      "outputs": [
        {
          "output_type": "stream",
          "text": [
            "\n",
            "Confusion Matrix:\n",
            " [[11527   472]\n",
            " [ 1227   338]]\n",
            "\n",
            "Accuracy score:\n",
            " 0.8747419640224122\n",
            "\n",
            "Classification Report:\n",
            "               precision    recall  f1-score   support\n",
            "\n",
            "           0       0.90      0.96      0.93     11999\n",
            "           1       0.42      0.22      0.28      1565\n",
            "\n",
            "    accuracy                           0.87     13564\n",
            "   macro avg       0.66      0.59      0.61     13564\n",
            "weighted avg       0.85      0.87      0.86     13564\n",
            "\n"
          ],
          "name": "stdout"
        }
      ]
    },
    {
      "cell_type": "markdown",
      "metadata": {
        "id": "ELrm2ojnT1dI"
      },
      "source": [
        "### 9. Gradient Boost Ensemble"
      ]
    },
    {
      "cell_type": "code",
      "metadata": {
        "id": "jR-AI1RJUCUm"
      },
      "source": [
        "Grad_Boost = GradientBoostingClassifier(n_estimators=100, random_state=2)"
      ],
      "execution_count": 183,
      "outputs": []
    },
    {
      "cell_type": "code",
      "metadata": {
        "id": "Cw85H5ylT_w8",
        "outputId": "1ee0d7ef-12bf-4016-c49e-886fdc556774",
        "colab": {
          "base_uri": "https://localhost:8080/",
          "height": 323
        }
      },
      "source": [
        "# Fitting the model\n",
        "Grad_Boost.fit(X_train, y_train)\n",
        "\n",
        "y_pred = Grad_Boost.predict(X_test)\n",
        "\n",
        "# Confusion Matrix\n",
        "print('\\nConfusion Matrix:\\n', confusion_matrix(y_test, y_pred))\n",
        "\n",
        "GB_Accuracy = accuracy_score(y_test, y_pred)\n",
        "\n",
        "# Accuracy Score\n",
        "print('\\nAccuracy score:\\n', GB_Accuracy)\n",
        "\n",
        "# Classification Report\n",
        "print('\\nClassification Report:\\n', classification_report(y_test, y_pred))"
      ],
      "execution_count": 184,
      "outputs": [
        {
          "output_type": "stream",
          "text": [
            "\n",
            "Confusion Matrix:\n",
            " [[11901    98]\n",
            " [ 1331   234]]\n",
            "\n",
            "Accuracy score:\n",
            " 0.8946475965791801\n",
            "\n",
            "Classification Report:\n",
            "               precision    recall  f1-score   support\n",
            "\n",
            "           0       0.90      0.99      0.94     11999\n",
            "           1       0.70      0.15      0.25      1565\n",
            "\n",
            "    accuracy                           0.89     13564\n",
            "   macro avg       0.80      0.57      0.60     13564\n",
            "weighted avg       0.88      0.89      0.86     13564\n",
            "\n"
          ],
          "name": "stdout"
        }
      ]
    },
    {
      "cell_type": "markdown",
      "metadata": {
        "id": "CcIDmM7dRyxa"
      },
      "source": [
        "# Model With Accuracy Sources:"
      ]
    },
    {
      "cell_type": "code",
      "metadata": {
        "id": "EeEjVZMeRxpS"
      },
      "source": [
        "scores = [(\"Logistic Regression\", LR_Accuracy), \n",
        "          (\"Naive Bayes\", NB_Accuracy),\n",
        "          (\"KNN\", KNN_Accuracy),\n",
        "          (\"SVC\", SVC_Accuracy),\n",
        "          (\"Decision Tree\", DT_Accuracy),\n",
        "          (\"Bagging\", BAG_Accuracy),\n",
        "          (\"Adaboost\", ADA_Accuracy),\n",
        "          (\"Random Forest\", RF_Accuracy),\n",
        "          (\"Gradient Boosting\", GB_Accuracy)]"
      ],
      "execution_count": 193,
      "outputs": []
    },
    {
      "cell_type": "code",
      "metadata": {
        "id": "xv-3X38SUWZk"
      },
      "source": [
        "scores = pd.DataFrame(scores, columns=['Model', 'Accuracy Score'])"
      ],
      "execution_count": 194,
      "outputs": []
    },
    {
      "cell_type": "code",
      "metadata": {
        "id": "qpcmq8GXUfqr",
        "outputId": "d4083812-a7da-4680-8faf-fc6984180717",
        "colab": {
          "base_uri": "https://localhost:8080/",
          "height": 396
        }
      },
      "source": [
        "print(\"Current Scores, with Outliers replaced with mean:\\n\\n\\n\")\n",
        "sorted_scores = scores.sort_values(by='Accuracy Score', ascending=False)\n",
        "sorted_scores"
      ],
      "execution_count": 223,
      "outputs": [
        {
          "output_type": "stream",
          "text": [
            "Current Scores, with Outliers replaced with mean:\n",
            "\n",
            "\n",
            "\n"
          ],
          "name": "stdout"
        },
        {
          "output_type": "execute_result",
          "data": {
            "text/html": [
              "<div>\n",
              "<style scoped>\n",
              "    .dataframe tbody tr th:only-of-type {\n",
              "        vertical-align: middle;\n",
              "    }\n",
              "\n",
              "    .dataframe tbody tr th {\n",
              "        vertical-align: top;\n",
              "    }\n",
              "\n",
              "    .dataframe thead th {\n",
              "        text-align: right;\n",
              "    }\n",
              "</style>\n",
              "<table border=\"1\" class=\"dataframe\">\n",
              "  <thead>\n",
              "    <tr style=\"text-align: right;\">\n",
              "      <th></th>\n",
              "      <th>Model</th>\n",
              "      <th>Accuracy Score</th>\n",
              "    </tr>\n",
              "  </thead>\n",
              "  <tbody>\n",
              "    <tr>\n",
              "      <th>0</th>\n",
              "      <td>Logistic Regression</td>\n",
              "      <td>0.894942</td>\n",
              "    </tr>\n",
              "    <tr>\n",
              "      <th>8</th>\n",
              "      <td>Gradient Boosting</td>\n",
              "      <td>0.894648</td>\n",
              "    </tr>\n",
              "    <tr>\n",
              "      <th>3</th>\n",
              "      <td>SVC</td>\n",
              "      <td>0.894574</td>\n",
              "    </tr>\n",
              "    <tr>\n",
              "      <th>2</th>\n",
              "      <td>KNN</td>\n",
              "      <td>0.881451</td>\n",
              "    </tr>\n",
              "    <tr>\n",
              "      <th>5</th>\n",
              "      <td>Bagging</td>\n",
              "      <td>0.876069</td>\n",
              "    </tr>\n",
              "    <tr>\n",
              "      <th>7</th>\n",
              "      <td>Random Forest</td>\n",
              "      <td>0.874742</td>\n",
              "    </tr>\n",
              "    <tr>\n",
              "      <th>6</th>\n",
              "      <td>Adaboost</td>\n",
              "      <td>0.853362</td>\n",
              "    </tr>\n",
              "    <tr>\n",
              "      <th>4</th>\n",
              "      <td>Decision Tree</td>\n",
              "      <td>0.825789</td>\n",
              "    </tr>\n",
              "    <tr>\n",
              "      <th>1</th>\n",
              "      <td>Naive Bayes</td>\n",
              "      <td>0.824019</td>\n",
              "    </tr>\n",
              "  </tbody>\n",
              "</table>\n",
              "</div>"
            ],
            "text/plain": [
              "                 Model  Accuracy Score\n",
              "0  Logistic Regression        0.894942\n",
              "8    Gradient Boosting        0.894648\n",
              "3                  SVC        0.894574\n",
              "2                  KNN        0.881451\n",
              "5              Bagging        0.876069\n",
              "7        Random Forest        0.874742\n",
              "6             Adaboost        0.853362\n",
              "4        Decision Tree        0.825789\n",
              "1          Naive Bayes        0.824019"
            ]
          },
          "metadata": {
            "tags": []
          },
          "execution_count": 223
        }
      ]
    },
    {
      "cell_type": "code",
      "metadata": {
        "id": "t-MINu8gYyP-",
        "outputId": "1fae493f-5ef2-4983-b7fa-900b8fb5b24b",
        "colab": {
          "base_uri": "https://localhost:8080/",
          "height": 365
        }
      },
      "source": [
        "sns.lineplot(x=scores['Model'],y=scores['Accuracy Score'],data=scores,markers=True, dashes=False) #Countplot of Scores\n",
        "plt.xticks(rotation=90)\n",
        "plt.show();"
      ],
      "execution_count": 226,
      "outputs": [
        {
          "output_type": "display_data",
          "data": {
            "image/png": "[encoded data removed]",
            "text/plain": [
              "<Figure size 432x288 with 1 Axes>"
            ]
          },
          "metadata": {
            "tags": [],
            "needs_background": "light"
          }
        }
      ]
    }
  ]
}