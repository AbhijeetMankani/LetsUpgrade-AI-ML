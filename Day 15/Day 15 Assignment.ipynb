{
  "nbformat": 4,
  "nbformat_minor": 0,
  "metadata": {
    "kernelspec": {
      "display_name": "Python 3",
      "language": "python",
      "name": "python3"
    },
    "language_info": {
      "codemirror_mode": {
        "name": "ipython",
        "version": 3
      },
      "file_extension": ".py",
      "mimetype": "text/x-python",
      "name": "python",
      "nbconvert_exporter": "python",
      "pygments_lexer": "ipython3",
      "version": "3.7.4"
    },
    "colab": {
      "name": "Day 15 Assignment.ipynb",
      "provenance": [],
      "collapsed_sections": []
    }
  },
  "cells": [
    {
      "cell_type": "code",
      "metadata": {
        "id": "nyUV5R619yKH",
        "colab_type": "code",
        "colab": {}
      },
      "source": [
        "import numpy as np"
      ],
      "execution_count": 11,
      "outputs": []
    },
    {
      "cell_type": "markdown",
      "metadata": {
        "id": "zcPJ4uQ09lNh",
        "colab_type": "text"
      },
      "source": [
        "# 1. Create a 3x3x3 array with random values "
      ]
    },
    {
      "cell_type": "code",
      "metadata": {
        "id": "1-8x2vaH9lNi",
        "colab_type": "code",
        "colab": {
          "base_uri": "https://localhost:8080/",
          "height": 208
        },
        "outputId": "6bb3f854-3f96-414e-e3e2-026619fd1b80"
      },
      "source": [
        "arr1 = np.random.rand(3, 3, 3)\n",
        "print(arr1)"
      ],
      "execution_count": 23,
      "outputs": [
        {
          "output_type": "stream",
          "text": [
            "[[[0.41999805 0.36052152 0.08705155]\n",
            "  [0.24529272 0.2541436  0.42785775]\n",
            "  [0.64508858 0.26412175 0.08956575]]\n",
            "\n",
            " [[0.67113869 0.20422648 0.63901676]\n",
            "  [0.71937719 0.32789868 0.16534628]\n",
            "  [0.05496171 0.96923157 0.92549015]]\n",
            "\n",
            " [[0.43326922 0.54417395 0.306884  ]\n",
            "  [0.27641081 0.71797527 0.37624746]\n",
            "  [0.71150475 0.24729561 0.76412909]]]\n"
          ],
          "name": "stdout"
        }
      ]
    },
    {
      "cell_type": "markdown",
      "metadata": {
        "id": "UoxQkcIJ9lNp",
        "colab_type": "text"
      },
      "source": [
        "# 2.Create a 5x5 matrix with values 1,2,3,4 just below the diagonal"
      ]
    },
    {
      "cell_type": "code",
      "metadata": {
        "id": "OY0dU5Vg9lNq",
        "colab_type": "code",
        "colab": {
          "base_uri": "https://localhost:8080/",
          "height": 104
        },
        "outputId": "3cbbb35b-44c6-43ad-8f7f-7e3b2465112d"
      },
      "source": [
        "arr2 = np.zeros([5, 5])\n",
        "arr2[1, 0] = 1\n",
        "arr2[2, 1] = 2\n",
        "arr2[3, 2] = 3\n",
        "arr2[4, 3] = 4\n",
        "print(arr2)"
      ],
      "execution_count": 13,
      "outputs": [
        {
          "output_type": "stream",
          "text": [
            "[[0. 0. 0. 0. 0.]\n",
            " [1. 0. 0. 0. 0.]\n",
            " [0. 2. 0. 0. 0.]\n",
            " [0. 0. 3. 0. 0.]\n",
            " [0. 0. 0. 4. 0.]]\n"
          ],
          "name": "stdout"
        }
      ]
    },
    {
      "cell_type": "markdown",
      "metadata": {
        "id": "TqndnpZq9lNu",
        "colab_type": "text"
      },
      "source": [
        "# 3.Create a 8x8 matrix and fill it with a checkerboard pattern"
      ]
    },
    {
      "cell_type": "code",
      "metadata": {
        "id": "o2fEiWS-9lNv",
        "colab_type": "code",
        "colab": {
          "base_uri": "https://localhost:8080/",
          "height": 156
        },
        "outputId": "55041174-a436-4de2-addb-29678e286114"
      },
      "source": [
        "arr3 = np.full([8, 8], 0)\n",
        "\n",
        "for i in range(8):\n",
        "  for j in range(8):\n",
        "    if((i+j)%2==0):\n",
        "      arr3[i, j] = 1\n",
        "\n",
        "print(arr3)"
      ],
      "execution_count": 123,
      "outputs": [
        {
          "output_type": "stream",
          "text": [
            "[[1 0 1 0 1 0 1 0]\n",
            " [0 1 0 1 0 1 0 1]\n",
            " [1 0 1 0 1 0 1 0]\n",
            " [0 1 0 1 0 1 0 1]\n",
            " [1 0 1 0 1 0 1 0]\n",
            " [0 1 0 1 0 1 0 1]\n",
            " [1 0 1 0 1 0 1 0]\n",
            " [0 1 0 1 0 1 0 1]]\n"
          ],
          "name": "stdout"
        }
      ]
    },
    {
      "cell_type": "markdown",
      "metadata": {
        "id": "X6mpahvS9lN0",
        "colab_type": "text"
      },
      "source": [
        "# 4. Normalize a 5x5 random matrix"
      ]
    },
    {
      "cell_type": "code",
      "metadata": {
        "id": "W6ETCC0s9lN2",
        "colab_type": "code",
        "colab": {
          "base_uri": "https://localhost:8080/",
          "height": 104
        },
        "outputId": "69789a86-3d15-47ff-decd-d03639d9c850"
      },
      "source": [
        "arr4 = np.random.randint(0,100, size=[5, 5])\n",
        "norm = arr4/(100)\n",
        "print(norm)"
      ],
      "execution_count": 78,
      "outputs": [
        {
          "output_type": "stream",
          "text": [
            "[[0.18 0.14 0.82 0.98 0.23]\n",
            " [0.69 0.11 0.57 0.26 0.24]\n",
            " [0.36 0.59 0.89 0.67 0.01]\n",
            " [0.52 0.39 0.3  0.13 0.71]\n",
            " [0.26 0.75 0.81 0.42 0.06]]\n"
          ],
          "name": "stdout"
        }
      ]
    },
    {
      "cell_type": "markdown",
      "metadata": {
        "id": "fA1LNY099lN6",
        "colab_type": "text"
      },
      "source": [
        "# 5.  How to find common values between two arrays?"
      ]
    },
    {
      "cell_type": "code",
      "metadata": {
        "id": "GPFAijQv9lN6",
        "colab_type": "code",
        "colab": {
          "base_uri": "https://localhost:8080/",
          "height": 34
        },
        "outputId": "4e544ec4-4127-4df5-9e50-d7896ca35ad1"
      },
      "source": [
        "a1 = np.array([1, 3, 4, 4, 5, 7, 9])\n",
        "a2 = np.array([4, 6, 3, 9, 5, 7, 8])\n",
        "\n",
        "print(np.intersect1d(a1, a2))"
      ],
      "execution_count": 37,
      "outputs": [
        {
          "output_type": "stream",
          "text": [
            "[3 4 5 7 9]\n"
          ],
          "name": "stdout"
        }
      ]
    },
    {
      "cell_type": "markdown",
      "metadata": {
        "id": "gR10zMQ99lOB",
        "colab_type": "text"
      },
      "source": [
        "# 6.How to get the dates of yesterday, today and tomorrow?"
      ]
    },
    {
      "cell_type": "code",
      "metadata": {
        "id": "Q11MgCRd9lOC",
        "colab_type": "code",
        "colab": {
          "base_uri": "https://localhost:8080/",
          "height": 69
        },
        "outputId": "086c169d-f7b3-4cd7-aac2-a573e3cb598c"
      },
      "source": [
        "import datetime\n",
        "\n",
        "today = int(datetime.datetime.now().strftime(\"%d\"))\n",
        "\n",
        "yesterday = today - 1\n",
        "tomorrow = today + 1\n",
        "\n",
        "print(\"Yesterday: \", yesterday)\n",
        "print(\"Today: \", today)\n",
        "print(\"Tomorrow: \", tomorrow)"
      ],
      "execution_count": 128,
      "outputs": [
        {
          "output_type": "stream",
          "text": [
            "Yesterday:  24\n",
            "Today:  25\n",
            "Tomorrow:  26\n"
          ],
          "name": "stdout"
        }
      ]
    },
    {
      "cell_type": "markdown",
      "metadata": {
        "id": "Ac1WfJwY9lOI",
        "colab_type": "text"
      },
      "source": [
        "# 7. Consider two random array A and B, check if they are equal"
      ]
    },
    {
      "cell_type": "code",
      "metadata": {
        "id": "-R_YBDWN9lOJ",
        "colab_type": "code",
        "colab": {
          "base_uri": "https://localhost:8080/",
          "height": 34
        },
        "outputId": "5a0c109a-4d8e-4c31-bc33-958055c44c7a"
      },
      "source": [
        "A = np.array([1, 2, 3, 4, 8])\n",
        "\n",
        "B = np.array([1, 2, 3, 4, 8])\n",
        "\n",
        "list(A) == list(B)"
      ],
      "execution_count": 39,
      "outputs": [
        {
          "output_type": "execute_result",
          "data": {
            "text/plain": [
              "True"
            ]
          },
          "metadata": {
            "tags": []
          },
          "execution_count": 39
        }
      ]
    },
    {
      "cell_type": "markdown",
      "metadata": {
        "id": "nDC944R79lOO",
        "colab_type": "text"
      },
      "source": [
        "# 8.Create random vector of size 10 and replace the maximum value by 0 "
      ]
    },
    {
      "cell_type": "code",
      "metadata": {
        "id": "C9cJvSpd9lOP",
        "colab_type": "code",
        "colab": {
          "base_uri": "https://localhost:8080/",
          "height": 86
        },
        "outputId": "f4ff2e02-79c1-433b-a07a-f39b6542fba8"
      },
      "source": [
        "rand_array = np.random.rand(10)\n",
        "\n",
        "print(rand_array)\n",
        "rand_array = np.where(rand_array==rand_array.max(), 0, rand_array) \n",
        "print(rand_array)"
      ],
      "execution_count": 48,
      "outputs": [
        {
          "output_type": "stream",
          "text": [
            "[0.82266743 0.56843506 0.63298073 0.59119472 0.21796074 0.67516005\n",
            " 0.08511834 0.96576513 0.84487678 0.15082212]\n",
            "[0.82266743 0.56843506 0.63298073 0.59119472 0.21796074 0.67516005\n",
            " 0.08511834 0.         0.84487678 0.15082212]\n"
          ],
          "name": "stdout"
        }
      ]
    },
    {
      "cell_type": "markdown",
      "metadata": {
        "id": "_uRhaIiG9lOT",
        "colab_type": "text"
      },
      "source": [
        "# 9. How to print all the values of an array?"
      ]
    },
    {
      "cell_type": "code",
      "metadata": {
        "id": "-nIiL8P-9lOU",
        "colab_type": "code",
        "colab": {
          "base_uri": "https://localhost:8080/",
          "height": 52
        },
        "outputId": "9a70a570-fcdd-44cc-a505-66236810389f"
      },
      "source": [
        "array = np.array([[1, 2, 3, 4, 5], \n",
        "         [6, 7, 8, 9, 10]])\n",
        "print(array)"
      ],
      "execution_count": 51,
      "outputs": [
        {
          "output_type": "stream",
          "text": [
            "[[ 1  2  3  4  5]\n",
            " [ 6  7  8  9 10]]\n"
          ],
          "name": "stdout"
        }
      ]
    },
    {
      "cell_type": "markdown",
      "metadata": {
        "id": "8HP7UH_H9lOZ",
        "colab_type": "text"
      },
      "source": [
        "# 10.Subtract the mean of each row of a matrix"
      ]
    },
    {
      "cell_type": "code",
      "metadata": {
        "id": "wRYW1izo9lOa",
        "colab_type": "code",
        "colab": {
          "base_uri": "https://localhost:8080/",
          "height": 69
        },
        "outputId": "fb5842b6-daf5-4471-d675-9af10709cbce"
      },
      "source": [
        "arr10 = np.array([[1, 2, 3], \n",
        "                  [5, 6, 7], \n",
        "                  [8, 9, 10]])\n",
        "\n",
        "arr10[0] -= int(arr10.mean(1)[0])\n",
        "arr10[1] -= int(arr10.mean(1)[1])\n",
        "arr10[2] -= int(arr10.mean(1)[2])\n",
        "\n",
        "print(arr10)"
      ],
      "execution_count": 113,
      "outputs": [
        {
          "output_type": "stream",
          "text": [
            "[[-1  0  1]\n",
            " [-1  0  1]\n",
            " [-1  0  1]]\n"
          ],
          "name": "stdout"
        }
      ]
    },
    {
      "cell_type": "markdown",
      "metadata": {
        "id": "mh0fG8Pf9lOg",
        "colab_type": "text"
      },
      "source": [
        "# 11.Consider a given vector, how to add 1 to each element indexed by a second vector (be careful with repeated indices)? "
      ]
    },
    {
      "cell_type": "code",
      "metadata": {
        "id": "ocisrrnc9lOi",
        "colab_type": "code",
        "colab": {
          "base_uri": "https://localhost:8080/",
          "height": 34
        },
        "outputId": "6534cbe2-7446-41cc-efb6-fc699a09d3b9"
      },
      "source": [
        "v = np.array([2, 3, 5])\n",
        "v += 1\n",
        "print(v)"
      ],
      "execution_count": 83,
      "outputs": [
        {
          "output_type": "stream",
          "text": [
            "[3 4 6]\n"
          ],
          "name": "stdout"
        }
      ]
    },
    {
      "cell_type": "markdown",
      "metadata": {
        "id": "Wa3Bx_hf9lOp",
        "colab_type": "text"
      },
      "source": [
        "# 12.How to get the diagonal of a dot product?"
      ]
    },
    {
      "cell_type": "code",
      "metadata": {
        "id": "BGvLbp2H9lOq",
        "colab_type": "code",
        "colab": {
          "base_uri": "https://localhost:8080/",
          "height": 34
        },
        "outputId": "5084f60c-ee89-459a-eebd-7190567d00cd"
      },
      "source": [
        "arr12_1 = np.array([[1, 2, 3], \n",
        "                    [5, 6, 7], \n",
        "                    [8, 9, 10]])\n",
        "arr12_2 = np.array([[10, 11, 12], \n",
        "                    [20, 21, 22], \n",
        "                    [30, 31, 32]])\n",
        "\n",
        "dot = np.dot(arr12_1, arr12_2)\n",
        "\n",
        "diag = dot.diagonal()\n",
        "\n",
        "print(diag)"
      ],
      "execution_count": 90,
      "outputs": [
        {
          "output_type": "stream",
          "text": [
            "[140 398 614]\n"
          ],
          "name": "stdout"
        }
      ]
    },
    {
      "cell_type": "markdown",
      "metadata": {
        "id": "DRQHyjDc9lOu",
        "colab_type": "text"
      },
      "source": [
        "# 13.How to find the most frequent value in an array?"
      ]
    },
    {
      "cell_type": "code",
      "metadata": {
        "id": "X4sFAzio9lOv",
        "colab_type": "code",
        "colab": {}
      },
      "source": [
        "arr13 = np.array([3, 24, 24, 34, 214, 3, 214, 24, 214, 0.452, 2, 4])"
      ],
      "execution_count": 67,
      "outputs": []
    },
    {
      "cell_type": "markdown",
      "metadata": {
        "id": "aXcw_tRa9lOy",
        "colab_type": "text"
      },
      "source": [
        "# 14.How to get the n largest values of an array"
      ]
    },
    {
      "cell_type": "code",
      "metadata": {
        "id": "4xoeH9Oy9lOz",
        "colab_type": "code",
        "colab": {
          "base_uri": "https://localhost:8080/",
          "height": 34
        },
        "outputId": "6f3d9f4f-8045-4046-89fc-48a9ddf1df76"
      },
      "source": [
        "import pandas as pd\n",
        "\n",
        "arr14 = np.array([3, 24, 24, 34, 214, 3, 213, 132, 24, 0.452])\n",
        "\n",
        "data = pd.Series(arr14)\n",
        "\n",
        "print(data.mode()[0])"
      ],
      "execution_count": 94,
      "outputs": [
        {
          "output_type": "stream",
          "text": [
            "24.0\n"
          ],
          "name": "stdout"
        }
      ]
    },
    {
      "cell_type": "markdown",
      "metadata": {
        "id": "tmgH6Ifq9lO6",
        "colab_type": "text"
      },
      "source": [
        "# 15.How to create a record array from a regular array?"
      ]
    },
    {
      "cell_type": "code",
      "metadata": {
        "id": "qdPvx64C9lO6",
        "colab_type": "code",
        "colab": {
          "base_uri": "https://localhost:8080/",
          "height": 69
        },
        "outputId": "1c4e87f2-71ed-4284-821b-9f9403fee17c"
      },
      "source": [
        "arr15 = np.array([[1, 2, 3], \n",
        "                  [5, 6, 7], \n",
        "                  [8, 9, 10]])\n",
        "\n",
        "rec_array = np.rec.array(arr15)\n",
        "print(rec_array)"
      ],
      "execution_count": 99,
      "outputs": [
        {
          "output_type": "stream",
          "text": [
            "[[ 1  2  3]\n",
            " [ 5  6  7]\n",
            " [ 8  9 10]]\n"
          ],
          "name": "stdout"
        }
      ]
    }
  ]
}